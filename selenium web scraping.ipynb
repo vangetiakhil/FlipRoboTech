{
 "cells": [
  {
   "cell_type": "code",
   "execution_count": 172,
   "metadata": {},
   "outputs": [],
   "source": [
    "import selenium\n",
    "import pandas as pd\n",
    "from selenium import webdriver"
   ]
  },
  {
   "cell_type": "code",
   "execution_count": 173,
   "metadata": {},
   "outputs": [],
   "source": [
    "driver = webdriver.Chrome(r'C:\\Users\\AKHIL\\Downloads\\chromedriver_win32\\chromedriver.exe')"
   ]
  },
  {
   "cell_type": "markdown",
   "metadata": {},
   "source": [
    "## Q1\n",
    "Write a python program to scrape data for “Data Analyst” Job position in “Bangalore” location. You have to scrape the job-title, job-location, company_name, experience_required. \n",
    "\n",
    "You have to scrape first 10 jobs data.\n",
    "\n",
    "This task will be done in following steps:\n",
    "1. first get the webpage https://www.naukri.com/\n",
    "2. Enter “Data Analyst” in “Skill,Designations,Companies” field and enter “Bangalore” in “enter the location” field.\n",
    "3. Then click the search button.\n",
    "4. Then scrape the data for the first 10 jobs results you get.\n",
    "5. Finally create a dataframe of the scraped data.\n",
    "\n",
    "Note- All of the above steps have to be done in code. No step is to be done manually."
   ]
  },
  {
   "cell_type": "code",
   "execution_count": 174,
   "metadata": {},
   "outputs": [],
   "source": [
    "url = 'https://www.naukri.com/'\n",
    "driver.get(url)"
   ]
  },
  {
   "cell_type": "code",
   "execution_count": 175,
   "metadata": {},
   "outputs": [],
   "source": [
    "search_title = driver.find_element_by_id('qsb-keyword-sugg')\n",
    "\n",
    "search_title.send_keys('Data Analyst')"
   ]
  },
  {
   "cell_type": "code",
   "execution_count": 176,
   "metadata": {},
   "outputs": [],
   "source": [
    "search_location = driver.find_element_by_id('qsb-location-sugg')\n",
    "\n",
    "search_location.send_keys('Bangalore')"
   ]
  },
  {
   "cell_type": "code",
   "execution_count": 177,
   "metadata": {},
   "outputs": [],
   "source": [
    "search_btn = driver.find_element_by_xpath(\"//button[@class='btn']\")\n",
    "\n",
    "search_btn.click()"
   ]
  },
  {
   "cell_type": "code",
   "execution_count": 178,
   "metadata": {},
   "outputs": [
    {
     "data": {
      "text/plain": [
       "[<selenium.webdriver.remote.webelement.WebElement (session=\"94d2ba866fedf6cd9014f46270a6d31e\", element=\"29819f12-48da-4ca9-b867-8db8537b12f9\")>,\n",
       " <selenium.webdriver.remote.webelement.WebElement (session=\"94d2ba866fedf6cd9014f46270a6d31e\", element=\"4370103b-f6b8-435b-ab99-30e33328420e\")>,\n",
       " <selenium.webdriver.remote.webelement.WebElement (session=\"94d2ba866fedf6cd9014f46270a6d31e\", element=\"7d22072f-dc09-472e-b930-dd5ea929d593\")>,\n",
       " <selenium.webdriver.remote.webelement.WebElement (session=\"94d2ba866fedf6cd9014f46270a6d31e\", element=\"bb0504bd-3c0f-4184-b530-947db6a70632\")>,\n",
       " <selenium.webdriver.remote.webelement.WebElement (session=\"94d2ba866fedf6cd9014f46270a6d31e\", element=\"f66cba16-4250-4737-a7f3-5b82bcf460a7\")>,\n",
       " <selenium.webdriver.remote.webelement.WebElement (session=\"94d2ba866fedf6cd9014f46270a6d31e\", element=\"987ff939-2488-48c8-846a-d25f6e878a7f\")>,\n",
       " <selenium.webdriver.remote.webelement.WebElement (session=\"94d2ba866fedf6cd9014f46270a6d31e\", element=\"a297932f-c8ed-48eb-9aba-4a0d4200a584\")>,\n",
       " <selenium.webdriver.remote.webelement.WebElement (session=\"94d2ba866fedf6cd9014f46270a6d31e\", element=\"5d8b2bba-23cd-4de1-a13a-90141f12b4c3\")>,\n",
       " <selenium.webdriver.remote.webelement.WebElement (session=\"94d2ba866fedf6cd9014f46270a6d31e\", element=\"59ddfad8-2593-4e83-824a-31dd87d22132\")>,\n",
       " <selenium.webdriver.remote.webelement.WebElement (session=\"94d2ba866fedf6cd9014f46270a6d31e\", element=\"ae34dd63-5eea-4c8e-9da5-9d9469cf31d2\")>,\n",
       " <selenium.webdriver.remote.webelement.WebElement (session=\"94d2ba866fedf6cd9014f46270a6d31e\", element=\"df89ac1c-2d87-40ee-bc2d-3a950d865cc5\")>,\n",
       " <selenium.webdriver.remote.webelement.WebElement (session=\"94d2ba866fedf6cd9014f46270a6d31e\", element=\"8210d8cd-7a40-428f-b7a6-870180ec3789\")>,\n",
       " <selenium.webdriver.remote.webelement.WebElement (session=\"94d2ba866fedf6cd9014f46270a6d31e\", element=\"6b7e43f0-f28a-4d3a-bf36-42e4b1752aba\")>,\n",
       " <selenium.webdriver.remote.webelement.WebElement (session=\"94d2ba866fedf6cd9014f46270a6d31e\", element=\"880a8460-7121-4d21-8374-89e01561b2f3\")>,\n",
       " <selenium.webdriver.remote.webelement.WebElement (session=\"94d2ba866fedf6cd9014f46270a6d31e\", element=\"a018472c-dc61-4a96-8321-44b8aeea6508\")>,\n",
       " <selenium.webdriver.remote.webelement.WebElement (session=\"94d2ba866fedf6cd9014f46270a6d31e\", element=\"caf07b3e-faf8-49d5-a8fb-5ef8b7c9e369\")>,\n",
       " <selenium.webdriver.remote.webelement.WebElement (session=\"94d2ba866fedf6cd9014f46270a6d31e\", element=\"bb024ca3-5b9f-4d32-a345-2abde5d581ab\")>,\n",
       " <selenium.webdriver.remote.webelement.WebElement (session=\"94d2ba866fedf6cd9014f46270a6d31e\", element=\"cdec919e-040e-4aa4-ad2d-38c45a068895\")>,\n",
       " <selenium.webdriver.remote.webelement.WebElement (session=\"94d2ba866fedf6cd9014f46270a6d31e\", element=\"3bfece8c-f540-4dd9-9d1e-ea3069485be0\")>,\n",
       " <selenium.webdriver.remote.webelement.WebElement (session=\"94d2ba866fedf6cd9014f46270a6d31e\", element=\"4da69bcf-4bfc-45fb-9de2-21371e96e929\")>]"
      ]
     },
     "execution_count": 178,
     "metadata": {},
     "output_type": "execute_result"
    }
   ],
   "source": [
    "name = driver.find_elements_by_xpath(\"//a[@class='title fw500 ellipsis']\")\n",
    "\n",
    "name"
   ]
  },
  {
   "cell_type": "code",
   "execution_count": 179,
   "metadata": {},
   "outputs": [],
   "source": [
    "titles = []\n",
    "\n",
    "num = 1\n",
    "for i in name:\n",
    "    if num <=10:\n",
    "        titles.append(i.text)\n",
    "        num+=1\n",
    "    else:\n",
    "        break"
   ]
  },
  {
   "cell_type": "code",
   "execution_count": 180,
   "metadata": {},
   "outputs": [
    {
     "data": {
      "text/plain": [
       "10"
      ]
     },
     "execution_count": 180,
     "metadata": {},
     "output_type": "execute_result"
    }
   ],
   "source": [
    "len(titles)"
   ]
  },
  {
   "cell_type": "code",
   "execution_count": 181,
   "metadata": {},
   "outputs": [
    {
     "data": {
      "text/plain": [
       "['Data Scientist / Data Analyst -Business Analyst',\n",
       " 'Data Analyst',\n",
       " 'Hiring Data Analysts For E commerce Platform || WFH',\n",
       " 'Data Analyst',\n",
       " 'Data Analyst']"
      ]
     },
     "execution_count": 181,
     "metadata": {},
     "output_type": "execute_result"
    }
   ],
   "source": [
    "titles[0:5]"
   ]
  },
  {
   "cell_type": "code",
   "execution_count": 182,
   "metadata": {},
   "outputs": [
    {
     "data": {
      "text/plain": [
       "[<selenium.webdriver.remote.webelement.WebElement (session=\"94d2ba866fedf6cd9014f46270a6d31e\", element=\"5648bd77-1d45-4b9a-9546-59ae1031f3c5\")>,\n",
       " <selenium.webdriver.remote.webelement.WebElement (session=\"94d2ba866fedf6cd9014f46270a6d31e\", element=\"48836c4b-c08d-4e87-821f-8c2bb9c26ff2\")>,\n",
       " <selenium.webdriver.remote.webelement.WebElement (session=\"94d2ba866fedf6cd9014f46270a6d31e\", element=\"2bd23313-4952-4db0-b9ae-d3f89f7b725c\")>,\n",
       " <selenium.webdriver.remote.webelement.WebElement (session=\"94d2ba866fedf6cd9014f46270a6d31e\", element=\"6566a95c-9005-4d5a-9cc1-9e23488332c3\")>,\n",
       " <selenium.webdriver.remote.webelement.WebElement (session=\"94d2ba866fedf6cd9014f46270a6d31e\", element=\"57fc4be3-bf0f-4132-b9f6-5dc78caa9e30\")>,\n",
       " <selenium.webdriver.remote.webelement.WebElement (session=\"94d2ba866fedf6cd9014f46270a6d31e\", element=\"b46c7249-6cc4-44f7-ae08-070af3578285\")>,\n",
       " <selenium.webdriver.remote.webelement.WebElement (session=\"94d2ba866fedf6cd9014f46270a6d31e\", element=\"b9c741ee-e90a-4f3f-9e1e-52a88edbcd18\")>,\n",
       " <selenium.webdriver.remote.webelement.WebElement (session=\"94d2ba866fedf6cd9014f46270a6d31e\", element=\"a43e11c9-6474-4816-a35a-ad4fd9ae99c1\")>,\n",
       " <selenium.webdriver.remote.webelement.WebElement (session=\"94d2ba866fedf6cd9014f46270a6d31e\", element=\"663fdab7-601f-41a0-a57a-c761ead673e5\")>,\n",
       " <selenium.webdriver.remote.webelement.WebElement (session=\"94d2ba866fedf6cd9014f46270a6d31e\", element=\"a8397225-26bc-4dc1-b32a-f464488f663e\")>,\n",
       " <selenium.webdriver.remote.webelement.WebElement (session=\"94d2ba866fedf6cd9014f46270a6d31e\", element=\"116a86ba-b5ce-4cb2-9b69-e3a5116380fc\")>,\n",
       " <selenium.webdriver.remote.webelement.WebElement (session=\"94d2ba866fedf6cd9014f46270a6d31e\", element=\"0daafae3-4447-4bd3-8763-2ff3b380532e\")>,\n",
       " <selenium.webdriver.remote.webelement.WebElement (session=\"94d2ba866fedf6cd9014f46270a6d31e\", element=\"cd41f9d2-72d0-4662-a0f7-67e79817c966\")>,\n",
       " <selenium.webdriver.remote.webelement.WebElement (session=\"94d2ba866fedf6cd9014f46270a6d31e\", element=\"63054489-7709-4c5f-bfad-dd6765654d5c\")>,\n",
       " <selenium.webdriver.remote.webelement.WebElement (session=\"94d2ba866fedf6cd9014f46270a6d31e\", element=\"2e6d7e27-f212-42d1-827a-2bcf5ab60152\")>,\n",
       " <selenium.webdriver.remote.webelement.WebElement (session=\"94d2ba866fedf6cd9014f46270a6d31e\", element=\"163867ce-3cca-4bbc-b2c5-7486c97f46ef\")>,\n",
       " <selenium.webdriver.remote.webelement.WebElement (session=\"94d2ba866fedf6cd9014f46270a6d31e\", element=\"41a661ca-05df-4ea1-aeb1-d073d3d0c7db\")>,\n",
       " <selenium.webdriver.remote.webelement.WebElement (session=\"94d2ba866fedf6cd9014f46270a6d31e\", element=\"7a8a0e78-68db-4217-bb2a-cc45cee29a05\")>,\n",
       " <selenium.webdriver.remote.webelement.WebElement (session=\"94d2ba866fedf6cd9014f46270a6d31e\", element=\"de0907fb-9d86-4a0c-91fa-b5eb516fcac3\")>,\n",
       " <selenium.webdriver.remote.webelement.WebElement (session=\"94d2ba866fedf6cd9014f46270a6d31e\", element=\"f0b4574b-74ad-4da3-b998-366200971583\")>]"
      ]
     },
     "execution_count": 182,
     "metadata": {},
     "output_type": "execute_result"
    }
   ],
   "source": [
    "companies = driver.find_elements_by_xpath(\"//a[@class='subTitle ellipsis fleft']\")\n",
    "\n",
    "companies"
   ]
  },
  {
   "cell_type": "code",
   "execution_count": 183,
   "metadata": {},
   "outputs": [
    {
     "data": {
      "text/plain": [
       "['Inflexion Analytix Private Limited',\n",
       " 'GlaxoSmithKline Pharmaceuticals Limited',\n",
       " 'Allegis Services India Pvt. Ltd.',\n",
       " 'Shell India Markets Private Limited',\n",
       " 'Applied Materials']"
      ]
     },
     "execution_count": 183,
     "metadata": {},
     "output_type": "execute_result"
    }
   ],
   "source": [
    "company = []\n",
    "\n",
    "num = 1\n",
    "for i in companies:\n",
    "    if num <=10:\n",
    "        company.append(i.text)\n",
    "        num+=1\n",
    "    else:\n",
    "        break\n",
    "\n",
    "company[0:5]"
   ]
  },
  {
   "cell_type": "code",
   "execution_count": 184,
   "metadata": {},
   "outputs": [
    {
     "data": {
      "text/plain": [
       "['Bangalore/Bengaluru',\n",
       " 'Kolkata, Hyderabad/Secunderabad, Pune, Ahmedabad, Chennai, Bangalore/Bengaluru, Delhi / NCR, Mumbai (All Areas)',\n",
       " 'Bangalore/Bengaluru',\n",
       " 'Bangalore/Bengaluru',\n",
       " 'Mumbai, Bangalore/Bengaluru']"
      ]
     },
     "execution_count": 184,
     "metadata": {},
     "output_type": "execute_result"
    }
   ],
   "source": [
    "place = driver.find_elements_by_xpath(\"//li[@class='fleft grey-text br2 placeHolderLi location']//span\")\n",
    "\n",
    "place\n",
    "\n",
    "\n",
    "location = []\n",
    "\n",
    "num = 1\n",
    "for i in place:\n",
    "    if num <=10:\n",
    "        location.append(i.text)\n",
    "        num+=1\n",
    "    else:\n",
    "        break\n",
    "\n",
    "location[5:]"
   ]
  },
  {
   "cell_type": "code",
   "execution_count": 185,
   "metadata": {},
   "outputs": [
    {
     "data": {
      "text/plain": [
       "10"
      ]
     },
     "execution_count": 185,
     "metadata": {},
     "output_type": "execute_result"
    }
   ],
   "source": [
    "len(location)"
   ]
  },
  {
   "cell_type": "code",
   "execution_count": 186,
   "metadata": {},
   "outputs": [
    {
     "data": {
      "text/plain": [
       "['0-3 Yrs', '0-2 Yrs', '0-5 Yrs', '5-8 Yrs', '7-10 Yrs']"
      ]
     },
     "execution_count": 186,
     "metadata": {},
     "output_type": "execute_result"
    }
   ],
   "source": [
    "exp = driver.find_elements_by_xpath(\"//li[@class='fleft grey-text br2 placeHolderLi experience']//span\")\n",
    "\n",
    "exp\n",
    "\n",
    "\n",
    "experience = []\n",
    "\n",
    "num = 1\n",
    "for i in exp:\n",
    "    if num <=10:\n",
    "        experience.append(i.text)\n",
    "        num+=1\n",
    "    else:\n",
    "        break\n",
    "\n",
    "experience[0:5]"
   ]
  },
  {
   "cell_type": "code",
   "execution_count": 187,
   "metadata": {},
   "outputs": [
    {
     "data": {
      "text/plain": [
       "(10, 4)"
      ]
     },
     "execution_count": 187,
     "metadata": {},
     "output_type": "execute_result"
    }
   ],
   "source": [
    "Naukri = pd.DataFrame({'Title':titles,'Company':company,'Location':location,'Experience':experience})\n",
    "\n",
    "Naukri.shape"
   ]
  },
  {
   "cell_type": "code",
   "execution_count": 188,
   "metadata": {
    "scrolled": true
   },
   "outputs": [
    {
     "data": {
      "text/html": [
       "<div>\n",
       "<style scoped>\n",
       "    .dataframe tbody tr th:only-of-type {\n",
       "        vertical-align: middle;\n",
       "    }\n",
       "\n",
       "    .dataframe tbody tr th {\n",
       "        vertical-align: top;\n",
       "    }\n",
       "\n",
       "    .dataframe thead th {\n",
       "        text-align: right;\n",
       "    }\n",
       "</style>\n",
       "<table border=\"1\" class=\"dataframe\">\n",
       "  <thead>\n",
       "    <tr style=\"text-align: right;\">\n",
       "      <th></th>\n",
       "      <th>Title</th>\n",
       "      <th>Company</th>\n",
       "      <th>Location</th>\n",
       "      <th>Experience</th>\n",
       "    </tr>\n",
       "  </thead>\n",
       "  <tbody>\n",
       "    <tr>\n",
       "      <th>0</th>\n",
       "      <td>Data Scientist / Data Analyst -Business Analyst</td>\n",
       "      <td>Inflexion Analytix Private Limited</td>\n",
       "      <td>Mumbai, Hyderabad/Secunderabad, Pune, Gurgaon/...</td>\n",
       "      <td>0-3 Yrs</td>\n",
       "    </tr>\n",
       "    <tr>\n",
       "      <th>1</th>\n",
       "      <td>Data Analyst</td>\n",
       "      <td>GlaxoSmithKline Pharmaceuticals Limited</td>\n",
       "      <td>Bangalore/Bengaluru</td>\n",
       "      <td>0-2 Yrs</td>\n",
       "    </tr>\n",
       "    <tr>\n",
       "      <th>2</th>\n",
       "      <td>Hiring Data Analysts For E commerce Platform |...</td>\n",
       "      <td>Allegis Services India Pvt. Ltd.</td>\n",
       "      <td>Bangalore/Bengaluru</td>\n",
       "      <td>0-5 Yrs</td>\n",
       "    </tr>\n",
       "    <tr>\n",
       "      <th>3</th>\n",
       "      <td>Data Analyst</td>\n",
       "      <td>Shell India Markets Private Limited</td>\n",
       "      <td>Bangalore/Bengaluru</td>\n",
       "      <td>5-8 Yrs</td>\n",
       "    </tr>\n",
       "    <tr>\n",
       "      <th>4</th>\n",
       "      <td>Data Analyst</td>\n",
       "      <td>Applied Materials</td>\n",
       "      <td>Bangalore/Bengaluru</td>\n",
       "      <td>7-10 Yrs</td>\n",
       "    </tr>\n",
       "  </tbody>\n",
       "</table>\n",
       "</div>"
      ],
      "text/plain": [
       "                                               Title  \\\n",
       "0    Data Scientist / Data Analyst -Business Analyst   \n",
       "1                                       Data Analyst   \n",
       "2  Hiring Data Analysts For E commerce Platform |...   \n",
       "3                                       Data Analyst   \n",
       "4                                       Data Analyst   \n",
       "\n",
       "                                   Company  \\\n",
       "0       Inflexion Analytix Private Limited   \n",
       "1  GlaxoSmithKline Pharmaceuticals Limited   \n",
       "2         Allegis Services India Pvt. Ltd.   \n",
       "3      Shell India Markets Private Limited   \n",
       "4                        Applied Materials   \n",
       "\n",
       "                                            Location Experience  \n",
       "0  Mumbai, Hyderabad/Secunderabad, Pune, Gurgaon/...    0-3 Yrs  \n",
       "1                                Bangalore/Bengaluru    0-2 Yrs  \n",
       "2                                Bangalore/Bengaluru    0-5 Yrs  \n",
       "3                                Bangalore/Bengaluru    5-8 Yrs  \n",
       "4                                Bangalore/Bengaluru   7-10 Yrs  "
      ]
     },
     "execution_count": 188,
     "metadata": {},
     "output_type": "execute_result"
    }
   ],
   "source": [
    "Naukri.head()"
   ]
  },
  {
   "cell_type": "markdown",
   "metadata": {},
   "source": [
    "## Q2\n",
    "Write a python program to scrape data for “Data Scientist” Job position in “Bangalore” location. You have to scrape the job-title, job-location, company_name, full job-description. You have to scrape first 10 jobs data."
   ]
  },
  {
   "cell_type": "code",
   "execution_count": 190,
   "metadata": {},
   "outputs": [],
   "source": [
    "url = 'https://www.naukri.com/'\n",
    "driver.get(url)\n",
    "\n",
    "search_title = driver.find_element_by_id('qsb-keyword-sugg')\n",
    "\n",
    "search_title.send_keys('Data Scientist')\n",
    "\n",
    "search_location = driver.find_element_by_id('qsb-location-sugg')\n",
    "\n",
    "search_location.send_keys('Bangalore')\n",
    "\n",
    "search_btn = driver.find_element_by_xpath(\"//button[@class='btn']\")\n",
    "\n",
    "search_btn.click()"
   ]
  },
  {
   "cell_type": "code",
   "execution_count": 191,
   "metadata": {
    "scrolled": true
   },
   "outputs": [
    {
     "data": {
      "text/plain": [
       "[<selenium.webdriver.remote.webelement.WebElement (session=\"94d2ba866fedf6cd9014f46270a6d31e\", element=\"190f8d84-ec8f-4f46-8334-df46e804f324\")>,\n",
       " <selenium.webdriver.remote.webelement.WebElement (session=\"94d2ba866fedf6cd9014f46270a6d31e\", element=\"69ed4b60-bc1f-4d41-ae37-fe494c10955a\")>,\n",
       " <selenium.webdriver.remote.webelement.WebElement (session=\"94d2ba866fedf6cd9014f46270a6d31e\", element=\"90b1399e-c221-4eb9-8b58-eb12b06b0e12\")>,\n",
       " <selenium.webdriver.remote.webelement.WebElement (session=\"94d2ba866fedf6cd9014f46270a6d31e\", element=\"7c8dd311-0c96-4e4a-bb56-cd118027f6ca\")>,\n",
       " <selenium.webdriver.remote.webelement.WebElement (session=\"94d2ba866fedf6cd9014f46270a6d31e\", element=\"b8071d3c-f025-4e27-8c66-a15a8b88f1b5\")>,\n",
       " <selenium.webdriver.remote.webelement.WebElement (session=\"94d2ba866fedf6cd9014f46270a6d31e\", element=\"bc39541c-e887-4b6d-85ef-c75010963488\")>,\n",
       " <selenium.webdriver.remote.webelement.WebElement (session=\"94d2ba866fedf6cd9014f46270a6d31e\", element=\"f1c2535d-11d7-43a5-8adb-0205affe60b7\")>,\n",
       " <selenium.webdriver.remote.webelement.WebElement (session=\"94d2ba866fedf6cd9014f46270a6d31e\", element=\"a075d6eb-5e16-4fbe-a92d-4456e4a967a2\")>,\n",
       " <selenium.webdriver.remote.webelement.WebElement (session=\"94d2ba866fedf6cd9014f46270a6d31e\", element=\"f1e7e26e-2f75-4207-a524-10d5608e4417\")>,\n",
       " <selenium.webdriver.remote.webelement.WebElement (session=\"94d2ba866fedf6cd9014f46270a6d31e\", element=\"1e71bfb1-7a57-4e8c-852d-bf5a275358b6\")>,\n",
       " <selenium.webdriver.remote.webelement.WebElement (session=\"94d2ba866fedf6cd9014f46270a6d31e\", element=\"39896e2d-f8d3-46fb-b7e7-6fdc2c242a90\")>,\n",
       " <selenium.webdriver.remote.webelement.WebElement (session=\"94d2ba866fedf6cd9014f46270a6d31e\", element=\"cb809445-8107-4082-9e56-dcebe23dd7c2\")>,\n",
       " <selenium.webdriver.remote.webelement.WebElement (session=\"94d2ba866fedf6cd9014f46270a6d31e\", element=\"6cf1590b-14d9-4d68-8272-a404fea4c725\")>,\n",
       " <selenium.webdriver.remote.webelement.WebElement (session=\"94d2ba866fedf6cd9014f46270a6d31e\", element=\"8dd4ef20-d35b-49d1-8a0c-2302823ca7ad\")>,\n",
       " <selenium.webdriver.remote.webelement.WebElement (session=\"94d2ba866fedf6cd9014f46270a6d31e\", element=\"9adf69b7-3758-464d-ba70-750a1215631c\")>,\n",
       " <selenium.webdriver.remote.webelement.WebElement (session=\"94d2ba866fedf6cd9014f46270a6d31e\", element=\"7aa0d55b-c760-47b4-821b-b718d4ad2e39\")>,\n",
       " <selenium.webdriver.remote.webelement.WebElement (session=\"94d2ba866fedf6cd9014f46270a6d31e\", element=\"24aae3b3-6870-403a-a122-308d5140bfd4\")>,\n",
       " <selenium.webdriver.remote.webelement.WebElement (session=\"94d2ba866fedf6cd9014f46270a6d31e\", element=\"2c537c29-7505-49bc-bdd0-bcb81792cda9\")>,\n",
       " <selenium.webdriver.remote.webelement.WebElement (session=\"94d2ba866fedf6cd9014f46270a6d31e\", element=\"e92bb6f7-f1dd-492b-bc0f-dde8e1b77550\")>,\n",
       " <selenium.webdriver.remote.webelement.WebElement (session=\"94d2ba866fedf6cd9014f46270a6d31e\", element=\"8001e4fd-10aa-4efd-a4e5-67d8c8c7aad7\")>]"
      ]
     },
     "execution_count": 191,
     "metadata": {},
     "output_type": "execute_result"
    }
   ],
   "source": [
    "name1 = driver.find_elements_by_xpath(\"//a[@class='title fw500 ellipsis']\")\n",
    "\n",
    "name1"
   ]
  },
  {
   "cell_type": "code",
   "execution_count": 192,
   "metadata": {},
   "outputs": [
    {
     "data": {
      "text/plain": [
       "['Data Scientist / Data Analyst -Business Analyst',\n",
       " 'Senior Data Scientist | CES IT LTD | CMMI Level 5',\n",
       " 'Senior Data Scientist | CES IT LTD | CMMI Level 5',\n",
       " 'Analytics & AI Product Mgmt - Sr. Data Scientist',\n",
       " 'Senior Data Scientist']"
      ]
     },
     "execution_count": 192,
     "metadata": {},
     "output_type": "execute_result"
    }
   ],
   "source": [
    "titles1 = []\n",
    "\n",
    "num = 1\n",
    "for i in name1:\n",
    "    if num <=10:\n",
    "        titles1.append(i.text)\n",
    "        num+=1\n",
    "    else:\n",
    "        break\n",
    "        \n",
    "titles1[:5]"
   ]
  },
  {
   "cell_type": "code",
   "execution_count": 193,
   "metadata": {},
   "outputs": [
    {
     "data": {
      "text/plain": [
       "10"
      ]
     },
     "execution_count": 193,
     "metadata": {},
     "output_type": "execute_result"
    }
   ],
   "source": [
    "len(titles1)"
   ]
  },
  {
   "cell_type": "code",
   "execution_count": 194,
   "metadata": {},
   "outputs": [
    {
     "name": "stdout",
     "output_type": "stream",
     "text": [
      "['Inflexion Analytix Private Limited', 'CES Ltd.', 'CES Ltd.', 'GlaxoSmithKline Pharmaceuticals Limited', 'Vijaya Management Services']\n"
     ]
    },
    {
     "data": {
      "text/plain": [
       "10"
      ]
     },
     "execution_count": 194,
     "metadata": {},
     "output_type": "execute_result"
    }
   ],
   "source": [
    "companies1 = driver.find_elements_by_xpath(\"//a[@class='subTitle ellipsis fleft']\")\n",
    "\n",
    "companies1\n",
    "\n",
    "company1 = []\n",
    "\n",
    "num = 1\n",
    "for i in companies1:\n",
    "    if num <=10:\n",
    "        company1.append(i.text)\n",
    "        num+=1\n",
    "    else:\n",
    "        break\n",
    "\n",
    "print(company1[0:5])\n",
    "\n",
    "len(company1)"
   ]
  },
  {
   "cell_type": "code",
   "execution_count": 195,
   "metadata": {},
   "outputs": [
    {
     "name": "stdout",
     "output_type": "stream",
     "text": [
      "10\n"
     ]
    },
    {
     "data": {
      "text/plain": [
       "['Mumbai, Hyderabad/Secunderabad, Pune, Gurgaon/Gurugram, Chennai, Bangalore/Bengaluru',\n",
       " 'Kolkata, Mumbai, Hyderabad/Secunderabad, Pune, Chennai, Bangalore/Bengaluru, Delhi / NCR',\n",
       " 'Kolkata, Mumbai, Hyderabad/Secunderabad, Pune, Chennai, Bangalore/Bengaluru, Delhi / NCR',\n",
       " 'Bangalore/Bengaluru',\n",
       " 'Pune, Chennai, Bangalore/Bengaluru']"
      ]
     },
     "execution_count": 195,
     "metadata": {},
     "output_type": "execute_result"
    }
   ],
   "source": [
    "place1 = driver.find_elements_by_xpath(\"//li[@class='fleft grey-text br2 placeHolderLi location']//span\")\n",
    "\n",
    "place1\n",
    "\n",
    "\n",
    "location1 = []\n",
    "\n",
    "num = 1\n",
    "for i in place1:\n",
    "    if num <=10:\n",
    "        location1.append(i.text)\n",
    "        num+=1\n",
    "    else:\n",
    "        break\n",
    "\n",
    "print(len(location1))\n",
    "        \n",
    "location1[:5]"
   ]
  },
  {
   "cell_type": "code",
   "execution_count": 196,
   "metadata": {},
   "outputs": [],
   "source": [
    "url_a= 'https://www.naukri.com/job-listings-data-scientist-data-analyst-business-analyst-inflexion-analytix-private-limited-mumbai-hyderabad-secunderabad-pune-gurgaon-gurugram-chennai-bangalore-bengaluru-0-to-3-years-100521000368?src=jobsearchDesk&sid=16208893095762212&xp=1&px=1'\n",
    "\n",
    "driver.get(url_a)"
   ]
  },
  {
   "cell_type": "code",
   "execution_count": 197,
   "metadata": {},
   "outputs": [],
   "source": [
    "job_desc = driver.find_element_by_xpath(\"//div[@class = 'dang-inner-html']\")"
   ]
  },
  {
   "cell_type": "code",
   "execution_count": 198,
   "metadata": {
    "scrolled": true
   },
   "outputs": [
    {
     "name": "stdout",
     "output_type": "stream",
     "text": [
      "Job Role : Data Scientist/Data Analyst /Business Analyst\n",
      "\n",
      "Location : Chennai/Bangalore/Hyderabad/Pune/Mumbai/Delhi\n",
      "\n",
      "Greetings from CAIA - Center for Artificial Intelligence & Advanced Analytics\n",
      "43% of companies experienced a high deficit of skilled resources with Advanced Analytical skills and AI implementing capabilities in year 2020. CAIA gives you a great opportunity to enter the world of future technologies and Innovations- Data Science, Analytics, AI, Data Visualization and Cloud Computing.\n",
      "\n",
      "While 2020 was a year like no other, we are living in an interesting times where data is reshaping the world, and businesses are rapidly adopting technology to gain an edge over others. Hence, there's a substantial increase in demand for technology professionals who can implement systems in data science, machine learning and AI in Tier 1 and Tier 2 organization's working closely with us.\n",
      "\n",
      "To help you build a sustainable career we would like you to utilize data, software and Analytical approaches in Data Science and AI to up skill and get recruited into an organization appreciating your skilling journey.\n",
      "Applications invited from all Freshers and experienced candidates (0-3 yrs) aspiring to make a career in Artificial Intelligence and Advanced Analytics and Data Science.\n",
      "If you wish to make a shift in your career or undergo a career transition, upskilling is essential since it allows you to learn more about the domain and acquire the required skills.\n",
      "\n",
      "Call to schedule interview Monday -Saturday from 10:00 am to 7Pm\n",
      "\n",
      "Manigandan -+91 7299917200\n",
      "\n",
      "Email : manigandan@centerforaia.com\n",
      "\n",
      "What is needed from you?\n",
      "\n",
      "Freshers who wish to start their career in Analytics and AI and professionals who wish to\n",
      "upskill or change their domain to analytics and emerging technologies are free to apply.\n",
      "An Educational background in any one of the following- BE/B.Tech, ME/M Tech, MSc, BSc/MSc Maths and Statistics, B Com, BCA, BSc CS, BSC IT, MSC IT, MCA\n",
      "Skills relating to Mathematics/Statistics.\n",
      "Natural passion towards numbers, business, coding, Analytics and Artificial Intelligence, Machine Learning, visualization\n",
      "Good verbal and written communication skills\n",
      "Ability to understand domains in businesses across various sectors\n",
      "\n",
      "\n",
      "Selection procedure includes\n",
      "\n",
      "Aptitude Test & Communication Exam - Online / Offline\n",
      "SQL/Python test - Online / Offline\n",
      "\n",
      "Candidates who clears the above will have one-one discussion with our Career Guidance Manager for further evaluation and processing of your Resume.\n",
      "\n",
      "\n",
      "All the Shortlisted candidates will be eligible to continue the corporate training with CAIA\n",
      "What you can expect from us?\n",
      "\n",
      "You will get trained on the following modules for a period of 12-14 weeks:\n",
      "\n",
      "SQL & PLSQL\n",
      "Data Wrangling using Python\n",
      "Data Visualization Using Power-BI\n",
      "Statistics for Machine Learning\n",
      "Artificial Intelligence, Data Interpretation\n",
      "Supervised & Unsupervised Learning,\n",
      "NLP & Deep Learning\n",
      "Cloud Data Lake\n",
      "Business intelligence & Data Visualization\n",
      "Simulation Projects\n",
      "Expected Outcome?\n",
      "\n",
      "At the end of the Training you are expected to be well versed with the following:\n",
      "\n",
      "Analysis of large and complex data sets from multiple sources\n",
      "Development and evaluation of data analytics models, algorithms and solutions\n",
      "Understanding/implementation of ML algorithms, performance tuning and reporting\n",
      "Implementation of algorithms to mine targeted data and the ability to convert data in to a business story\n",
      "Translation of business requirements into technical requirements; Data extraction, preparation and transformation\n",
      "Identification, development and implementation of statistical techniques and algorithms that address business challenges and adds value to the organization\n",
      "Requirement Analysis and communication of findings in the form of a meaningful story with the stakeholders\n",
      "Finding analytical solutions to abstract business issues.\n",
      "Apply objective analysis of facts before coming to a conclusion\n",
      "\n",
      "About CAIA - Inflexion Analytix Private Limited\n",
      "\n",
      "Center for Artificial Intelligence and Advanced Analytics (Center for AIA) is the brainchild of experienced and visionary alumni of IIT Madras and Bombay.\n",
      "Digital leaders - 5F World and Systech Solutions have joined hands to create a venture for architecting the future of society, workforce, governments and businesses. 5F World specializes in designing solutions around digital platforms and Systech Solutions has an expertise in architecting Artificial Intelligence and Advance Analytics solutions for Fortune 500 companies.\n",
      "Our Website : http://www.centerforaia.com/\n",
      "\n",
      "https://inflexion-analytix-private-limited.business.site/?m=true\n",
      "\n",
      "Center for Artificial Intelligence & Advanced Analytics (CAIA) focuses on the following:\n",
      "\n",
      "1. Global Research on emerging trends, technologies and applications in AI and Advanced Analytics\n",
      "2. Advanced Training programs for readying the future ready workforce\n",
      "3. Solutions to herald the futuristic lifestyle and workspaces in the field of AI and Data Science.\n"
     ]
    }
   ],
   "source": [
    "print(job_desc.text)"
   ]
  },
  {
   "cell_type": "code",
   "execution_count": 199,
   "metadata": {},
   "outputs": [],
   "source": [
    "url_a= 'https://www.naukri.com/job-listings-data-scientist-data-analyst-business-analyst-inflexion-analytix-private-limited-mumbai-hyderabad-secunderabad-pune-gurgaon-gurugram-chennai-bangalore-bengaluru-0-to-3-years-100521000368?src=jobsearchDesk&sid=16208893095762212&xp=1&px=1'\n",
    "url_b= 'https://www.naukri.com/job-listings-senior-data-scientist-ces-it-ltd-cmmi-level-5-ces-ltd-kolkata-mumbai-hyderabad-secunderabad-pune-chennai-bangalore-bengaluru-delhi-ncr-2-to-7-years-280421602475?src=jobsearchDesk&sid=16208916703337589&xp=2&px=1'\n",
    "url_c= 'https://www.naukri.com/job-listings-senior-data-scientist-ces-it-ltd-cmmi-level-5-ces-ltd-kolkata-mumbai-hyderabad-secunderabad-pune-chennai-bangalore-bengaluru-delhi-ncr-2-to-7-years-280421002473?src=jobsearchDesk&sid=16208916703337589&xp=3&px=1'\n",
    "url_d= 'https://www.naukri.com/job-listings-analytics-ai-product-mgmt-sr-data-scientist-glaxosmithkline-pharmaceuticals-limited-bangalore-bengaluru-10-to-12-years-290421901995?src=jobsearchDesk&sid=16208916703337589&xp=4&px=1'\n",
    "url_e= 'https://www.naukri.com/job-listings-senior-data-scientist-vijaya-management-services-pune-chennai-bangalore-bengaluru-5-to-10-years-290421005579?src=jobsearchDesk&sid=16208916703337589&xp=5&px=1'\n",
    "url_f= 'https://www.naukri.com/job-listings-senior-data-scientist-modeling-nielsen-kolkata-gurgaon-gurugram-bangalore-bengaluru-vadodara-baroda-mumbai-all-areas-3-to-7-years-280421003878?src=jobsearchDesk&sid=16208916703337589&xp=6&px=1'\n",
    "url_g= 'https://www.naukri.com/job-listings-data-scientist-ibm-garage-ibm-india-pvt-limited-noida-hyderabad-secunderabad-bangalore-bengaluru-5-to-8-years-040521900448?src=jobsearchDesk&sid=16208916703337589&xp=7&px=1'\n",
    "url_h= 'https://www.naukri.com/job-listings-data-scientist-ibm-india-pvt-limited-noida-hyderabad-secunderabad-bangalore-bengaluru-4-to-9-years-300421904650?src=jobsearchDesk&sid=16208916703337589&xp=8&px=1'\n",
    "url_i= 'https://www.naukri.com/job-listings-data-scientist-ibm-india-pvt-limited-noida-hyderabad-secunderabad-bangalore-bengaluru-5-to-8-years-030521900421?src=jobsearchDesk&sid=16208916703337589&xp=9&px=1'\n",
    "url_j= 'https://www.naukri.com/job-listings-senior-data-scientist-credit-risk-scienaptic-systems-bangalore-bengaluru-5-to-10-years-030521500996?src=jobsearchDesk&sid=16208916703337589&xp=10&px=1'"
   ]
  },
  {
   "cell_type": "markdown",
   "metadata": {},
   "source": [
    "Observed that few job listings open on differnet kind of html script, so cannot create one loop for all.\n",
    "\n",
    "There fore breaking the loops into loops with similar class in html."
   ]
  },
  {
   "cell_type": "code",
   "execution_count": 200,
   "metadata": {},
   "outputs": [],
   "source": [
    "url_1 = [url_a,url_b,url_c]\n",
    "url_2 = [url_d]\n",
    "url_3 = [url_e,url_f]\n",
    "url_4 = [url_g,url_h,url_i]\n",
    "url_5 = [url_j]"
   ]
  },
  {
   "cell_type": "code",
   "execution_count": 201,
   "metadata": {},
   "outputs": [],
   "source": [
    "description = []"
   ]
  },
  {
   "cell_type": "code",
   "execution_count": 202,
   "metadata": {},
   "outputs": [],
   "source": [
    "def abc(url,x):\n",
    "    driver.get(url)\n",
    "    job_desc = driver.find_element_by_xpath(x)\n",
    "    description.append(job_desc.text)"
   ]
  },
  {
   "cell_type": "code",
   "execution_count": 203,
   "metadata": {},
   "outputs": [],
   "source": [
    "path1 = \"//div[@class='dang-inner-html']\"\n",
    "path2 = \"//div[@class='clearboth description']\""
   ]
  },
  {
   "cell_type": "code",
   "execution_count": 204,
   "metadata": {},
   "outputs": [],
   "source": [
    "for i in url_1:\n",
    "    abc(i,path1)"
   ]
  },
  {
   "cell_type": "code",
   "execution_count": 205,
   "metadata": {},
   "outputs": [
    {
     "data": {
      "text/plain": [
       "3"
      ]
     },
     "execution_count": 205,
     "metadata": {},
     "output_type": "execute_result"
    }
   ],
   "source": [
    "len(description)"
   ]
  },
  {
   "cell_type": "code",
   "execution_count": 206,
   "metadata": {
    "scrolled": true
   },
   "outputs": [
    {
     "data": {
      "text/plain": [
       "[\"Job Role : Data Scientist/Data Analyst /Business Analyst\\n\\nLocation : Chennai/Bangalore/Hyderabad/Pune/Mumbai/Delhi\\n\\nGreetings from CAIA - Center for Artificial Intelligence & Advanced Analytics\\n43% of companies experienced a high deficit of skilled resources with Advanced Analytical skills and AI implementing capabilities in year 2020. CAIA gives you a great opportunity to enter the world of future technologies and Innovations- Data Science, Analytics, AI, Data Visualization and Cloud Computing.\\n\\nWhile 2020 was a year like no other, we are living in an interesting times where data is reshaping the world, and businesses are rapidly adopting technology to gain an edge over others. Hence, there's a substantial increase in demand for technology professionals who can implement systems in data science, machine learning and AI in Tier 1 and Tier 2 organization's working closely with us.\\n\\nTo help you build a sustainable career we would like you to utilize data, software and Analytical approaches in Data Science and AI to up skill and get recruited into an organization appreciating your skilling journey.\\nApplications invited from all Freshers and experienced candidates (0-3 yrs) aspiring to make a career in Artificial Intelligence and Advanced Analytics and Data Science.\\nIf you wish to make a shift in your career or undergo a career transition, upskilling is essential since it allows you to learn more about the domain and acquire the required skills.\\n\\nCall to schedule interview Monday -Saturday from 10:00 am to 7Pm\\n\\nManigandan -+91 7299917200\\n\\nEmail : manigandan@centerforaia.com\\n\\nWhat is needed from you?\\n\\nFreshers who wish to start their career in Analytics and AI and professionals who wish to\\nupskill or change their domain to analytics and emerging technologies are free to apply.\\nAn Educational background in any one of the following- BE/B.Tech, ME/M Tech, MSc, BSc/MSc Maths and Statistics, B Com, BCA, BSc CS, BSC IT, MSC IT, MCA\\nSkills relating to Mathematics/Statistics.\\nNatural passion towards numbers, business, coding, Analytics and Artificial Intelligence, Machine Learning, visualization\\nGood verbal and written communication skills\\nAbility to understand domains in businesses across various sectors\\n\\n\\nSelection procedure includes\\n\\nAptitude Test & Communication Exam - Online / Offline\\nSQL/Python test - Online / Offline\\n\\nCandidates who clears the above will have one-one discussion with our Career Guidance Manager for further evaluation and processing of your Resume.\\n\\n\\nAll the Shortlisted candidates will be eligible to continue the corporate training with CAIA\\nWhat you can expect from us?\\n\\nYou will get trained on the following modules for a period of 12-14 weeks:\\n\\nSQL & PLSQL\\nData Wrangling using Python\\nData Visualization Using Power-BI\\nStatistics for Machine Learning\\nArtificial Intelligence, Data Interpretation\\nSupervised & Unsupervised Learning,\\nNLP & Deep Learning\\nCloud Data Lake\\nBusiness intelligence & Data Visualization\\nSimulation Projects\\nExpected Outcome?\\n\\nAt the end of the Training you are expected to be well versed with the following:\\n\\nAnalysis of large and complex data sets from multiple sources\\nDevelopment and evaluation of data analytics models, algorithms and solutions\\nUnderstanding/implementation of ML algorithms, performance tuning and reporting\\nImplementation of algorithms to mine targeted data and the ability to convert data in to a business story\\nTranslation of business requirements into technical requirements; Data extraction, preparation and transformation\\nIdentification, development and implementation of statistical techniques and algorithms that address business challenges and adds value to the organization\\nRequirement Analysis and communication of findings in the form of a meaningful story with the stakeholders\\nFinding analytical solutions to abstract business issues.\\nApply objective analysis of facts before coming to a conclusion\\n\\nAbout CAIA - Inflexion Analytix Private Limited\\n\\nCenter for Artificial Intelligence and Advanced Analytics (Center for AIA) is the brainchild of experienced and visionary alumni of IIT Madras and Bombay.\\nDigital leaders - 5F World and Systech Solutions have joined hands to create a venture for architecting the future of society, workforce, governments and businesses. 5F World specializes in designing solutions around digital platforms and Systech Solutions has an expertise in architecting Artificial Intelligence and Advance Analytics solutions for Fortune 500 companies.\\nOur Website : http://www.centerforaia.com/\\n\\nhttps://inflexion-analytix-private-limited.business.site/?m=true\\n\\nCenter for Artificial Intelligence & Advanced Analytics (CAIA) focuses on the following:\\n\\n1. Global Research on emerging trends, technologies and applications in AI and Advanced Analytics\\n2. Advanced Training programs for readying the future ready workforce\\n3. Solutions to herald the futuristic lifestyle and workspaces in the field of AI and Data Science.\",\n",
       " 'Roles and Responsibilities\\n\\nMandatory Skills\\n- Python Programming\\n- Strong OOPS Concepts\\n- Strong knowledge in CS fundamentals - Datastructures, algorithm design & Problem-solving\\n- Experience in workflow management platforms like - Apache Airflow, pachyderm, MLFlow\\n- AWS Lambda, Step Functions, State Machines, setting up data pipelines.\\n- Must have experience in working in a Rapid Prototyping environment. Be able to take the initiative and work with minimum guidance and requirements.\\nNice to Have\\nExperience in Machine Learning - Pandas, Scikit-Learn, EDA, PCA, other Data preprocessing techniques\\nExperience in any Infrastructure as code platform like Terraform, AWS CloudFormation.\\nOther Pre-Requisites\\nMust be extremely detail and technology-oriented and possess excellent communications skills.\\nMust have experience and be willing to work in a Rapid Prototyping environment as well.\\nProactive, driven individual with a strong work ethics\\nMust be able to take complete ownership of tasks in the project.\\nPassion for achieving excellence in technical, process, product quality and reliability.\\nStrong in troubleshooting and root cause analysis abilities\\nPerks and Benefits\\n\\nKindly share your resume to kandavelkumar.lakshmanan @cesltd.com',\n",
       " 'Roles and Responsibilities\\n\\nMandatory Skills\\n- Python Programming\\n- Strong OOPS Concepts\\n- Strong knowledge in CS fundamentals - Datastructures, algorithm design & Problem-solving\\n- Experience in workflow management platforms like - Apache Airflow, pachyderm, MLFlow\\n- AWS Lambda, Step Functions, State Machines, setting up data pipelines.\\n- Must have experience in working in a Rapid Prototyping environment. Be able to take the initiative and work with minimum guidance and requirements.\\nNice to Have\\nExperience in Machine Learning - Pandas, Scikit-Learn, EDA, PCA, other Data preprocessing techniques\\nExperience in any Infrastructure as code platform like Terraform, AWS CloudFormation.\\nOther Pre-Requisites\\nMust be extremely detail and technology-oriented and possess excellent communications skills.\\nMust have experience and be willing to work in a Rapid Prototyping environment as well.\\nProactive, driven individual with a strong work ethics\\nMust be able to take complete ownership of tasks in the project.\\nPassion for achieving excellence in technical, process, product quality and reliability.\\nStrong in troubleshooting and root cause analysis abilities\\nPerks and Benefits\\n\\nKindly share your resume to kandavelkumar.lakshmanan @cesltd.com']"
      ]
     },
     "execution_count": 206,
     "metadata": {},
     "output_type": "execute_result"
    }
   ],
   "source": [
    "description"
   ]
  },
  {
   "cell_type": "code",
   "execution_count": 207,
   "metadata": {},
   "outputs": [],
   "source": [
    "for i in url_2:\n",
    "    abc(i,path2)"
   ]
  },
  {
   "cell_type": "code",
   "execution_count": 208,
   "metadata": {},
   "outputs": [
    {
     "data": {
      "text/plain": [
       "4"
      ]
     },
     "execution_count": 208,
     "metadata": {},
     "output_type": "execute_result"
    }
   ],
   "source": [
    "len(description)"
   ]
  },
  {
   "cell_type": "code",
   "execution_count": 209,
   "metadata": {
    "scrolled": true
   },
   "outputs": [
    {
     "data": {
      "text/plain": [
       "'Given the increased focus on data and analytics, we need additional brains to ensure the right AI/ML design criteria are made. For this reason, the role of Senior Data Scientist has been added.\\nIn the emerging data and analytics world, AI/ML plays a key role, and the Senior Data Scientist must be a creative thinker and propose innovative ways to look at problems by using data mining approaches on the set of information available. They will need to validate their findings using an experimental and iterative process. These approaches involve trial and error and may require multiple cycles, so are best addressed using iterative development methods such as agile or lean. Innovation happens at cross-roads; the Senior Data Scientist can bring substantial in-depth knowledge from his/her field to other areas.\\nThis role will provide YOU the opportunity to lead key activities to progress YOUR career. These responsibilities include some of the following.\\nSenior Data Scientist is accountable for delivering various AI/ML capabilities and projects, including business as usual operations for Vx tech organization. They need to ensure that they are focused on delivering value at optimal cost while ensuring that GSK Tech is looking far enough into the future to guide the business.\\nAccountable for all the business process identified in the scope below and contributing to the development of our AI/ML capabilities Strategy. In your role, you will collaborate with other functional teams and digital innovation team to ensure the optimal portfolio of applications exists to support the business.\\nResponsibilities:\\nIdentify critical business problems and create analytical/modelling solutions while maintaining the right balance between speed to market and analytical soundness when designing solutions.\\nInfluence machine learning strategy for a program/project; explores design options to assess efficiency and impact, develop approaches to improve robustness and rigour.\\nBe a key contributor to the planning and direction of a project and effectively prioritize goals.\\nLead discussions at peer review and uses quantitative skills to positively influence decision making.\\nRepresent GSK externally to advance technical capability across the Industry.\\nIdentify opportunities to apply the latest advancements in Machine Learning and Artificial Intelligence to the fields of biology, chemistry, and medicine.\\nCreate algorithms to extract information from large, multiparametric data sets.\\nDeploy your algorithms to production to identify actionable insights from large databases.\\nCompare results from various methodologies and recommend best techniques to stake holders.\\nDesign, develop and implement analytical solutions using a variety of commercial and open source tools (common tools include Python, R, TensorFlow).\\nDevelop and embed automated processes for predictive model validation, deployment, and implementation.\\nConnect and collaborate with subject matter experts in R&D, GIO-Q, Commercial and Medical.\\nMake impactful contributions to internal discussions on emerging machine learning methodologies.\\nEducate the organization both from IT and the business perspectives on these new approaches, such as testing hypotheses and statistical validation of results.\\nProvide thought leadership: facilitate cross-geography fertilization of ideas and implements key principles/best-practices and guidelines across the categories.\\nEnable the future BI / Analytics infrastructure and self-service model.\\nDemonstrate a combination of business focus, strong analytical and problem-solving skills and programming knowledge to be able to quickly cycle hypothesis through the discovery phase of the project and excellent written and communications skills to report back the findings in a clear, structured manner.\\nWe are looking for a Sr Data Scientist and if you have these skills, we would like to speak to you.\\nA higher degree (PhD preferred) in Engineering, Statistics, Data Science, Applied Mathematics, Computer Science, Physics, Bioinformatics, Computational Biology, Computational Chemistry or related quantitative field\\n10+ years of experience in any at least 2 of the AI domains: NLP, NLG, Computer Vision, etc.\\nExperience with Quantum AI/ML, federated AI/ML, or Encrypted AI/ML big plus\\nKnowledge of Cloud (Azure or AWS or Google Cloud) platform infrastructure and on-prem to run and optimize distributed data applications\\nExperience understanding of a programming language such as Python.\\nExperience with at least one deep learning framework such as TensorFlow, Keras, or PyTorch\\nExperience/Familiarity with standard deep learning algorithms (CNN, LSTM, etc.)\\nExperience with AI/ML Devops and CI/CD\\nExperience producing high-quality code, tests, documentation'"
      ]
     },
     "execution_count": 209,
     "metadata": {},
     "output_type": "execute_result"
    }
   ],
   "source": [
    "description[3]"
   ]
  },
  {
   "cell_type": "code",
   "execution_count": 210,
   "metadata": {},
   "outputs": [
    {
     "name": "stdout",
     "output_type": "stream",
     "text": [
      "6\n"
     ]
    }
   ],
   "source": [
    "for i in url_3:\n",
    "    abc(i,path1)\n",
    "    \n",
    "print(len(description))"
   ]
  },
  {
   "cell_type": "code",
   "execution_count": 211,
   "metadata": {},
   "outputs": [
    {
     "name": "stdout",
     "output_type": "stream",
     "text": [
      "9\n"
     ]
    }
   ],
   "source": [
    "for i in url_4:\n",
    "    abc(i,path2)\n",
    "    \n",
    "print(len(description))"
   ]
  },
  {
   "cell_type": "code",
   "execution_count": 212,
   "metadata": {},
   "outputs": [
    {
     "name": "stdout",
     "output_type": "stream",
     "text": [
      "10\n"
     ]
    }
   ],
   "source": [
    "for i in url_5:\n",
    "    abc(i,path1)\n",
    "    \n",
    "print(len(description))"
   ]
  },
  {
   "cell_type": "code",
   "execution_count": 213,
   "metadata": {
    "scrolled": true
   },
   "outputs": [
    {
     "data": {
      "text/plain": [
       "(10, 4)"
      ]
     },
     "execution_count": 213,
     "metadata": {},
     "output_type": "execute_result"
    }
   ],
   "source": [
    "Naukri1 = pd.DataFrame({'Title':titles1,'Company':company1,'Location':location1,'Job Description':description})\n",
    "\n",
    "Naukri1.shape"
   ]
  },
  {
   "cell_type": "code",
   "execution_count": 214,
   "metadata": {},
   "outputs": [
    {
     "data": {
      "text/html": [
       "<div>\n",
       "<style scoped>\n",
       "    .dataframe tbody tr th:only-of-type {\n",
       "        vertical-align: middle;\n",
       "    }\n",
       "\n",
       "    .dataframe tbody tr th {\n",
       "        vertical-align: top;\n",
       "    }\n",
       "\n",
       "    .dataframe thead th {\n",
       "        text-align: right;\n",
       "    }\n",
       "</style>\n",
       "<table border=\"1\" class=\"dataframe\">\n",
       "  <thead>\n",
       "    <tr style=\"text-align: right;\">\n",
       "      <th></th>\n",
       "      <th>Title</th>\n",
       "      <th>Company</th>\n",
       "      <th>Location</th>\n",
       "      <th>Job Description</th>\n",
       "    </tr>\n",
       "  </thead>\n",
       "  <tbody>\n",
       "    <tr>\n",
       "      <th>0</th>\n",
       "      <td>False</td>\n",
       "      <td>False</td>\n",
       "      <td>False</td>\n",
       "      <td>False</td>\n",
       "    </tr>\n",
       "    <tr>\n",
       "      <th>1</th>\n",
       "      <td>False</td>\n",
       "      <td>False</td>\n",
       "      <td>False</td>\n",
       "      <td>False</td>\n",
       "    </tr>\n",
       "    <tr>\n",
       "      <th>2</th>\n",
       "      <td>False</td>\n",
       "      <td>False</td>\n",
       "      <td>False</td>\n",
       "      <td>False</td>\n",
       "    </tr>\n",
       "    <tr>\n",
       "      <th>3</th>\n",
       "      <td>False</td>\n",
       "      <td>False</td>\n",
       "      <td>False</td>\n",
       "      <td>False</td>\n",
       "    </tr>\n",
       "    <tr>\n",
       "      <th>4</th>\n",
       "      <td>False</td>\n",
       "      <td>False</td>\n",
       "      <td>False</td>\n",
       "      <td>False</td>\n",
       "    </tr>\n",
       "    <tr>\n",
       "      <th>5</th>\n",
       "      <td>False</td>\n",
       "      <td>False</td>\n",
       "      <td>False</td>\n",
       "      <td>False</td>\n",
       "    </tr>\n",
       "    <tr>\n",
       "      <th>6</th>\n",
       "      <td>False</td>\n",
       "      <td>False</td>\n",
       "      <td>False</td>\n",
       "      <td>False</td>\n",
       "    </tr>\n",
       "    <tr>\n",
       "      <th>7</th>\n",
       "      <td>False</td>\n",
       "      <td>False</td>\n",
       "      <td>False</td>\n",
       "      <td>False</td>\n",
       "    </tr>\n",
       "    <tr>\n",
       "      <th>8</th>\n",
       "      <td>False</td>\n",
       "      <td>False</td>\n",
       "      <td>False</td>\n",
       "      <td>False</td>\n",
       "    </tr>\n",
       "    <tr>\n",
       "      <th>9</th>\n",
       "      <td>False</td>\n",
       "      <td>False</td>\n",
       "      <td>False</td>\n",
       "      <td>False</td>\n",
       "    </tr>\n",
       "  </tbody>\n",
       "</table>\n",
       "</div>"
      ],
      "text/plain": [
       "   Title  Company  Location  Job Description\n",
       "0  False    False     False            False\n",
       "1  False    False     False            False\n",
       "2  False    False     False            False\n",
       "3  False    False     False            False\n",
       "4  False    False     False            False\n",
       "5  False    False     False            False\n",
       "6  False    False     False            False\n",
       "7  False    False     False            False\n",
       "8  False    False     False            False\n",
       "9  False    False     False            False"
      ]
     },
     "execution_count": 214,
     "metadata": {},
     "output_type": "execute_result"
    }
   ],
   "source": [
    "Naukri1.isnull()"
   ]
  },
  {
   "cell_type": "markdown",
   "metadata": {},
   "source": [
    "No null values are recorded which meanss that the data has been scraped successffully."
   ]
  },
  {
   "cell_type": "code",
   "execution_count": 215,
   "metadata": {},
   "outputs": [
    {
     "data": {
      "text/html": [
       "<div>\n",
       "<style scoped>\n",
       "    .dataframe tbody tr th:only-of-type {\n",
       "        vertical-align: middle;\n",
       "    }\n",
       "\n",
       "    .dataframe tbody tr th {\n",
       "        vertical-align: top;\n",
       "    }\n",
       "\n",
       "    .dataframe thead th {\n",
       "        text-align: right;\n",
       "    }\n",
       "</style>\n",
       "<table border=\"1\" class=\"dataframe\">\n",
       "  <thead>\n",
       "    <tr style=\"text-align: right;\">\n",
       "      <th></th>\n",
       "      <th>Title</th>\n",
       "      <th>Company</th>\n",
       "      <th>Location</th>\n",
       "      <th>Job Description</th>\n",
       "    </tr>\n",
       "  </thead>\n",
       "  <tbody>\n",
       "    <tr>\n",
       "      <th>3</th>\n",
       "      <td>Analytics &amp; AI Product Mgmt - Sr. Data Scientist</td>\n",
       "      <td>GlaxoSmithKline Pharmaceuticals Limited</td>\n",
       "      <td>Bangalore/Bengaluru</td>\n",
       "      <td>Given the increased focus on data and analytic...</td>\n",
       "    </tr>\n",
       "    <tr>\n",
       "      <th>4</th>\n",
       "      <td>Senior Data Scientist</td>\n",
       "      <td>Vijaya Management Services</td>\n",
       "      <td>Pune, Chennai, Bangalore/Bengaluru</td>\n",
       "      <td>.\\nRoles and Responsibilities\\nAnalyze structu...</td>\n",
       "    </tr>\n",
       "    <tr>\n",
       "      <th>5</th>\n",
       "      <td>Senior Data Scientist, Modeling</td>\n",
       "      <td>Nielsen</td>\n",
       "      <td>Kolkata, Gurgaon/Gurugram, Bangalore/Bengaluru...</td>\n",
       "      <td>We wont say we can predict the future, but our...</td>\n",
       "    </tr>\n",
       "    <tr>\n",
       "      <th>6</th>\n",
       "      <td>Data Scientist - IBM Garage</td>\n",
       "      <td>IBM India Pvt. Limited</td>\n",
       "      <td>Noida, Hyderabad/Secunderabad, Bangalore/Benga...</td>\n",
       "      <td>As a Data Scientist in the IBM Garage team you...</td>\n",
       "    </tr>\n",
       "  </tbody>\n",
       "</table>\n",
       "</div>"
      ],
      "text/plain": [
       "                                              Title  \\\n",
       "3  Analytics & AI Product Mgmt - Sr. Data Scientist   \n",
       "4                             Senior Data Scientist   \n",
       "5                   Senior Data Scientist, Modeling   \n",
       "6                       Data Scientist - IBM Garage   \n",
       "\n",
       "                                   Company  \\\n",
       "3  GlaxoSmithKline Pharmaceuticals Limited   \n",
       "4               Vijaya Management Services   \n",
       "5                                  Nielsen   \n",
       "6                   IBM India Pvt. Limited   \n",
       "\n",
       "                                            Location  \\\n",
       "3                                Bangalore/Bengaluru   \n",
       "4                 Pune, Chennai, Bangalore/Bengaluru   \n",
       "5  Kolkata, Gurgaon/Gurugram, Bangalore/Bengaluru...   \n",
       "6  Noida, Hyderabad/Secunderabad, Bangalore/Benga...   \n",
       "\n",
       "                                     Job Description  \n",
       "3  Given the increased focus on data and analytic...  \n",
       "4  .\\nRoles and Responsibilities\\nAnalyze structu...  \n",
       "5  We wont say we can predict the future, but our...  \n",
       "6  As a Data Scientist in the IBM Garage team you...  "
      ]
     },
     "execution_count": 215,
     "metadata": {},
     "output_type": "execute_result"
    }
   ],
   "source": [
    "Naukri1.iloc[3:7,:]"
   ]
  },
  {
   "cell_type": "code",
   "execution_count": 216,
   "metadata": {
    "scrolled": true
   },
   "outputs": [
    {
     "name": "stdout",
     "output_type": "stream",
     "text": [
      ".\n",
      "Roles and Responsibilities\n",
      "Analyze structured and unstructured data at scale to derive new insights and opportunities.\n",
      "Build and validate predictive models.\n",
      "Advise clients and project teams on leading data science practices.\n",
      "Create data-driven business recommendations.\n",
      "Contribute to internal research and development efforts in cutting edge areas including NLP, graph analytics, and deep learning / AI.\n",
      "Skills and attributes for success\n",
      "Fostering an innovative and inclusive team-oriented work environment\n",
      "Leading and coaching diverse teams of professionals with different backgrounds\n",
      "Demonstrating in-depth technical capabilities and professional knowledge\n",
      "Establishing strong relationships with the clients\n",
      "Working in an entrepreneurial environment to pave your own career path\n",
      "\n",
      "\n",
      "Desired Candidate Profile\n",
      "\n",
      "A MSc in a technical field like Computer Science, Econometrics, Mathematics, Engineering, or a related field .\n",
      "3+ years practical experience with advanced machine learning techniques and big data technologies.\n",
      "3+ years working with data and relevant computational frameworks and systems.\n",
      "An understanding of the latest industry developments in Big Data and AI such as graph databases, Natural Language Processing, and neural networks.\n",
      "A thorough understanding of common languages and libraries used in machine learning (such as Spark or Python. Experience with big data tools, Hive, Databricks, Neo4j, etc. a plus)\n",
      "Excellent business, communication, and presentation skills (experience in health insurance services domains a plus, but not required)\n",
      "The ability to translate complex information into non-technical, easy to understand language.\n",
      "Ideally, you will also have\n",
      "A PhD in a technical field like Computer Science, Econometrics, Mathematics, Engineering, or a related field\n",
      "Perks and Benefits\n",
      "Annual CTC: Rupees 5,00,000 to 15,00,000 (willing to pay more if have good experience)\n"
     ]
    }
   ],
   "source": [
    "print(Naukri1['Job Description'][4])"
   ]
  },
  {
   "cell_type": "code",
   "execution_count": 217,
   "metadata": {},
   "outputs": [
    {
     "data": {
      "text/plain": [
       "'.\\nRoles and Responsibilities\\nAnalyze structured and unstructured data at scale to derive new insights and opportunities.\\nBuild and validate predictive models.\\nAdvise clients and project teams on leading data science practices.\\nCreate data-driven business recommendations.\\nContribute to internal research and development efforts in cutting edge areas including NLP, graph analytics, and deep learning / AI.\\nSkills and attributes for success\\nFostering an innovative and inclusive team-oriented work environment\\nLeading and coaching diverse teams of professionals with different backgrounds\\nDemonstrating in-depth technical capabilities and professional knowledge\\nEstablishing strong relationships with the clients\\nWorking in an entrepreneurial environment to pave your own career path\\n\\n\\nDesired Candidate Profile\\n\\nA MSc in a technical field like Computer Science, Econometrics, Mathematics, Engineering, or a related field .\\n3+ years practical experience with advanced machine learning techniques and big data technologies.\\n3+ years working with data and relevant computational frameworks and systems.\\nAn understanding of the latest industry developments in Big Data and AI such as graph databases, Natural Language Processing, and neural networks.\\nA thorough understanding of common languages and libraries used in machine learning (such as Spark or Python. Experience with big data tools, Hive, Databricks, Neo4j, etc. a plus)\\nExcellent business, communication, and presentation skills (experience in health insurance services domains a plus, but not required)\\nThe ability to translate complex information into non-technical, easy to understand language.\\nIdeally, you will also have\\nA PhD in a technical field like Computer Science, Econometrics, Mathematics, Engineering, or a related field\\nPerks and Benefits\\nAnnual CTC: Rupees 5,00,000 to 15,00,000 (willing to pay more if have good experience)'"
      ]
     },
     "execution_count": 217,
     "metadata": {},
     "output_type": "execute_result"
    }
   ],
   "source": [
    "Naukri1['Job Description'][4]"
   ]
  },
  {
   "cell_type": "code",
   "execution_count": 218,
   "metadata": {},
   "outputs": [
    {
     "data": {
      "text/plain": [
       "'Given the increased focus on data and analytics, we need additional brains to ensure the right AI/ML design criteria are made. For this reason, the role of Senior Data Scientist has been added.\\nIn the emerging data and analytics world, AI/ML plays a key role, and the Senior Data Scientist must be a creative thinker and propose innovative ways to look at problems by using data mining approaches on the set of information available. They will need to validate their findings using an experimental and iterative process. These approaches involve trial and error and may require multiple cycles, so are best addressed using iterative development methods such as agile or lean. Innovation happens at cross-roads; the Senior Data Scientist can bring substantial in-depth knowledge from his/her field to other areas.\\nThis role will provide YOU the opportunity to lead key activities to progress YOUR career. These responsibilities include some of the following.\\nSenior Data Scientist is accountable for delivering various AI/ML capabilities and projects, including business as usual operations for Vx tech organization. They need to ensure that they are focused on delivering value at optimal cost while ensuring that GSK Tech is looking far enough into the future to guide the business.\\nAccountable for all the business process identified in the scope below and contributing to the development of our AI/ML capabilities Strategy. In your role, you will collaborate with other functional teams and digital innovation team to ensure the optimal portfolio of applications exists to support the business.\\nResponsibilities:\\nIdentify critical business problems and create analytical/modelling solutions while maintaining the right balance between speed to market and analytical soundness when designing solutions.\\nInfluence machine learning strategy for a program/project; explores design options to assess efficiency and impact, develop approaches to improve robustness and rigour.\\nBe a key contributor to the planning and direction of a project and effectively prioritize goals.\\nLead discussions at peer review and uses quantitative skills to positively influence decision making.\\nRepresent GSK externally to advance technical capability across the Industry.\\nIdentify opportunities to apply the latest advancements in Machine Learning and Artificial Intelligence to the fields of biology, chemistry, and medicine.\\nCreate algorithms to extract information from large, multiparametric data sets.\\nDeploy your algorithms to production to identify actionable insights from large databases.\\nCompare results from various methodologies and recommend best techniques to stake holders.\\nDesign, develop and implement analytical solutions using a variety of commercial and open source tools (common tools include Python, R, TensorFlow).\\nDevelop and embed automated processes for predictive model validation, deployment, and implementation.\\nConnect and collaborate with subject matter experts in R&D, GIO-Q, Commercial and Medical.\\nMake impactful contributions to internal discussions on emerging machine learning methodologies.\\nEducate the organization both from IT and the business perspectives on these new approaches, such as testing hypotheses and statistical validation of results.\\nProvide thought leadership: facilitate cross-geography fertilization of ideas and implements key principles/best-practices and guidelines across the categories.\\nEnable the future BI / Analytics infrastructure and self-service model.\\nDemonstrate a combination of business focus, strong analytical and problem-solving skills and programming knowledge to be able to quickly cycle hypothesis through the discovery phase of the project and excellent written and communications skills to report back the findings in a clear, structured manner.\\nWe are looking for a Sr Data Scientist and if you have these skills, we would like to speak to you.\\nA higher degree (PhD preferred) in Engineering, Statistics, Data Science, Applied Mathematics, Computer Science, Physics, Bioinformatics, Computational Biology, Computational Chemistry or related quantitative field\\n10+ years of experience in any at least 2 of the AI domains: NLP, NLG, Computer Vision, etc.\\nExperience with Quantum AI/ML, federated AI/ML, or Encrypted AI/ML big plus\\nKnowledge of Cloud (Azure or AWS or Google Cloud) platform infrastructure and on-prem to run and optimize distributed data applications\\nExperience understanding of a programming language such as Python.\\nExperience with at least one deep learning framework such as TensorFlow, Keras, or PyTorch\\nExperience/Familiarity with standard deep learning algorithms (CNN, LSTM, etc.)\\nExperience with AI/ML Devops and CI/CD\\nExperience producing high-quality code, tests, documentation'"
      ]
     },
     "execution_count": 218,
     "metadata": {},
     "output_type": "execute_result"
    }
   ],
   "source": [
    "Naukri1['Job Description'][3]"
   ]
  },
  {
   "cell_type": "markdown",
   "metadata": {},
   "source": [
    "The data has been scraped and successfully stored in 'Naukri1' variable"
   ]
  },
  {
   "cell_type": "markdown",
   "metadata": {},
   "source": [
    "    "
   ]
  },
  {
   "cell_type": "markdown",
   "metadata": {},
   "source": [
    "## Q3 \n",
    "In this question you have to scrape data using the filters available on the webpage"
   ]
  },
  {
   "cell_type": "markdown",
   "metadata": {},
   "source": [
    "You have to use the location and salary filter.\n",
    "\n",
    "You have to scrape data for “Data Scientist” designation for first 10 job results.\n",
    "\n",
    "You have to scrape the job-title, job-location, company_name, experience_required.\n",
    "\n",
    "The location filter to be used is “Delhi/NCR”\n",
    "\n",
    "The salary filter to be used is “3-6” lakhs"
   ]
  },
  {
   "cell_type": "code",
   "execution_count": 219,
   "metadata": {},
   "outputs": [],
   "source": [
    "url = 'https://www.naukri.com/'\n",
    "driver.get(url)\n",
    "\n",
    "search_title = driver.find_element_by_id('qsb-keyword-sugg')\n",
    "\n",
    "search_title.send_keys('Data Scientist')\n",
    "\n",
    "\n",
    "search_btn = driver.find_element_by_xpath(\"//button[@class='btn']\")\n",
    "\n",
    "search_btn.click()"
   ]
  },
  {
   "cell_type": "code",
   "execution_count": 220,
   "metadata": {},
   "outputs": [],
   "source": [
    "filter_1 = driver.find_element_by_xpath(\"//label[@for = 'chk-Delhi / NCR-cityTypeGid-']//i\")\n",
    "\n",
    "filter_1.click()"
   ]
  },
  {
   "cell_type": "code",
   "execution_count": 221,
   "metadata": {},
   "outputs": [],
   "source": [
    "filter_2 = driver.find_element_by_xpath(\"//label[@for = 'chk-3-6 Lakhs-ctcFilter-']//i\")\n",
    "\n",
    "filter_2.click()"
   ]
  },
  {
   "cell_type": "code",
   "execution_count": 222,
   "metadata": {},
   "outputs": [
    {
     "name": "stdout",
     "output_type": "stream",
     "text": [
      "['Data Scientist / Data Analyst -Business Analyst', 'Data Scientist', 'Excellent opportunity For Data Scientist', 'Data Scientist', 'DATA Scientist – Gurgaon (Exp 3-6 years)']\n"
     ]
    },
    {
     "data": {
      "text/plain": [
       "10"
      ]
     },
     "execution_count": 222,
     "metadata": {},
     "output_type": "execute_result"
    }
   ],
   "source": [
    "name2 = driver.find_elements_by_xpath(\"//a[@class='title fw500 ellipsis']\")\n",
    "\n",
    "name2\n",
    "\n",
    "titles2 = []\n",
    "\n",
    "num = 1\n",
    "for i in name2:\n",
    "    if num <=10:\n",
    "        titles2.append(i.text)\n",
    "        num+=1\n",
    "    else:\n",
    "        break\n",
    "        \n",
    "print(titles2[:5])\n",
    "\n",
    "len(titles2)"
   ]
  },
  {
   "cell_type": "code",
   "execution_count": 223,
   "metadata": {},
   "outputs": [
    {
     "name": "stdout",
     "output_type": "stream",
     "text": [
      "['Inflexion Analytix Private Limited', 'IBM India Pvt. Limited', 'NEC CORPORATION INDIA PRIVATE LIMITED', 'Mobikwik', 'CRESCENDO GLOBAL LEADERSHIP HIRING INDIA PRIVATE L IMITED']\n"
     ]
    },
    {
     "data": {
      "text/plain": [
       "10"
      ]
     },
     "execution_count": 223,
     "metadata": {},
     "output_type": "execute_result"
    }
   ],
   "source": [
    "companies2 = driver.find_elements_by_xpath(\"//a[@class='subTitle ellipsis fleft']\")\n",
    "\n",
    "companies2\n",
    "\n",
    "company2 = []\n",
    "\n",
    "num = 1\n",
    "for i in companies2:\n",
    "    if num <=10:\n",
    "        company2.append(i.text)\n",
    "        num+=1\n",
    "    else:\n",
    "        break\n",
    "\n",
    "print(company2[0:5])\n",
    "\n",
    "len(company2)"
   ]
  },
  {
   "cell_type": "code",
   "execution_count": 224,
   "metadata": {},
   "outputs": [
    {
     "name": "stdout",
     "output_type": "stream",
     "text": [
      "10\n"
     ]
    },
    {
     "data": {
      "text/plain": [
       "['Mumbai, Hyderabad/Secunderabad, Pune, Gurgaon/Gurugram, Chennai, Bangalore/Bengaluru',\n",
       " 'Noida, Hyderabad/Secunderabad, Bangalore/Bengaluru',\n",
       " 'Noida, Bangalore/Bengaluru',\n",
       " 'New Delhi, Gurgaon/Gurugram, Delhi / NCR',\n",
       " 'Gurgaon/Gurugram, Delhi / NCR']"
      ]
     },
     "execution_count": 224,
     "metadata": {},
     "output_type": "execute_result"
    }
   ],
   "source": [
    "place2 = driver.find_elements_by_xpath(\"//li[@class='fleft grey-text br2 placeHolderLi location']//span\")\n",
    "\n",
    "place2\n",
    "\n",
    "\n",
    "location2 = []\n",
    "\n",
    "num = 1\n",
    "for i in place2:\n",
    "    if num <=10:\n",
    "        location2.append(i.text)\n",
    "        num+=1\n",
    "    else:\n",
    "        break\n",
    "\n",
    "print(len(location2))\n",
    "        \n",
    "location2[:5]"
   ]
  },
  {
   "cell_type": "code",
   "execution_count": 225,
   "metadata": {},
   "outputs": [
    {
     "name": "stdout",
     "output_type": "stream",
     "text": [
      "['0-3 Yrs', '4-9 Yrs', '3-7 Yrs', '3-5 Yrs', '3-6 Yrs']\n"
     ]
    },
    {
     "data": {
      "text/plain": [
       "10"
      ]
     },
     "execution_count": 225,
     "metadata": {},
     "output_type": "execute_result"
    }
   ],
   "source": [
    "exp2 = driver.find_elements_by_xpath(\"//li[@class='fleft grey-text br2 placeHolderLi experience']//span\")\n",
    "\n",
    "exp2\n",
    "\n",
    "\n",
    "experience2 = []\n",
    "\n",
    "num = 1\n",
    "for i in exp2:\n",
    "    if num <=10:\n",
    "        experience2.append(i.text)\n",
    "        num+=1\n",
    "    else:\n",
    "        break\n",
    "\n",
    "print(experience2[0:5])\n",
    "\n",
    "len(experience2)"
   ]
  },
  {
   "cell_type": "code",
   "execution_count": 226,
   "metadata": {},
   "outputs": [
    {
     "data": {
      "text/plain": [
       "(10, 4)"
      ]
     },
     "execution_count": 226,
     "metadata": {},
     "output_type": "execute_result"
    }
   ],
   "source": [
    "Naukri2 = pd.DataFrame({'Title':titles2,'Company':company2,'Location':location2,'Experience':experience2})\n",
    "\n",
    "Naukri2.shape"
   ]
  },
  {
   "cell_type": "code",
   "execution_count": 227,
   "metadata": {},
   "outputs": [
    {
     "data": {
      "text/html": [
       "<div>\n",
       "<style scoped>\n",
       "    .dataframe tbody tr th:only-of-type {\n",
       "        vertical-align: middle;\n",
       "    }\n",
       "\n",
       "    .dataframe tbody tr th {\n",
       "        vertical-align: top;\n",
       "    }\n",
       "\n",
       "    .dataframe thead th {\n",
       "        text-align: right;\n",
       "    }\n",
       "</style>\n",
       "<table border=\"1\" class=\"dataframe\">\n",
       "  <thead>\n",
       "    <tr style=\"text-align: right;\">\n",
       "      <th></th>\n",
       "      <th>Title</th>\n",
       "      <th>Company</th>\n",
       "      <th>Location</th>\n",
       "      <th>Experience</th>\n",
       "    </tr>\n",
       "  </thead>\n",
       "  <tbody>\n",
       "    <tr>\n",
       "      <th>4</th>\n",
       "      <td>DATA Scientist – Gurgaon (Exp 3-6 years)</td>\n",
       "      <td>CRESCENDO GLOBAL LEADERSHIP HIRING INDIA PRIVA...</td>\n",
       "      <td>Gurgaon/Gurugram, Delhi / NCR</td>\n",
       "      <td>3-6 Yrs</td>\n",
       "    </tr>\n",
       "    <tr>\n",
       "      <th>5</th>\n",
       "      <td>DATA Scientist – Gurgaon (Exp 3-6 years)</td>\n",
       "      <td>CRESCENDO GLOBAL LEADERSHIP HIRING INDIA PRIVA...</td>\n",
       "      <td>Gurgaon/Gurugram, Delhi / NCR</td>\n",
       "      <td>3-6 Yrs</td>\n",
       "    </tr>\n",
       "    <tr>\n",
       "      <th>3</th>\n",
       "      <td>Data Scientist</td>\n",
       "      <td>Mobikwik</td>\n",
       "      <td>New Delhi, Gurgaon/Gurugram, Delhi / NCR</td>\n",
       "      <td>3-5 Yrs</td>\n",
       "    </tr>\n",
       "    <tr>\n",
       "      <th>8</th>\n",
       "      <td>Data Scientist - Python &amp; Machine Learning</td>\n",
       "      <td>FUTURES AND CAREERS</td>\n",
       "      <td>Hyderabad/Secunderabad, Pune, Chennai, Bangalo...</td>\n",
       "      <td>2-7 Yrs</td>\n",
       "    </tr>\n",
       "    <tr>\n",
       "      <th>2</th>\n",
       "      <td>Excellent opportunity For Data Scientist</td>\n",
       "      <td>NEC CORPORATION INDIA PRIVATE LIMITED</td>\n",
       "      <td>Noida, Bangalore/Bengaluru</td>\n",
       "      <td>3-7 Yrs</td>\n",
       "    </tr>\n",
       "  </tbody>\n",
       "</table>\n",
       "</div>"
      ],
      "text/plain": [
       "                                        Title  \\\n",
       "4    DATA Scientist – Gurgaon (Exp 3-6 years)   \n",
       "5    DATA Scientist – Gurgaon (Exp 3-6 years)   \n",
       "3                              Data Scientist   \n",
       "8  Data Scientist - Python & Machine Learning   \n",
       "2    Excellent opportunity For Data Scientist   \n",
       "\n",
       "                                             Company  \\\n",
       "4  CRESCENDO GLOBAL LEADERSHIP HIRING INDIA PRIVA...   \n",
       "5  CRESCENDO GLOBAL LEADERSHIP HIRING INDIA PRIVA...   \n",
       "3                                           Mobikwik   \n",
       "8                                FUTURES AND CAREERS   \n",
       "2              NEC CORPORATION INDIA PRIVATE LIMITED   \n",
       "\n",
       "                                            Location Experience  \n",
       "4                      Gurgaon/Gurugram, Delhi / NCR    3-6 Yrs  \n",
       "5                      Gurgaon/Gurugram, Delhi / NCR    3-6 Yrs  \n",
       "3           New Delhi, Gurgaon/Gurugram, Delhi / NCR    3-5 Yrs  \n",
       "8  Hyderabad/Secunderabad, Pune, Chennai, Bangalo...    2-7 Yrs  \n",
       "2                         Noida, Bangalore/Bengaluru    3-7 Yrs  "
      ]
     },
     "execution_count": 227,
     "metadata": {},
     "output_type": "execute_result"
    }
   ],
   "source": [
    "Naukri2.sample(5)"
   ]
  },
  {
   "cell_type": "markdown",
   "metadata": {},
   "source": [
    "The data has been scraped and saved in Naukri2 variable"
   ]
  },
  {
   "cell_type": "markdown",
   "metadata": {},
   "source": [
    "## Q4\n",
    "Write a python program to scrape data for first 10 job results for Data scientist Designation in Noida location. You have to scrape company_name, No. of days ago when job was posted, Rating of the company.\n",
    "\n",
    "This task will be done in following steps:\n",
    "\n",
    "1. first get the webpage https://www.glassdoor.co.in/index.htm\n",
    "\n",
    "2. Enter “Data Scientist” in “Job Title,Keyword,Company” field and enter “Noida”\n",
    "in “location” field.\n"
   ]
  },
  {
   "cell_type": "code",
   "execution_count": 228,
   "metadata": {},
   "outputs": [],
   "source": [
    "url4 = 'https://www.glassdoor.co.in/index.htm'\n",
    "\n",
    "driver.get(url4)"
   ]
  },
  {
   "cell_type": "code",
   "execution_count": 233,
   "metadata": {},
   "outputs": [],
   "source": [
    "search_title = driver.find_element_by_id(\"sc.keyword\")"
   ]
  },
  {
   "cell_type": "code",
   "execution_count": 234,
   "metadata": {},
   "outputs": [],
   "source": [
    "search_title.send_keys('Data Scientist')\n"
   ]
  },
  {
   "cell_type": "code",
   "execution_count": 235,
   "metadata": {},
   "outputs": [],
   "source": [
    "search_location = driver.find_element_by_id(\"sc.location\")\n",
    "search_location.send_keys('Noida')"
   ]
  },
  {
   "cell_type": "code",
   "execution_count": 236,
   "metadata": {},
   "outputs": [],
   "source": [
    "search_btn = driver.find_element_by_xpath(\"//button[@class = 'gd-ui-button ml-std col-auto SearchStyles__newSearchButton css-iixdfr']\")\n",
    "search_btn.click()"
   ]
  },
  {
   "cell_type": "code",
   "execution_count": 250,
   "metadata": {},
   "outputs": [
    {
     "name": "stdout",
     "output_type": "stream",
     "text": [
      "['Biz2Credit Inc', 'UnitedHealth Group', 'HDFC Bank', 'CRMNEXT', 'Adobe']\n"
     ]
    },
    {
     "data": {
      "text/plain": [
       "10"
      ]
     },
     "execution_count": 250,
     "metadata": {},
     "output_type": "execute_result"
    }
   ],
   "source": [
    "name4 = driver.find_elements_by_xpath(\"//div[@class='d-flex justify-content-between align-items-start']\")\n",
    "\n",
    "name4\n",
    "\n",
    "titles4 = []\n",
    "\n",
    "num = 1\n",
    "for i in name4:\n",
    "    if num <=10:\n",
    "        titles4.append(i.text)\n",
    "        num+=1\n",
    "    else:\n",
    "        break\n",
    "        \n",
    "print(titles4[:5])\n",
    "\n",
    "len(titles4)"
   ]
  },
  {
   "cell_type": "code",
   "execution_count": 251,
   "metadata": {},
   "outputs": [
    {
     "name": "stdout",
     "output_type": "stream",
     "text": [
      "['30d+', '30d+', '30d+', '6d', '24h']\n"
     ]
    },
    {
     "data": {
      "text/plain": [
       "10"
      ]
     },
     "execution_count": 251,
     "metadata": {},
     "output_type": "execute_result"
    }
   ],
   "source": [
    "days4 = driver.find_elements_by_xpath(\"//div[@class='d-flex align-items-end pl-std css-mi55ob']\")\n",
    "\n",
    "days4\n",
    "\n",
    "posted4 = []\n",
    "\n",
    "num = 1\n",
    "for i in days4:\n",
    "    if num <=10:\n",
    "        posted4.append(i.text)\n",
    "        num+=1\n",
    "    else:\n",
    "        break\n",
    "        \n",
    "print(posted4[:5])\n",
    "\n",
    "len(posted4)"
   ]
  },
  {
   "cell_type": "code",
   "execution_count": 252,
   "metadata": {},
   "outputs": [
    {
     "name": "stdout",
     "output_type": "stream",
     "text": [
      "['3.8', '3.6', '3.6', '3.6', '4.4']\n"
     ]
    },
    {
     "data": {
      "text/plain": [
       "10"
      ]
     },
     "execution_count": 252,
     "metadata": {},
     "output_type": "execute_result"
    }
   ],
   "source": [
    "rat4 = driver.find_elements_by_xpath(\"//div[@class='d-flex flex-column css-x75kgh e1rrn5ka3']\")\n",
    "\n",
    "rat4\n",
    "\n",
    "ratings4 = []\n",
    "\n",
    "num = 1\n",
    "for i in rat4:\n",
    "    if num <=10:\n",
    "        ratings4.append(i.text)\n",
    "        num+=1\n",
    "    else:\n",
    "        break\n",
    "        \n",
    "print(ratings4[:5])\n",
    "\n",
    "len(ratings4)"
   ]
  },
  {
   "cell_type": "code",
   "execution_count": 253,
   "metadata": {},
   "outputs": [
    {
     "data": {
      "text/plain": [
       "(10, 3)"
      ]
     },
     "execution_count": 253,
     "metadata": {},
     "output_type": "execute_result"
    }
   ],
   "source": [
    "glassdoor = pd.DataFrame({'Title':titles4,'Posted':posted4,'Rating':ratings4})\n",
    "\n",
    "glassdoor.shape"
   ]
  },
  {
   "cell_type": "code",
   "execution_count": 254,
   "metadata": {},
   "outputs": [
    {
     "data": {
      "text/html": [
       "<div>\n",
       "<style scoped>\n",
       "    .dataframe tbody tr th:only-of-type {\n",
       "        vertical-align: middle;\n",
       "    }\n",
       "\n",
       "    .dataframe tbody tr th {\n",
       "        vertical-align: top;\n",
       "    }\n",
       "\n",
       "    .dataframe thead th {\n",
       "        text-align: right;\n",
       "    }\n",
       "</style>\n",
       "<table border=\"1\" class=\"dataframe\">\n",
       "  <thead>\n",
       "    <tr style=\"text-align: right;\">\n",
       "      <th></th>\n",
       "      <th>Title</th>\n",
       "      <th>Posted</th>\n",
       "      <th>Rating</th>\n",
       "    </tr>\n",
       "  </thead>\n",
       "  <tbody>\n",
       "    <tr>\n",
       "      <th>0</th>\n",
       "      <td>Biz2Credit Inc</td>\n",
       "      <td>30d+</td>\n",
       "      <td>3.8</td>\n",
       "    </tr>\n",
       "    <tr>\n",
       "      <th>1</th>\n",
       "      <td>UnitedHealth Group</td>\n",
       "      <td>30d+</td>\n",
       "      <td>3.6</td>\n",
       "    </tr>\n",
       "    <tr>\n",
       "      <th>2</th>\n",
       "      <td>HDFC Bank</td>\n",
       "      <td>30d+</td>\n",
       "      <td>3.6</td>\n",
       "    </tr>\n",
       "    <tr>\n",
       "      <th>3</th>\n",
       "      <td>CRMNEXT</td>\n",
       "      <td>6d</td>\n",
       "      <td>3.6</td>\n",
       "    </tr>\n",
       "    <tr>\n",
       "      <th>4</th>\n",
       "      <td>Adobe</td>\n",
       "      <td>24h</td>\n",
       "      <td>4.4</td>\n",
       "    </tr>\n",
       "    <tr>\n",
       "      <th>5</th>\n",
       "      <td>Adobe</td>\n",
       "      <td>18d</td>\n",
       "      <td>4.4</td>\n",
       "    </tr>\n",
       "    <tr>\n",
       "      <th>6</th>\n",
       "      <td>Salasar New Age Technologies</td>\n",
       "      <td>30d+</td>\n",
       "      <td></td>\n",
       "    </tr>\n",
       "    <tr>\n",
       "      <th>7</th>\n",
       "      <td>Ericsson</td>\n",
       "      <td>8d</td>\n",
       "      <td>4.1</td>\n",
       "    </tr>\n",
       "    <tr>\n",
       "      <th>8</th>\n",
       "      <td>WishFin</td>\n",
       "      <td>30d+</td>\n",
       "      <td>3.8</td>\n",
       "    </tr>\n",
       "    <tr>\n",
       "      <th>9</th>\n",
       "      <td>dunnhumby</td>\n",
       "      <td>6d</td>\n",
       "      <td>4.1</td>\n",
       "    </tr>\n",
       "  </tbody>\n",
       "</table>\n",
       "</div>"
      ],
      "text/plain": [
       "                          Title Posted Rating\n",
       "0                Biz2Credit Inc   30d+    3.8\n",
       "1            UnitedHealth Group   30d+    3.6\n",
       "2                     HDFC Bank   30d+    3.6\n",
       "3                       CRMNEXT     6d    3.6\n",
       "4                         Adobe    24h    4.4\n",
       "5                         Adobe    18d    4.4\n",
       "6  Salasar New Age Technologies   30d+       \n",
       "7                      Ericsson     8d    4.1\n",
       "8                       WishFin   30d+    3.8\n",
       "9                     dunnhumby     6d    4.1"
      ]
     },
     "execution_count": 254,
     "metadata": {},
     "output_type": "execute_result"
    }
   ],
   "source": [
    "glassdoor"
   ]
  },
  {
   "cell_type": "markdown",
   "metadata": {},
   "source": [
    "we can observe that one company doesnt have a rating"
   ]
  },
  {
   "cell_type": "markdown",
   "metadata": {},
   "source": [
    "## Q5\n",
    "Write a python program to scrape the salary data for Data Scientist designation in Noida location.\n",
    "\n",
    "You have to scrape Company name, Number of salaries, Average salary, Min salary, Max Salary.\n",
    "\n",
    "The above task will be, done as shown in the below steps:\n",
    "1. first get the webpage https://www.glassdoor.co.in/Salaries/index.htm\n",
    "2. Enter “Data Scientist” in Job title field and “Noida” in location field."
   ]
  },
  {
   "cell_type": "markdown",
   "metadata": {},
   "source": [
    "Scrape data for first 10 companies. Scrape the min salary, max salary, company\n",
    "name, Average salary of the company."
   ]
  },
  {
   "cell_type": "code",
   "execution_count": 256,
   "metadata": {},
   "outputs": [],
   "source": [
    "driver = webdriver.Chrome(r'C:\\Users\\AKHIL\\Downloads\\chromedriver_win32\\chromedriver.exe')\n",
    "url5 = 'https://www.glassdoor.co.in/Salaries/index.htm'\n",
    "driver.get(url5)"
   ]
  },
  {
   "cell_type": "code",
   "execution_count": 257,
   "metadata": {},
   "outputs": [],
   "source": [
    "search_title = driver.find_element_by_id(\"KeywordSearch\")\n",
    "search_title.send_keys('Data Scientist')\n",
    "\n",
    "search_location = driver.find_element_by_id(\"LocationSearch\")\n",
    "search_location.send_keys('Noida')\n",
    "\n",
    "search_btn = driver.find_element_by_xpath(\"//button[@class = 'gd-btn-mkt']\")\n",
    "search_btn.click()"
   ]
  },
  {
   "cell_type": "code",
   "execution_count": 261,
   "metadata": {},
   "outputs": [
    {
     "name": "stdout",
     "output_type": "stream",
     "text": [
      "['Tata Consultancy Services', 'IBM', 'Ericsson-Worldwide', 'Delhivery', 'Accenture']\n"
     ]
    },
    {
     "data": {
      "text/plain": [
       "10"
      ]
     },
     "execution_count": 261,
     "metadata": {},
     "output_type": "execute_result"
    }
   ],
   "source": [
    "name5 = driver.find_elements_by_xpath(\"//div[@data-test='job-info']//p[2]\")\n",
    "\n",
    "name5\n",
    "\n",
    "titles5 = []\n",
    "\n",
    "num = 1\n",
    "for i in name5:\n",
    "    if num <=10:\n",
    "        titles5.append(i.text)\n",
    "        num+=1\n",
    "    else:\n",
    "        break\n",
    "        \n",
    "print(titles5[:5])\n",
    "\n",
    "len(titles5)"
   ]
  },
  {
   "cell_type": "code",
   "execution_count": 276,
   "metadata": {},
   "outputs": [
    {
     "name": "stdout",
     "output_type": "stream",
     "text": [
      "['₹ 5,97,967/yr', '₹ 8,79,486/yr', '₹ 7,15,984/yr', '₹ 12,12,741/yr', '₹ 10,97,744/yr']\n"
     ]
    },
    {
     "data": {
      "text/plain": [
       "10"
      ]
     },
     "execution_count": 276,
     "metadata": {},
     "output_type": "execute_result"
    }
   ],
   "source": [
    "avg5 = driver.find_elements_by_xpath(\"//div[@class='col-2 d-none d-md-flex flex-row justify-content-end']\")\n",
    "\n",
    "avg5\n",
    "\n",
    "avgsal5 = []\n",
    "\n",
    "num = 1\n",
    "for i in avg5:\n",
    "    if num <=10:\n",
    "        avgsal5.append(i.text.replace('\\n',''))\n",
    "        num+=1\n",
    "    else:\n",
    "        break\n",
    "        \n",
    "print(avgsal5[:5])\n",
    "\n",
    "len(avgsal5)"
   ]
  },
  {
   "cell_type": "code",
   "execution_count": 264,
   "metadata": {},
   "outputs": [
    {
     "name": "stdout",
     "output_type": "stream",
     "text": [
      "['₹333K', '₹569K', '₹350K', '₹436K', '₹560K']\n"
     ]
    },
    {
     "data": {
      "text/plain": [
       "10"
      ]
     },
     "execution_count": 264,
     "metadata": {},
     "output_type": "execute_result"
    }
   ],
   "source": [
    "min5 = driver.find_elements_by_xpath(\"//div[@class='common__RangeBarStyle__values d-flex justify-content-between ']//span[1]\")\n",
    "\n",
    "min5\n",
    "\n",
    "minsal5 = []\n",
    "\n",
    "num = 1\n",
    "for i in min5:\n",
    "    if num <=10:\n",
    "        minsal5.append(i.text)\n",
    "        num+=1\n",
    "    else:\n",
    "        break\n",
    "        \n",
    "print(minsal5[:5])\n",
    "\n",
    "len(minsal5)"
   ]
  },
  {
   "cell_type": "code",
   "execution_count": 265,
   "metadata": {},
   "outputs": [
    {
     "name": "stdout",
     "output_type": "stream",
     "text": [
      "['₹1,080K', '₹2,648K', '₹1,565K', '₹11,274K', '₹2,147K']\n"
     ]
    },
    {
     "data": {
      "text/plain": [
       "10"
      ]
     },
     "execution_count": 265,
     "metadata": {},
     "output_type": "execute_result"
    }
   ],
   "source": [
    "max5 = driver.find_elements_by_xpath(\"//div[@class='common__RangeBarStyle__values d-flex justify-content-between ']//span[2]\")\n",
    "\n",
    "max5\n",
    "\n",
    "maxsal5 = []\n",
    "\n",
    "num = 1\n",
    "for i in max5:\n",
    "    if num <=10:\n",
    "        maxsal5.append(i.text)\n",
    "        num+=1\n",
    "    else:\n",
    "        break\n",
    "        \n",
    "print(maxsal5[:5])\n",
    "\n",
    "len(maxsal5)"
   ]
  },
  {
   "cell_type": "code",
   "execution_count": 266,
   "metadata": {},
   "outputs": [
    {
     "name": "stdout",
     "output_type": "stream",
     "text": [
      "['16 salaries', '14 salaries', '14 salaries', '14 salaries', '13 salaries']\n"
     ]
    },
    {
     "data": {
      "text/plain": [
       "10"
      ]
     },
     "execution_count": 266,
     "metadata": {},
     "output_type": "execute_result"
    }
   ],
   "source": [
    "no5 = driver.find_elements_by_xpath(\"//p[@class='css-1uyte9r css-1kuy7z7 m-0 ']\")\n",
    "\n",
    "no5\n",
    "\n",
    "nosal5 = []\n",
    "\n",
    "num = 1\n",
    "for i in no5:\n",
    "    if num <=10:\n",
    "        nosal5.append(i.text)\n",
    "        num+=1\n",
    "    else:\n",
    "        break\n",
    "        \n",
    "print(nosal5[:5])\n",
    "\n",
    "len(nosal5)"
   ]
  },
  {
   "cell_type": "code",
   "execution_count": 277,
   "metadata": {},
   "outputs": [
    {
     "data": {
      "text/plain": [
       "(10, 5)"
      ]
     },
     "execution_count": 277,
     "metadata": {},
     "output_type": "execute_result"
    }
   ],
   "source": [
    "glassdoor1 = pd.DataFrame({'Company':titles5,'Number of Salaries':nosal5,'Average Salary':avgsal5,'Minimum Salary':minsal5,'Maximum Salary':maxsal5})\n",
    "\n",
    "glassdoor1.shape"
   ]
  },
  {
   "cell_type": "code",
   "execution_count": 279,
   "metadata": {},
   "outputs": [
    {
     "data": {
      "text/html": [
       "<div>\n",
       "<style scoped>\n",
       "    .dataframe tbody tr th:only-of-type {\n",
       "        vertical-align: middle;\n",
       "    }\n",
       "\n",
       "    .dataframe tbody tr th {\n",
       "        vertical-align: top;\n",
       "    }\n",
       "\n",
       "    .dataframe thead th {\n",
       "        text-align: right;\n",
       "    }\n",
       "</style>\n",
       "<table border=\"1\" class=\"dataframe\">\n",
       "  <thead>\n",
       "    <tr style=\"text-align: right;\">\n",
       "      <th></th>\n",
       "      <th>Company</th>\n",
       "      <th>Number of Salaries</th>\n",
       "      <th>Average Salary</th>\n",
       "      <th>Minimum Salary</th>\n",
       "      <th>Maximum Salary</th>\n",
       "    </tr>\n",
       "  </thead>\n",
       "  <tbody>\n",
       "    <tr>\n",
       "      <th>0</th>\n",
       "      <td>Tata Consultancy Services</td>\n",
       "      <td>16 salaries</td>\n",
       "      <td>₹ 5,97,967/yr</td>\n",
       "      <td>₹333K</td>\n",
       "      <td>₹1,080K</td>\n",
       "    </tr>\n",
       "    <tr>\n",
       "      <th>1</th>\n",
       "      <td>IBM</td>\n",
       "      <td>14 salaries</td>\n",
       "      <td>₹ 8,79,486/yr</td>\n",
       "      <td>₹569K</td>\n",
       "      <td>₹2,648K</td>\n",
       "    </tr>\n",
       "    <tr>\n",
       "      <th>2</th>\n",
       "      <td>Ericsson-Worldwide</td>\n",
       "      <td>14 salaries</td>\n",
       "      <td>₹ 7,15,984/yr</td>\n",
       "      <td>₹350K</td>\n",
       "      <td>₹1,565K</td>\n",
       "    </tr>\n",
       "    <tr>\n",
       "      <th>3</th>\n",
       "      <td>Delhivery</td>\n",
       "      <td>14 salaries</td>\n",
       "      <td>₹ 12,12,741/yr</td>\n",
       "      <td>₹436K</td>\n",
       "      <td>₹11,274K</td>\n",
       "    </tr>\n",
       "    <tr>\n",
       "      <th>4</th>\n",
       "      <td>Accenture</td>\n",
       "      <td>13 salaries</td>\n",
       "      <td>₹ 10,97,744/yr</td>\n",
       "      <td>₹560K</td>\n",
       "      <td>₹2,147K</td>\n",
       "    </tr>\n",
       "    <tr>\n",
       "      <th>5</th>\n",
       "      <td>UnitedHealth Group</td>\n",
       "      <td>11 salaries</td>\n",
       "      <td>₹ 12,96,182/yr</td>\n",
       "      <td>₹1,037K</td>\n",
       "      <td>₹1,500K</td>\n",
       "    </tr>\n",
       "    <tr>\n",
       "      <th>6</th>\n",
       "      <td>Valiance Solutions</td>\n",
       "      <td>9 salaries</td>\n",
       "      <td>₹ 7,90,812/yr</td>\n",
       "      <td>₹487K</td>\n",
       "      <td>₹1,421K</td>\n",
       "    </tr>\n",
       "    <tr>\n",
       "      <th>7</th>\n",
       "      <td>ZS Associates</td>\n",
       "      <td>8 salaries</td>\n",
       "      <td>₹ 11,19,962/yr</td>\n",
       "      <td>₹196K</td>\n",
       "      <td>₹1,755K</td>\n",
       "    </tr>\n",
       "    <tr>\n",
       "      <th>8</th>\n",
       "      <td>EXL Service</td>\n",
       "      <td>8 salaries</td>\n",
       "      <td>₹ 11,10,022/yr</td>\n",
       "      <td>₹558K</td>\n",
       "      <td>₹1,500K</td>\n",
       "    </tr>\n",
       "    <tr>\n",
       "      <th>9</th>\n",
       "      <td>Optum Global Solutions</td>\n",
       "      <td>8 salaries</td>\n",
       "      <td>₹ 13,93,451/yr</td>\n",
       "      <td>₹1,000K</td>\n",
       "      <td>₹2,085K</td>\n",
       "    </tr>\n",
       "  </tbody>\n",
       "</table>\n",
       "</div>"
      ],
      "text/plain": [
       "                     Company Number of Salaries  Average Salary  \\\n",
       "0  Tata Consultancy Services        16 salaries   ₹ 5,97,967/yr   \n",
       "1                        IBM        14 salaries   ₹ 8,79,486/yr   \n",
       "2         Ericsson-Worldwide        14 salaries   ₹ 7,15,984/yr   \n",
       "3                  Delhivery        14 salaries  ₹ 12,12,741/yr   \n",
       "4                  Accenture        13 salaries  ₹ 10,97,744/yr   \n",
       "5         UnitedHealth Group        11 salaries  ₹ 12,96,182/yr   \n",
       "6         Valiance Solutions         9 salaries   ₹ 7,90,812/yr   \n",
       "7              ZS Associates         8 salaries  ₹ 11,19,962/yr   \n",
       "8                EXL Service         8 salaries  ₹ 11,10,022/yr   \n",
       "9     Optum Global Solutions         8 salaries  ₹ 13,93,451/yr   \n",
       "\n",
       "  Minimum Salary Maximum Salary  \n",
       "0          ₹333K        ₹1,080K  \n",
       "1          ₹569K        ₹2,648K  \n",
       "2          ₹350K        ₹1,565K  \n",
       "3          ₹436K       ₹11,274K  \n",
       "4          ₹560K        ₹2,147K  \n",
       "5        ₹1,037K        ₹1,500K  \n",
       "6          ₹487K        ₹1,421K  \n",
       "7          ₹196K        ₹1,755K  \n",
       "8          ₹558K        ₹1,500K  \n",
       "9        ₹1,000K        ₹2,085K  "
      ]
     },
     "execution_count": 279,
     "metadata": {},
     "output_type": "execute_result"
    }
   ],
   "source": [
    "glassdoor1"
   ]
  },
  {
   "cell_type": "markdown",
   "metadata": {},
   "source": [
    "## Q6 : Scrape data of first 100 sunglasses listings on flipkart.com. \n",
    "\n",
    "You have to scrape four attributes:\n",
    "1. Brand\n",
    "2. Product Description\n",
    "3. Price\n",
    "4. Discount %\n"
   ]
  },
  {
   "cell_type": "code",
   "execution_count": 282,
   "metadata": {},
   "outputs": [],
   "source": [
    "driver = webdriver.Chrome(r'C:\\Users\\AKHIL\\Downloads\\chromedriver_win32\\chromedriver.exe')"
   ]
  },
  {
   "cell_type": "code",
   "execution_count": 284,
   "metadata": {},
   "outputs": [],
   "source": [
    "url6 = 'https://www.flipkart.com/'\n",
    "\n",
    "driver.get(url6)"
   ]
  },
  {
   "cell_type": "code",
   "execution_count": 285,
   "metadata": {},
   "outputs": [],
   "source": [
    "search_product = driver.find_element_by_xpath(\"//input[@class='_3704LK']\")\n",
    "search_product.send_keys('sunglasses')"
   ]
  },
  {
   "cell_type": "code",
   "execution_count": 286,
   "metadata": {},
   "outputs": [],
   "source": [
    "search_btn = driver.find_element_by_xpath(\"//button[@class='L0Z3Pu']\")\n",
    "search_btn.click()"
   ]
  },
  {
   "cell_type": "code",
   "execution_count": 287,
   "metadata": {},
   "outputs": [],
   "source": [
    "brands = driver.find_elements_by_xpath(\"//div[@class='_2WkVRV']\")"
   ]
  },
  {
   "cell_type": "code",
   "execution_count": 289,
   "metadata": {},
   "outputs": [
    {
     "data": {
      "text/plain": [
       "40"
      ]
     },
     "execution_count": 289,
     "metadata": {},
     "output_type": "execute_result"
    }
   ],
   "source": [
    "len(brands)"
   ]
  },
  {
   "cell_type": "code",
   "execution_count": 295,
   "metadata": {},
   "outputs": [],
   "source": [
    "desc = driver.find_elements_by_xpath(\"//div[@class='_2B099V']//a[1]\")\n"
   ]
  },
  {
   "cell_type": "code",
   "execution_count": 296,
   "metadata": {},
   "outputs": [
    {
     "data": {
      "text/plain": [
       "40"
      ]
     },
     "execution_count": 296,
     "metadata": {},
     "output_type": "execute_result"
    }
   ],
   "source": [
    "len(desc)"
   ]
  },
  {
   "cell_type": "code",
   "execution_count": 297,
   "metadata": {},
   "outputs": [],
   "source": [
    "prices = driver.find_elements_by_xpath(\"//div[@class='_30jeq3']\")"
   ]
  },
  {
   "cell_type": "code",
   "execution_count": 298,
   "metadata": {},
   "outputs": [
    {
     "data": {
      "text/plain": [
       "40"
      ]
     },
     "execution_count": 298,
     "metadata": {},
     "output_type": "execute_result"
    }
   ],
   "source": [
    "len(prices)"
   ]
  },
  {
   "cell_type": "code",
   "execution_count": 299,
   "metadata": {},
   "outputs": [],
   "source": [
    "discounts = driver.find_elements_by_xpath(\"//div[@class = '_3Ay6Sb']//span\")"
   ]
  },
  {
   "cell_type": "code",
   "execution_count": 300,
   "metadata": {},
   "outputs": [
    {
     "data": {
      "text/plain": [
       "40"
      ]
     },
     "execution_count": 300,
     "metadata": {},
     "output_type": "execute_result"
    }
   ],
   "source": [
    "len(discounts)"
   ]
  },
  {
   "cell_type": "code",
   "execution_count": 301,
   "metadata": {},
   "outputs": [],
   "source": [
    "Brand = []\n",
    "Description =[]\n",
    "Price =[]\n",
    "Discount = []"
   ]
  },
  {
   "cell_type": "code",
   "execution_count": 302,
   "metadata": {},
   "outputs": [],
   "source": [
    "for i in brands:\n",
    "    Brand.append(i.text)"
   ]
  },
  {
   "cell_type": "code",
   "execution_count": 304,
   "metadata": {},
   "outputs": [
    {
     "data": {
      "text/plain": [
       "40"
      ]
     },
     "execution_count": 304,
     "metadata": {},
     "output_type": "execute_result"
    }
   ],
   "source": [
    "len(Brand)"
   ]
  },
  {
   "cell_type": "code",
   "execution_count": 305,
   "metadata": {},
   "outputs": [],
   "source": [
    "for i in desc:\n",
    "    Description.append(i.text)"
   ]
  },
  {
   "cell_type": "code",
   "execution_count": 308,
   "metadata": {},
   "outputs": [
    {
     "data": {
      "text/plain": [
       "['UV Protection Aviator Sunglasses (54)',\n",
       " 'UV Protection Wayfarer Sunglasses (Free Size)',\n",
       " 'UV Protection Retro Square Sunglasses (Free Size)',\n",
       " 'UV Protection Retro Square Sunglasses (Free Size)',\n",
       " 'UV Protection Wayfarer Sunglasses (55)']"
      ]
     },
     "execution_count": 308,
     "metadata": {},
     "output_type": "execute_result"
    }
   ],
   "source": [
    "Description[:5]"
   ]
  },
  {
   "cell_type": "code",
   "execution_count": 309,
   "metadata": {},
   "outputs": [],
   "source": [
    "for i in prices:\n",
    "    Price.append(i.text)"
   ]
  },
  {
   "cell_type": "code",
   "execution_count": 310,
   "metadata": {},
   "outputs": [
    {
     "data": {
      "text/plain": [
       "['₹279', '₹5,059', '₹549', '₹621', '₹404']"
      ]
     },
     "execution_count": 310,
     "metadata": {},
     "output_type": "execute_result"
    }
   ],
   "source": [
    "Price[35:]"
   ]
  },
  {
   "cell_type": "code",
   "execution_count": 311,
   "metadata": {},
   "outputs": [],
   "source": [
    "for i in discounts:\n",
    "    Discount.append(i.text)"
   ]
  },
  {
   "cell_type": "code",
   "execution_count": 312,
   "metadata": {},
   "outputs": [
    {
     "data": {
      "text/plain": [
       "['81% off', '31% off', '63% off', '22% off', '79% off']"
      ]
     },
     "execution_count": 312,
     "metadata": {},
     "output_type": "execute_result"
    }
   ],
   "source": [
    "Discount[35:]"
   ]
  },
  {
   "cell_type": "code",
   "execution_count": 314,
   "metadata": {},
   "outputs": [],
   "source": [
    "next_btn = driver.find_element_by_xpath(\"//a[@class='_1LKTO3']//span\")"
   ]
  },
  {
   "cell_type": "code",
   "execution_count": 315,
   "metadata": {},
   "outputs": [],
   "source": [
    "next_btn.click()"
   ]
  },
  {
   "cell_type": "code",
   "execution_count": 316,
   "metadata": {},
   "outputs": [
    {
     "name": "stdout",
     "output_type": "stream",
     "text": [
      "80 80 80 80\n"
     ]
    }
   ],
   "source": [
    "brands = driver.find_elements_by_xpath(\"//div[@class='_2WkVRV']\")\n",
    "desc = driver.find_elements_by_xpath(\"//div[@class='_2B099V']//a[1]\")\n",
    "prices = driver.find_elements_by_xpath(\"//div[@class='_30jeq3']\")\n",
    "discounts = driver.find_elements_by_xpath(\"//div[@class = '_3Ay6Sb']//span\")\n",
    "\n",
    "for i in brands:\n",
    "    Brand.append(i.text)\n",
    "    \n",
    "for i in desc:\n",
    "    Description.append(i.text)\n",
    "    \n",
    "for i in prices:\n",
    "    Price.append(i.text)\n",
    "    \n",
    "for i in discounts:\n",
    "    Discount.append(i.text)\n",
    "    \n",
    "print(len(Brand),len(Description),len(Price),len(Discount))"
   ]
  },
  {
   "cell_type": "code",
   "execution_count": 317,
   "metadata": {},
   "outputs": [],
   "source": [
    "next_btn.click()"
   ]
  },
  {
   "cell_type": "code",
   "execution_count": 320,
   "metadata": {},
   "outputs": [
    {
     "name": "stdout",
     "output_type": "stream",
     "text": [
      "101 101 101 101\n"
     ]
    }
   ],
   "source": [
    "brands = driver.find_elements_by_xpath(\"//div[@class='_2WkVRV']\")\n",
    "desc = driver.find_elements_by_xpath(\"//div[@class='_2B099V']//a[1]\")\n",
    "prices = driver.find_elements_by_xpath(\"//div[@class='_30jeq3']\")\n",
    "discounts = driver.find_elements_by_xpath(\"//div[@class = '_3Ay6Sb']//span\")\n",
    "\n",
    "for i in brands:\n",
    "    if len(Brand) <= 100:\n",
    "        Brand.append(i.text)\n",
    "    else:\n",
    "        break\n",
    "    \n",
    "for i in desc:\n",
    "    if len(Description) <= 100:\n",
    "        Description.append(i.text)\n",
    "    else:\n",
    "        break\n",
    "\n",
    "for i in prices:\n",
    "    if len(Price) <= 100:\n",
    "        Price.append(i.text)\n",
    "    else:\n",
    "        break\n",
    "    \n",
    "for i in discounts:\n",
    "    if len(Discount) <= 100:\n",
    "        Discount.append(i.text)\n",
    "    else:\n",
    "        break\n",
    "    \n",
    "print(len(Brand),len(Description),len(Price),len(Discount))"
   ]
  },
  {
   "cell_type": "markdown",
   "metadata": {},
   "source": [
    "Since, we used the if condition with len <=100, the loop didnt break at 100, came out of the loop after scraping 101 element.\n",
    "\n",
    "Removing the 101 row while creating a dataframe"
   ]
  },
  {
   "cell_type": "code",
   "execution_count": 326,
   "metadata": {},
   "outputs": [],
   "source": [
    "sunglasses = pd.DataFrame({'Brand':Brand[:100],'Description':Description[:100],'Price':Price[:100],'Discount':Discount[:100]})"
   ]
  },
  {
   "cell_type": "code",
   "execution_count": 327,
   "metadata": {},
   "outputs": [
    {
     "data": {
      "text/plain": [
       "(100, 4)"
      ]
     },
     "execution_count": 327,
     "metadata": {},
     "output_type": "execute_result"
    }
   ],
   "source": [
    "sunglasses.shape"
   ]
  },
  {
   "cell_type": "code",
   "execution_count": 328,
   "metadata": {},
   "outputs": [
    {
     "data": {
      "text/plain": [
       "Brand          0\n",
       "Description    0\n",
       "Price          0\n",
       "Discount       0\n",
       "dtype: int64"
      ]
     },
     "execution_count": 328,
     "metadata": {},
     "output_type": "execute_result"
    }
   ],
   "source": [
    "sunglasses.isnull().sum()"
   ]
  },
  {
   "cell_type": "markdown",
   "metadata": {},
   "source": [
    "There are no null values recorded."
   ]
  },
  {
   "cell_type": "code",
   "execution_count": 329,
   "metadata": {},
   "outputs": [
    {
     "data": {
      "text/html": [
       "<div>\n",
       "<style scoped>\n",
       "    .dataframe tbody tr th:only-of-type {\n",
       "        vertical-align: middle;\n",
       "    }\n",
       "\n",
       "    .dataframe tbody tr th {\n",
       "        vertical-align: top;\n",
       "    }\n",
       "\n",
       "    .dataframe thead th {\n",
       "        text-align: right;\n",
       "    }\n",
       "</style>\n",
       "<table border=\"1\" class=\"dataframe\">\n",
       "  <thead>\n",
       "    <tr style=\"text-align: right;\">\n",
       "      <th></th>\n",
       "      <th>Brand</th>\n",
       "      <th>Description</th>\n",
       "      <th>Price</th>\n",
       "      <th>Discount</th>\n",
       "    </tr>\n",
       "  </thead>\n",
       "  <tbody>\n",
       "    <tr>\n",
       "      <th>0</th>\n",
       "      <td>PIRASO</td>\n",
       "      <td>UV Protection Aviator Sunglasses (54)</td>\n",
       "      <td>₹250</td>\n",
       "      <td>84% off</td>\n",
       "    </tr>\n",
       "    <tr>\n",
       "      <th>1</th>\n",
       "      <td>Fastrack</td>\n",
       "      <td>UV Protection Wayfarer Sunglasses (Free Size)</td>\n",
       "      <td>₹758</td>\n",
       "      <td>15% off</td>\n",
       "    </tr>\n",
       "    <tr>\n",
       "      <th>2</th>\n",
       "      <td>PHENOMENAL</td>\n",
       "      <td>UV Protection Retro Square Sunglasses (Free Size)</td>\n",
       "      <td>₹399</td>\n",
       "      <td>80% off</td>\n",
       "    </tr>\n",
       "    <tr>\n",
       "      <th>3</th>\n",
       "      <td>ROZZETTA CRAFT</td>\n",
       "      <td>UV Protection Retro Square Sunglasses (Free Size)</td>\n",
       "      <td>₹499</td>\n",
       "      <td>77% off</td>\n",
       "    </tr>\n",
       "    <tr>\n",
       "      <th>4</th>\n",
       "      <td>HIPPON</td>\n",
       "      <td>UV Protection Wayfarer Sunglasses (55)</td>\n",
       "      <td>₹251</td>\n",
       "      <td>79% off</td>\n",
       "    </tr>\n",
       "  </tbody>\n",
       "</table>\n",
       "</div>"
      ],
      "text/plain": [
       "            Brand                                        Description Price  \\\n",
       "0          PIRASO              UV Protection Aviator Sunglasses (54)  ₹250   \n",
       "1        Fastrack      UV Protection Wayfarer Sunglasses (Free Size)  ₹758   \n",
       "2      PHENOMENAL  UV Protection Retro Square Sunglasses (Free Size)  ₹399   \n",
       "3  ROZZETTA CRAFT  UV Protection Retro Square Sunglasses (Free Size)  ₹499   \n",
       "4          HIPPON             UV Protection Wayfarer Sunglasses (55)  ₹251   \n",
       "\n",
       "  Discount  \n",
       "0  84% off  \n",
       "1  15% off  \n",
       "2  80% off  \n",
       "3  77% off  \n",
       "4  79% off  "
      ]
     },
     "execution_count": 329,
     "metadata": {},
     "output_type": "execute_result"
    }
   ],
   "source": [
    "sunglasses.head()"
   ]
  },
  {
   "cell_type": "markdown",
   "metadata": {},
   "source": [
    "## Q7: Scrape 100 reviews data from flipkart.com for iphone11 phone. \n",
    "\n",
    "You have to go the link: https://www.flipkart.com/apple-iphone-11-black-64-gb-includesearpods-poweradapter/p/itm0f37c2240b217?pid=MOBFKCTSVZAXUHGR&lid=LSTMOBFKCTSVZAXUHGREPBFGI&marketplace.\n",
    "\n",
    "1. Rating\n",
    "2. Review_summary\n",
    "3. Full review\n",
    "You have to scrape this data for first 100 reviews."
   ]
  },
  {
   "cell_type": "code",
   "execution_count": 480,
   "metadata": {},
   "outputs": [],
   "source": [
    "url7 = 'https://www.flipkart.com/apple-iphone-11-black-64-gb-includesearpods-poweradapter/p/itm0f37c2240b217?pid=MOBFKCTSVZAXUHGR&lid=LSTMOBFKCTSVZAXUHGREPBFGI&marketplace'"
   ]
  },
  {
   "cell_type": "code",
   "execution_count": 664,
   "metadata": {},
   "outputs": [],
   "source": [
    "driver.get(url7)"
   ]
  },
  {
   "cell_type": "code",
   "execution_count": 665,
   "metadata": {},
   "outputs": [],
   "source": [
    "all_r_btn = driver.find_element_by_xpath(\"//div[@class='_3UAT2v _16PBlm']//span\")\n",
    "all_r_btn.click()\n",
    "\n",
    "time.sleep(2)"
   ]
  },
  {
   "cell_type": "code",
   "execution_count": 666,
   "metadata": {},
   "outputs": [],
   "source": [
    "Rating = []\n",
    "Summary =[]\n",
    "Review = []"
   ]
  },
  {
   "cell_type": "code",
   "execution_count": 667,
   "metadata": {},
   "outputs": [],
   "source": [
    "ratings = driver.find_elements_by_xpath(\"//div[@class = '_3LWZlK _1BLPMq']\")"
   ]
  },
  {
   "cell_type": "code",
   "execution_count": 668,
   "metadata": {},
   "outputs": [],
   "source": [
    "for i in ratings:\n",
    "    Rating.append(i.text)"
   ]
  },
  {
   "cell_type": "code",
   "execution_count": 669,
   "metadata": {},
   "outputs": [
    {
     "data": {
      "text/plain": [
       "10"
      ]
     },
     "execution_count": 669,
     "metadata": {},
     "output_type": "execute_result"
    }
   ],
   "source": [
    "len(Rating)"
   ]
  },
  {
   "cell_type": "code",
   "execution_count": 670,
   "metadata": {},
   "outputs": [
    {
     "data": {
      "text/plain": [
       "10"
      ]
     },
     "execution_count": 670,
     "metadata": {},
     "output_type": "execute_result"
    }
   ],
   "source": [
    "short_rev = driver.find_elements_by_xpath(\"//p[@class='_2-N8zT']\")\n",
    "len(short_rev)"
   ]
  },
  {
   "cell_type": "code",
   "execution_count": 671,
   "metadata": {},
   "outputs": [],
   "source": [
    "for i in short_rev:\n",
    "    Summary.append(i.text)"
   ]
  },
  {
   "cell_type": "code",
   "execution_count": 672,
   "metadata": {},
   "outputs": [
    {
     "data": {
      "text/plain": [
       "10"
      ]
     },
     "execution_count": 672,
     "metadata": {},
     "output_type": "execute_result"
    }
   ],
   "source": [
    "full_r = driver.find_elements_by_xpath(\"//div[@class = 't-ZTKy']\")\n",
    "len(full_r)"
   ]
  },
  {
   "cell_type": "code",
   "execution_count": 673,
   "metadata": {},
   "outputs": [],
   "source": [
    "for i in full_r:\n",
    "    Review.append(i.text)"
   ]
  },
  {
   "cell_type": "code",
   "execution_count": 674,
   "metadata": {},
   "outputs": [
    {
     "name": "stdout",
     "output_type": "stream",
     "text": [
      "10 10 10\n"
     ]
    }
   ],
   "source": [
    "print(len(Rating),len(Summary),len(Review))"
   ]
  },
  {
   "cell_type": "code",
   "execution_count": 675,
   "metadata": {},
   "outputs": [],
   "source": [
    "next_btn = driver.find_element_by_xpath(\"//a[@class = '_1LKTO3']//span\")\n",
    "next_btn.click()\n",
    "\n",
    "time.sleep(2)"
   ]
  },
  {
   "cell_type": "code",
   "execution_count": 676,
   "metadata": {},
   "outputs": [
    {
     "name": "stdout",
     "output_type": "stream",
     "text": [
      "Rating  20\n",
      "Summary  20\n",
      "Review 20\n",
      "Rating  30\n",
      "Summary  30\n",
      "Review 30\n",
      "Rating  40\n",
      "Summary  40\n",
      "Review 40\n",
      "Rating  50\n",
      "Summary  50\n",
      "Review 50\n",
      "Rating  60\n",
      "Summary  60\n",
      "Review 60\n",
      "Rating  70\n",
      "Summary  70\n",
      "Review 70\n",
      "Rating  80\n",
      "Summary  80\n",
      "Review 80\n",
      "Rating  90\n",
      "Summary  90\n",
      "Review 90\n",
      "Rating  100\n",
      "Summary  100\n",
      "Review 100\n"
     ]
    }
   ],
   "source": [
    "while len(Rating) < 100:\n",
    "    ratings = driver.find_elements_by_xpath(\"//div[@class='row']//div[starts-with(@class,'_3LWZlK')]\")\n",
    "    \n",
    "    len(ratings)\n",
    "    time.sleep(3)\n",
    "    \n",
    "    for i in ratings:\n",
    "        Rating.append(i.text)\n",
    "        \n",
    "    time.sleep(1)\n",
    "    \n",
    "    print('Rating ',len(Rating))\n",
    "    \n",
    "    short_rev = driver.find_elements_by_xpath(\"//p[@class='_2-N8zT']\")\n",
    "    time.sleep(2)\n",
    "    \n",
    "    for i in short_rev:\n",
    "        Summary.append(i.text)\n",
    "        \n",
    "    time.sleep(1)\n",
    "    \n",
    "    print('Summary ',len(Summary))\n",
    "\n",
    "    full_r = driver.find_elements_by_xpath(\"//div[@class = 't-ZTKy']\")\n",
    "    time.sleep(2)\n",
    "    \n",
    "    for i in full_r:\n",
    "        Review.append(i.text)\n",
    "        \n",
    "    time.sleep(1)\n",
    "        \n",
    "    print('Review',len(Review))\n",
    "    \n",
    "    next_btn1 = driver.find_element_by_xpath(\"//a[@class = '_1LKTO3'][2]//span\")\n",
    "    next_btn1.click()\n",
    "    \n",
    "    time.sleep(3)\n",
    "    \n",
    "    "
   ]
  },
  {
   "cell_type": "markdown",
   "metadata": {},
   "source": [
    "The data has been scraped. Lets save it as dataframe andd check for duplicates if the loop worked or not."
   ]
  },
  {
   "cell_type": "code",
   "execution_count": 678,
   "metadata": {},
   "outputs": [],
   "source": [
    "iphone_review = pd.DataFrame({'Rating':Rating,'Summary':Summary,'Review':Review})"
   ]
  },
  {
   "cell_type": "code",
   "execution_count": 679,
   "metadata": {},
   "outputs": [
    {
     "data": {
      "text/plain": [
       "(100, 3)"
      ]
     },
     "execution_count": 679,
     "metadata": {},
     "output_type": "execute_result"
    }
   ],
   "source": [
    "iphone_review.shape"
   ]
  },
  {
   "cell_type": "code",
   "execution_count": 680,
   "metadata": {},
   "outputs": [
    {
     "data": {
      "text/plain": [
       "0"
      ]
     },
     "execution_count": 680,
     "metadata": {},
     "output_type": "execute_result"
    }
   ],
   "source": [
    "iphone_review.duplicated().sum()"
   ]
  },
  {
   "cell_type": "markdown",
   "metadata": {},
   "source": [
    "no rows are duplicated. the loop worked as expected with giving the webpages some time to load."
   ]
  },
  {
   "cell_type": "code",
   "execution_count": 683,
   "metadata": {},
   "outputs": [
    {
     "data": {
      "text/html": [
       "<div>\n",
       "<style scoped>\n",
       "    .dataframe tbody tr th:only-of-type {\n",
       "        vertical-align: middle;\n",
       "    }\n",
       "\n",
       "    .dataframe tbody tr th {\n",
       "        vertical-align: top;\n",
       "    }\n",
       "\n",
       "    .dataframe thead th {\n",
       "        text-align: right;\n",
       "    }\n",
       "</style>\n",
       "<table border=\"1\" class=\"dataframe\">\n",
       "  <thead>\n",
       "    <tr style=\"text-align: right;\">\n",
       "      <th></th>\n",
       "      <th>Rating</th>\n",
       "      <th>Summary</th>\n",
       "      <th>Review</th>\n",
       "    </tr>\n",
       "  </thead>\n",
       "  <tbody>\n",
       "    <tr>\n",
       "      <th>16</th>\n",
       "      <td>5</td>\n",
       "      <td>Highly recommended</td>\n",
       "      <td>It's my first time to use iOS phone and I am l...</td>\n",
       "    </tr>\n",
       "    <tr>\n",
       "      <th>15</th>\n",
       "      <td>5</td>\n",
       "      <td>Terrific</td>\n",
       "      <td>Really worth of money. i just love it. It is t...</td>\n",
       "    </tr>\n",
       "    <tr>\n",
       "      <th>88</th>\n",
       "      <td>5</td>\n",
       "      <td>Brilliant</td>\n",
       "      <td>Wow wow and wow, in 48k you will not get anyth...</td>\n",
       "    </tr>\n",
       "    <tr>\n",
       "      <th>10</th>\n",
       "      <td>5</td>\n",
       "      <td>Worth every penny</td>\n",
       "      <td>Best budget Iphone till date ❤️ go for it guys...</td>\n",
       "    </tr>\n",
       "    <tr>\n",
       "      <th>31</th>\n",
       "      <td>5</td>\n",
       "      <td>Mind-blowing purchase</td>\n",
       "      <td>Best Quality Product OF iPhone Series , Sound ...</td>\n",
       "    </tr>\n",
       "  </tbody>\n",
       "</table>\n",
       "</div>"
      ],
      "text/plain": [
       "   Rating                Summary  \\\n",
       "16      5     Highly recommended   \n",
       "15      5               Terrific   \n",
       "88      5              Brilliant   \n",
       "10      5      Worth every penny   \n",
       "31      5  Mind-blowing purchase   \n",
       "\n",
       "                                               Review  \n",
       "16  It's my first time to use iOS phone and I am l...  \n",
       "15  Really worth of money. i just love it. It is t...  \n",
       "88  Wow wow and wow, in 48k you will not get anyth...  \n",
       "10  Best budget Iphone till date ❤️ go for it guys...  \n",
       "31  Best Quality Product OF iPhone Series , Sound ...  "
      ]
     },
     "execution_count": 683,
     "metadata": {},
     "output_type": "execute_result"
    }
   ],
   "source": [
    "iphone_review.sample(5)"
   ]
  },
  {
   "cell_type": "markdown",
   "metadata": {},
   "source": [
    "## Q8: Scrape data for first 100 sneakers you find when you visit flipkart.com and search for “sneakers” in the search field.\n",
    "\n",
    "You have to scrape 4 attributes of each sneaker :\n",
    "1. Brand\n",
    "2. Product Description\n",
    "3. Price\n",
    "4. discount %\n"
   ]
  },
  {
   "cell_type": "code",
   "execution_count": 748,
   "metadata": {},
   "outputs": [],
   "source": [
    "url8 = 'https://www.flipkart.com/'\n",
    "\n",
    "driver.get(url8)"
   ]
  },
  {
   "cell_type": "code",
   "execution_count": 749,
   "metadata": {},
   "outputs": [],
   "source": [
    "search_product = driver.find_element_by_xpath(\"//input[@class='_3704LK']\")\n",
    "search_product.send_keys('sneakers')\n",
    "\n",
    "search_btn = driver.find_element_by_xpath(\"//button[@class='L0Z3Pu']\")\n",
    "search_btn.click()\n",
    "\n",
    "time.sleep(2)"
   ]
  },
  {
   "cell_type": "code",
   "execution_count": 750,
   "metadata": {},
   "outputs": [],
   "source": [
    "Brand = []\n",
    "Description =[]\n",
    "Price =[]\n",
    "Discount = []\n",
    "\n",
    "import numpy as np"
   ]
  },
  {
   "cell_type": "code",
   "execution_count": 751,
   "metadata": {},
   "outputs": [
    {
     "name": "stdout",
     "output_type": "stream",
     "text": [
      "40 40 40 40\n"
     ]
    }
   ],
   "source": [
    "\n",
    "    brands = driver.find_elements_by_xpath(\"//div[@class='_2WkVRV']\")\n",
    "    \n",
    "    time.sleep(1)\n",
    "    \n",
    "    for i in brands:\n",
    "        if len(Brand) < 100:\n",
    "            Brand.append(i.text)\n",
    "        else:\n",
    "            break\n",
    "            \n",
    "    desc = driver.find_elements_by_xpath(\"//div[@class='_2B099V']//a[1]\")\n",
    "    \n",
    "    time.sleep(1)\n",
    "    \n",
    "    for i in desc:\n",
    "        if len(Description) < 100:\n",
    "            Description.append(i.text)\n",
    "        else:\n",
    "            break\n",
    "            \n",
    "    time.sleep(1)\n",
    "            \n",
    "    prices = driver.find_elements_by_xpath(\"//div[@class='_30jeq3']\")\n",
    "    \n",
    "    time.sleep(1)\n",
    "    \n",
    "    for i in prices:\n",
    "        if len(Price) < 100:\n",
    "            Price.append(i.text)\n",
    "        else:\n",
    "            break\n",
    "            \n",
    "    time.sleep(1)\n",
    "            \n",
    "    discounts = driver.find_elements_by_xpath(\"//div[@class = '_3Ay6Sb']//span\")\n",
    "    \n",
    "    time.sleep(1)\n",
    "    \n",
    "    \n",
    "    for i in discounts:\n",
    "        if len(Discount) == 37: #there is one product with no discount at 37th position in the products page\n",
    "            Discount.append(np.nan)\n",
    "            pass\n",
    "           \n",
    "        if len(Discount) <100 :\n",
    "            Discount.append(i.text)\n",
    "                \n",
    "        else:\n",
    "            break\n",
    "            \n",
    "    time.sleep(1)\n",
    "    \n",
    "    \n",
    "    j = 1\n",
    "    if j == 1:\n",
    "        next_btn = driver.find_element_by_xpath(\"//a[@class = '_1LKTO3']//span\")\n",
    "        next_btn.click()\n",
    "        \n",
    "        time.sleep(3)\n",
    "        \n",
    "        j+=1\n",
    "    else:\n",
    "        next_btn1 = driver.find_element_by_xpath(\"//a[@class = '_1LKTO3'][2]//span\")\n",
    "        next_btn1.click()\n",
    "        \n",
    "        time.sleep(3)\n",
    "\n",
    "    time.sleep(2) \n",
    "\n",
    "    print(len(Brand),len(Description),len(Price),len(Discount))\n",
    "    \n",
    "    \n",
    "\n"
   ]
  },
  {
   "cell_type": "code",
   "execution_count": 752,
   "metadata": {},
   "outputs": [
    {
     "data": {
      "text/plain": [
       "'60% off'"
      ]
     },
     "execution_count": 752,
     "metadata": {},
     "output_type": "execute_result"
    }
   ],
   "source": [
    "Discount[39]"
   ]
  },
  {
   "cell_type": "code",
   "execution_count": 753,
   "metadata": {
    "scrolled": true
   },
   "outputs": [
    {
     "data": {
      "text/plain": [
       "['60% off',\n",
       " '60% off',\n",
       " '52% off',\n",
       " '70% off',\n",
       " '55% off',\n",
       " '77% off',\n",
       " '43% off',\n",
       " '85% off',\n",
       " '65% off',\n",
       " '52% off',\n",
       " '57% off',\n",
       " '58% off',\n",
       " '46% off',\n",
       " '54% off',\n",
       " '65% off',\n",
       " '40% off',\n",
       " '57% off',\n",
       " '78% off',\n",
       " '60% off',\n",
       " '74% off',\n",
       " '62% off',\n",
       " '55% off',\n",
       " '55% off',\n",
       " '44% off',\n",
       " '30% off',\n",
       " '62% off',\n",
       " '85% off',\n",
       " '50% off',\n",
       " '52% off',\n",
       " '70% off',\n",
       " '15% off',\n",
       " '55% off',\n",
       " '20% off',\n",
       " '69% off',\n",
       " '62% off',\n",
       " '53% off',\n",
       " '81% off',\n",
       " nan,\n",
       " '27% off',\n",
       " '60% off']"
      ]
     },
     "execution_count": 753,
     "metadata": {},
     "output_type": "execute_result"
    }
   ],
   "source": [
    "Discount[:40]"
   ]
  },
  {
   "cell_type": "code",
   "execution_count": 755,
   "metadata": {},
   "outputs": [
    {
     "name": "stdout",
     "output_type": "stream",
     "text": [
      "80 80 80 80\n",
      "100 100 100 100\n"
     ]
    }
   ],
   "source": [
    "while len(Brand) < 100:\n",
    "    brands = driver.find_elements_by_xpath(\"//div[@class='_2WkVRV']\")\n",
    "    \n",
    "    time.sleep(1)\n",
    "    \n",
    "    for i in brands:\n",
    "        if len(Brand) < 100:\n",
    "            Brand.append(i.text)\n",
    "        else:\n",
    "            break\n",
    "            \n",
    "    desc = driver.find_elements_by_xpath(\"//div[@class='_2B099V']//a[1]\")\n",
    "    \n",
    "    time.sleep(1)\n",
    "    \n",
    "    for i in desc:\n",
    "        if len(Description) < 100:\n",
    "            Description.append(i.text)\n",
    "        else:\n",
    "            break\n",
    "            \n",
    "    time.sleep(1)\n",
    "            \n",
    "    prices = driver.find_elements_by_xpath(\"//div[@class='_30jeq3']\")\n",
    "    \n",
    "    time.sleep(1)\n",
    "    \n",
    "    for i in prices:\n",
    "        if len(Price) < 100:\n",
    "            Price.append(i.text)\n",
    "        else:\n",
    "            break\n",
    "            \n",
    "    time.sleep(1)\n",
    "            \n",
    "    discounts = driver.find_elements_by_xpath(\"//div[@class = '_3Ay6Sb']//span\")\n",
    "    \n",
    "    time.sleep(1)\n",
    "    \n",
    "    \n",
    "    for i in discounts:\n",
    "        if len(Discount) == 37: #there is one product with no discount at 37th position in the products page\n",
    "            Discount.append(np.nan)\n",
    "            pass\n",
    "           \n",
    "        if len(Discount) <100 :\n",
    "            Discount.append(i.text)\n",
    "                \n",
    "        else:\n",
    "            break\n",
    "            \n",
    "    time.sleep(1)\n",
    "    \n",
    "    \n",
    "    next_btn1 = driver.find_element_by_xpath(\"//a[@class = '_1LKTO3'][2]//span\")\n",
    "    next_btn1.click()\n",
    "        \n",
    "    time.sleep(3)\n",
    "\n",
    "    print(len(Brand),len(Description),len(Price),len(Discount))\n",
    "    "
   ]
  },
  {
   "cell_type": "code",
   "execution_count": 757,
   "metadata": {},
   "outputs": [
    {
     "name": "stdout",
     "output_type": "stream",
     "text": [
      "(100, 4)\n"
     ]
    },
    {
     "data": {
      "text/html": [
       "<div>\n",
       "<style scoped>\n",
       "    .dataframe tbody tr th:only-of-type {\n",
       "        vertical-align: middle;\n",
       "    }\n",
       "\n",
       "    .dataframe tbody tr th {\n",
       "        vertical-align: top;\n",
       "    }\n",
       "\n",
       "    .dataframe thead th {\n",
       "        text-align: right;\n",
       "    }\n",
       "</style>\n",
       "<table border=\"1\" class=\"dataframe\">\n",
       "  <thead>\n",
       "    <tr style=\"text-align: right;\">\n",
       "      <th></th>\n",
       "      <th>Brand</th>\n",
       "      <th>Description</th>\n",
       "      <th>Price</th>\n",
       "      <th>Discount</th>\n",
       "    </tr>\n",
       "  </thead>\n",
       "  <tbody>\n",
       "    <tr>\n",
       "      <th>35</th>\n",
       "      <td>ESSENCE</td>\n",
       "      <td>Sneakers For Men</td>\n",
       "      <td>₹468</td>\n",
       "      <td>53% off</td>\n",
       "    </tr>\n",
       "    <tr>\n",
       "      <th>36</th>\n",
       "      <td>World Wear Footwear</td>\n",
       "      <td>Combo Pack of 4 Latest Collection Stylish Casu...</td>\n",
       "      <td>₹499</td>\n",
       "      <td>81% off</td>\n",
       "    </tr>\n",
       "    <tr>\n",
       "      <th>37</th>\n",
       "      <td>SPARX</td>\n",
       "      <td>SM439G Sneakers For Men</td>\n",
       "      <td>₹699</td>\n",
       "      <td>NaN</td>\n",
       "    </tr>\n",
       "    <tr>\n",
       "      <th>38</th>\n",
       "      <td>SPARX</td>\n",
       "      <td>SM-482 Sneakers For Men</td>\n",
       "      <td>₹975</td>\n",
       "      <td>27% off</td>\n",
       "    </tr>\n",
       "    <tr>\n",
       "      <th>39</th>\n",
       "      <td>oxpeo</td>\n",
       "      <td>Colourblocked Trending Multicolor Ultralight c...</td>\n",
       "      <td>₹398</td>\n",
       "      <td>60% off</td>\n",
       "    </tr>\n",
       "  </tbody>\n",
       "</table>\n",
       "</div>"
      ],
      "text/plain": [
       "                  Brand                                        Description  \\\n",
       "35              ESSENCE                                   Sneakers For Men   \n",
       "36  World Wear Footwear  Combo Pack of 4 Latest Collection Stylish Casu...   \n",
       "37                SPARX                            SM439G Sneakers For Men   \n",
       "38                SPARX                            SM-482 Sneakers For Men   \n",
       "39                oxpeo  Colourblocked Trending Multicolor Ultralight c...   \n",
       "\n",
       "   Price Discount  \n",
       "35  ₹468  53% off  \n",
       "36  ₹499  81% off  \n",
       "37  ₹699      NaN  \n",
       "38  ₹975  27% off  \n",
       "39  ₹398  60% off  "
      ]
     },
     "execution_count": 757,
     "metadata": {},
     "output_type": "execute_result"
    }
   ],
   "source": [
    "flip_sneakers = pd.DataFrame({'Brand':Brand,'Description':Description,'Price':Price,'Discount':Discount})\n",
    "\n",
    "print(flip_sneakers.shape)\n",
    "\n",
    "flip_sneakers.iloc[35:40,:]"
   ]
  },
  {
   "cell_type": "markdown",
   "metadata": {},
   "source": [
    " "
   ]
  },
  {
   "cell_type": "markdown",
   "metadata": {},
   "source": [
    "## Q9: Go to the link - https://www.myntra.com/shoes\n",
    "\n",
    "Set Price filter to “Rs. 6649 to Rs. 13099” , Color filter to “Black”\n",
    "\n",
    "And then scrape First 100 shoes data you get. The data should include “Brand” of the shoes , Short Shoe description, price of the shoe"
   ]
  },
  {
   "cell_type": "code",
   "execution_count": 980,
   "metadata": {},
   "outputs": [],
   "source": [
    "url9 = 'https://www.myntra.com/shoes'\n",
    "\n",
    "driver.get(url9)"
   ]
  },
  {
   "cell_type": "code",
   "execution_count": 981,
   "metadata": {},
   "outputs": [],
   "source": [
    "price_filter = driver.find_element_by_xpath(\"//ul[@class = 'price-list']//li[2]//label[@class='common-customCheckbox vertical-filters-label']//div\")\n",
    "price_filter.click()"
   ]
  },
  {
   "cell_type": "code",
   "execution_count": 982,
   "metadata": {},
   "outputs": [],
   "source": [
    "color_filter = driver.find_element_by_xpath(\"//li[@class = 'colour-listItem'][1]//label//div\")\n",
    "color_filter.click()"
   ]
  },
  {
   "cell_type": "code",
   "execution_count": 983,
   "metadata": {},
   "outputs": [],
   "source": [
    "brands = driver.find_elements_by_xpath(\"//a[@target='_blank']//div[@class='product-productMetaInfo']//h3[@class='product-brand']\")"
   ]
  },
  {
   "cell_type": "code",
   "execution_count": 984,
   "metadata": {},
   "outputs": [
    {
     "data": {
      "text/plain": [
       "50"
      ]
     },
     "execution_count": 984,
     "metadata": {},
     "output_type": "execute_result"
    }
   ],
   "source": [
    "Brand = []\n",
    "\n",
    "for i in brands:\n",
    "    Brand.append(i.text)\n",
    "    \n",
    "len(Brand)"
   ]
  },
  {
   "cell_type": "code",
   "execution_count": 985,
   "metadata": {},
   "outputs": [],
   "source": [
    "ssd = driver.find_elements_by_xpath(\"//a[@target='_blank']//div[@class='product-productMetaInfo']//h4[@class='product-product']\")"
   ]
  },
  {
   "cell_type": "code",
   "execution_count": 986,
   "metadata": {},
   "outputs": [
    {
     "data": {
      "text/plain": [
       "50"
      ]
     },
     "execution_count": 986,
     "metadata": {},
     "output_type": "execute_result"
    }
   ],
   "source": [
    "Short_desc = []\n",
    "\n",
    "for i in ssd:\n",
    "    Short_desc.append(i.text)\n",
    "    \n",
    "len(Short_desc)"
   ]
  },
  {
   "cell_type": "code",
   "execution_count": 987,
   "metadata": {},
   "outputs": [],
   "source": [
    "prices = driver.find_elements_by_xpath(\"//div[@class='product-price']\")"
   ]
  },
  {
   "cell_type": "code",
   "execution_count": 988,
   "metadata": {},
   "outputs": [
    {
     "data": {
      "text/plain": [
       "50"
      ]
     },
     "execution_count": 988,
     "metadata": {},
     "output_type": "execute_result"
    }
   ],
   "source": [
    "len(prices)"
   ]
  },
  {
   "cell_type": "code",
   "execution_count": 989,
   "metadata": {},
   "outputs": [
    {
     "data": {
      "text/plain": [
       "50"
      ]
     },
     "execution_count": 989,
     "metadata": {},
     "output_type": "execute_result"
    }
   ],
   "source": [
    "Price =[]\n",
    "\n",
    "for i in prices:\n",
    "    Price.append(i.text.replace('Rs.',''))\n",
    "    \n",
    "len(Price)"
   ]
  },
  {
   "cell_type": "code",
   "execution_count": 1013,
   "metadata": {
    "scrolled": true
   },
   "outputs": [
    {
     "data": {
      "text/plain": [
       "[' 12495',\n",
       " ' 11495',\n",
       " ' 10496 14995(30% OFF)',\n",
       " ' 12995',\n",
       " ' 8449 12999(35% OFF)',\n",
       " ' 10995',\n",
       " ' 7721 10295(25% OFF)',\n",
       " ' 7999',\n",
       " ' 7496 9995(25% OFF)',\n",
       " ' 7206 10295(30% OFF)',\n",
       " ' 6996 9995( 30 % OFF)',\n",
       " ' 10846 15495(30% OFF)',\n",
       " ' 8396 11995(30% OFF)',\n",
       " ' 7999',\n",
       " ' 10121 13495(25% OFF)',\n",
       " ' 10999',\n",
       " ' 10999',\n",
       " ' 10999',\n",
       " ' 12999',\n",
       " ' 6799 7999(15% OFF)',\n",
       " ' 9999',\n",
       " ' 7199 8999(20% OFF)',\n",
       " ' 8999',\n",
       " ' 11999',\n",
       " ' 9999',\n",
       " ' 10999',\n",
       " ' 8999',\n",
       " ' 7999',\n",
       " ' 6999',\n",
       " ' 7999',\n",
       " ' 10999',\n",
       " ' 10999',\n",
       " ' 9999',\n",
       " ' 9999',\n",
       " ' 9975 10500(5% OFF)',\n",
       " ' 6999',\n",
       " ' 6999',\n",
       " ' 6749 8999(25% OFF)',\n",
       " ' 7999 9999(20% OFF)',\n",
       " ' 7799 12999(40% OFF)',\n",
       " ' 8999',\n",
       " ' 9999',\n",
       " ' 7490',\n",
       " ' 7499',\n",
       " ' 9999',\n",
       " ' 7499',\n",
       " ' 6993 9990(30% OFF)',\n",
       " ' 12999',\n",
       " ' 11999',\n",
       " ' 11305 11900(5% OFF)']"
      ]
     },
     "execution_count": 1013,
     "metadata": {},
     "output_type": "execute_result"
    }
   ],
   "source": [
    "Price"
   ]
  },
  {
   "cell_type": "code",
   "execution_count": 990,
   "metadata": {},
   "outputs": [],
   "source": [
    "x = []\n",
    "\n",
    "for i in Price:\n",
    "    x.append(i.split(' '))"
   ]
  },
  {
   "cell_type": "code",
   "execution_count": 991,
   "metadata": {
    "scrolled": true
   },
   "outputs": [
    {
     "data": {
      "text/plain": [
       "[['', '12495'],\n",
       " ['', '11495'],\n",
       " ['', '10496', '14995(30%', 'OFF)'],\n",
       " ['', '12995'],\n",
       " ['', '8449', '12999(35%', 'OFF)'],\n",
       " ['', '10995'],\n",
       " ['', '7721', '10295(25%', 'OFF)'],\n",
       " ['', '7999'],\n",
       " ['', '7496', '9995(25%', 'OFF)'],\n",
       " ['', '7206', '10295(30%', 'OFF)'],\n",
       " ['', '6996', '9995(', '30', '%', 'OFF)'],\n",
       " ['', '10846', '15495(30%', 'OFF)'],\n",
       " ['', '8396', '11995(30%', 'OFF)'],\n",
       " ['', '7999'],\n",
       " ['', '10121', '13495(25%', 'OFF)'],\n",
       " ['', '10999'],\n",
       " ['', '10999'],\n",
       " ['', '10999'],\n",
       " ['', '12999'],\n",
       " ['', '6799', '7999(15%', 'OFF)'],\n",
       " ['', '9999'],\n",
       " ['', '7199', '8999(20%', 'OFF)'],\n",
       " ['', '8999'],\n",
       " ['', '11999'],\n",
       " ['', '9999'],\n",
       " ['', '10999'],\n",
       " ['', '8999'],\n",
       " ['', '7999'],\n",
       " ['', '6999'],\n",
       " ['', '7999'],\n",
       " ['', '10999'],\n",
       " ['', '10999'],\n",
       " ['', '9999'],\n",
       " ['', '9999'],\n",
       " ['', '9975', '10500(5%', 'OFF)'],\n",
       " ['', '6999'],\n",
       " ['', '6999'],\n",
       " ['', '6749', '8999(25%', 'OFF)'],\n",
       " ['', '7999', '9999(20%', 'OFF)'],\n",
       " ['', '7799', '12999(40%', 'OFF)'],\n",
       " ['', '8999'],\n",
       " ['', '9999'],\n",
       " ['', '7490'],\n",
       " ['', '7499'],\n",
       " ['', '9999'],\n",
       " ['', '7499'],\n",
       " ['', '6993', '9990(30%', 'OFF)'],\n",
       " ['', '12999'],\n",
       " ['', '11999'],\n",
       " ['', '11305', '11900(5%', 'OFF)']]"
      ]
     },
     "execution_count": 991,
     "metadata": {},
     "output_type": "execute_result"
    }
   ],
   "source": [
    "x"
   ]
  },
  {
   "cell_type": "code",
   "execution_count": 992,
   "metadata": {},
   "outputs": [],
   "source": [
    "var = []\n",
    "for i in range(len(x)):\n",
    "    var.append(x[i][1])\n",
    "    "
   ]
  },
  {
   "cell_type": "code",
   "execution_count": 979,
   "metadata": {
    "scrolled": true
   },
   "outputs": [
    {
     "data": {
      "text/plain": [
       "['7496',\n",
       " '7999',\n",
       " '11495',\n",
       " '7206',\n",
       " '12495',\n",
       " '12995',\n",
       " '6996',\n",
       " '10846',\n",
       " '7721',\n",
       " '10496',\n",
       " '8396',\n",
       " '7999',\n",
       " '10121',\n",
       " '10999',\n",
       " '10999',\n",
       " '10999',\n",
       " '10995',\n",
       " '6999',\n",
       " '7199',\n",
       " '8999',\n",
       " '11999',\n",
       " '7499',\n",
       " '9999',\n",
       " '7999',\n",
       " '10999',\n",
       " '9999',\n",
       " '8999',\n",
       " '7999',\n",
       " '6999',\n",
       " '6799',\n",
       " '7999',\n",
       " '9999',\n",
       " '10999',\n",
       " '10999',\n",
       " '12999',\n",
       " '6999',\n",
       " '6749',\n",
       " '7799',\n",
       " '8999',\n",
       " '9999',\n",
       " '7490',\n",
       " '7499',\n",
       " '9999',\n",
       " '6990',\n",
       " '11305',\n",
       " '9999',\n",
       " '6993',\n",
       " '12999',\n",
       " '11999',\n",
       " '9999']"
      ]
     },
     "execution_count": 979,
     "metadata": {},
     "output_type": "execute_result"
    }
   ],
   "source": [
    "var"
   ]
  },
  {
   "cell_type": "code",
   "execution_count": 993,
   "metadata": {},
   "outputs": [],
   "source": [
    "next_btn = driver.find_element_by_xpath(\"//a[@rel = 'next']\")\n",
    "next_btn.click()"
   ]
  },
  {
   "cell_type": "code",
   "execution_count": 994,
   "metadata": {},
   "outputs": [
    {
     "data": {
      "text/plain": [
       "99"
      ]
     },
     "execution_count": 994,
     "metadata": {},
     "output_type": "execute_result"
    }
   ],
   "source": [
    "brands = driver.find_elements_by_xpath(\"//a[@target='_blank']//div[@class='product-productMetaInfo']//h3[@class='product-brand']\")\n",
    "\n",
    "for i in brands:\n",
    "    Brand.append(i.text)\n",
    "    \n",
    "len(Brand)"
   ]
  },
  {
   "cell_type": "code",
   "execution_count": 995,
   "metadata": {},
   "outputs": [
    {
     "data": {
      "text/plain": [
       "99"
      ]
     },
     "execution_count": 995,
     "metadata": {},
     "output_type": "execute_result"
    }
   ],
   "source": [
    "ssd = driver.find_elements_by_xpath(\"//a[@target='_blank']//div[@class='product-productMetaInfo']//h4[@class='product-product']\")\n",
    "\n",
    "for i in ssd:\n",
    "    Short_desc.append(i.text)\n",
    "    \n",
    "len(Short_desc)"
   ]
  },
  {
   "cell_type": "code",
   "execution_count": 998,
   "metadata": {},
   "outputs": [
    {
     "data": {
      "text/plain": [
       "49"
      ]
     },
     "execution_count": 998,
     "metadata": {},
     "output_type": "execute_result"
    }
   ],
   "source": [
    "prices = driver.find_elements_by_xpath(\"//div[@class='product-price']\")\n",
    "\n",
    "Price1 =[]\n",
    "\n",
    "for i in prices:\n",
    "    Price1.append(i.text.replace('Rs.',''))\n",
    "    \n",
    "len(Price1)"
   ]
  },
  {
   "cell_type": "code",
   "execution_count": 999,
   "metadata": {},
   "outputs": [],
   "source": [
    "x = []\n",
    "\n",
    "for i in Price1:\n",
    "    x.append(i.split(' '))"
   ]
  },
  {
   "cell_type": "code",
   "execution_count": 1000,
   "metadata": {},
   "outputs": [],
   "source": [
    "for i in range(len(x)):\n",
    "    var.append(x[i][1])"
   ]
  },
  {
   "cell_type": "code",
   "execution_count": 1001,
   "metadata": {},
   "outputs": [
    {
     "data": {
      "text/plain": [
       "99"
      ]
     },
     "execution_count": 1001,
     "metadata": {},
     "output_type": "execute_result"
    }
   ],
   "source": [
    "len(var)"
   ]
  },
  {
   "cell_type": "code",
   "execution_count": 1002,
   "metadata": {},
   "outputs": [],
   "source": [
    "next_btn = driver.find_element_by_xpath(\"//a[@rel = 'next']\")\n",
    "next_btn.click()"
   ]
  },
  {
   "cell_type": "code",
   "execution_count": 1003,
   "metadata": {},
   "outputs": [
    {
     "data": {
      "text/plain": [
       "100"
      ]
     },
     "execution_count": 1003,
     "metadata": {},
     "output_type": "execute_result"
    }
   ],
   "source": [
    "brands = driver.find_element_by_xpath(\"//a[@target='_blank']//div[@class='product-productMetaInfo']//h3[@class='product-brand']\")\n",
    "\n",
    "Brand.append(brands.text)\n",
    "    \n",
    "len(Brand)"
   ]
  },
  {
   "cell_type": "code",
   "execution_count": 1004,
   "metadata": {},
   "outputs": [
    {
     "data": {
      "text/plain": [
       "100"
      ]
     },
     "execution_count": 1004,
     "metadata": {},
     "output_type": "execute_result"
    }
   ],
   "source": [
    "ssd = driver.find_element_by_xpath(\"//a[@target='_blank']//div[@class='product-productMetaInfo']//h4[@class='product-product']\")\n",
    "\n",
    "Short_desc.append(ssd.text)\n",
    "    \n",
    "len(Short_desc)"
   ]
  },
  {
   "cell_type": "code",
   "execution_count": 1007,
   "metadata": {},
   "outputs": [],
   "source": [
    "prices = driver.find_element_by_xpath(\"//div[@class='product-price']\")\n",
    "\n",
    "x = prices.text.replace('Rs.','').split(' ')"
   ]
  },
  {
   "cell_type": "code",
   "execution_count": 1010,
   "metadata": {},
   "outputs": [],
   "source": [
    "var.append(x[1])"
   ]
  },
  {
   "cell_type": "code",
   "execution_count": 1011,
   "metadata": {},
   "outputs": [
    {
     "name": "stdout",
     "output_type": "stream",
     "text": [
      "(100, 3)\n",
      "Brand         0\n",
      "Short_desc    0\n",
      "Price         0\n",
      "dtype: int64\n"
     ]
    },
    {
     "data": {
      "text/html": [
       "<div>\n",
       "<style scoped>\n",
       "    .dataframe tbody tr th:only-of-type {\n",
       "        vertical-align: middle;\n",
       "    }\n",
       "\n",
       "    .dataframe tbody tr th {\n",
       "        vertical-align: top;\n",
       "    }\n",
       "\n",
       "    .dataframe thead th {\n",
       "        text-align: right;\n",
       "    }\n",
       "</style>\n",
       "<table border=\"1\" class=\"dataframe\">\n",
       "  <thead>\n",
       "    <tr style=\"text-align: right;\">\n",
       "      <th></th>\n",
       "      <th>Brand</th>\n",
       "      <th>Short_desc</th>\n",
       "      <th>Price</th>\n",
       "    </tr>\n",
       "  </thead>\n",
       "  <tbody>\n",
       "    <tr>\n",
       "      <th>74</th>\n",
       "      <td>Reebok</td>\n",
       "      <td>Men Nano X1 Training Shoes</td>\n",
       "      <td>6999</td>\n",
       "    </tr>\n",
       "    <tr>\n",
       "      <th>86</th>\n",
       "      <td>Reebok</td>\n",
       "      <td>Unisex Zig Kinetica II Running</td>\n",
       "      <td>9999</td>\n",
       "    </tr>\n",
       "    <tr>\n",
       "      <th>67</th>\n",
       "      <td>ADIDAS Originals</td>\n",
       "      <td>Men Nite Jogger Fluid Sneakers</td>\n",
       "      <td>8449</td>\n",
       "    </tr>\n",
       "    <tr>\n",
       "      <th>96</th>\n",
       "      <td>UNDER ARMOUR</td>\n",
       "      <td>Women Charged Rogue 2 Running</td>\n",
       "      <td>7999</td>\n",
       "    </tr>\n",
       "    <tr>\n",
       "      <th>5</th>\n",
       "      <td>Nike</td>\n",
       "      <td>Men JORDAN DELTA Sneakers</td>\n",
       "      <td>10995</td>\n",
       "    </tr>\n",
       "  </tbody>\n",
       "</table>\n",
       "</div>"
      ],
      "text/plain": [
       "               Brand                      Short_desc  Price\n",
       "74            Reebok      Men Nano X1 Training Shoes   6999\n",
       "86            Reebok  Unisex Zig Kinetica II Running   9999\n",
       "67  ADIDAS Originals  Men Nite Jogger Fluid Sneakers   8449\n",
       "96      UNDER ARMOUR   Women Charged Rogue 2 Running   7999\n",
       "5               Nike       Men JORDAN DELTA Sneakers  10995"
      ]
     },
     "execution_count": 1011,
     "metadata": {},
     "output_type": "execute_result"
    }
   ],
   "source": [
    "Myn_shoes = pd.DataFrame({'Brand':Brand,'Short_desc':Short_desc,'Price':var})\n",
    "\n",
    "print(Myn_shoes.shape)\n",
    "\n",
    "print(Myn_shoes.isnull().sum())\n",
    "\n",
    "Myn_shoes.sample(5)"
   ]
  },
  {
   "cell_type": "code",
   "execution_count": 1012,
   "metadata": {},
   "outputs": [
    {
     "data": {
      "text/html": [
       "<div>\n",
       "<style scoped>\n",
       "    .dataframe tbody tr th:only-of-type {\n",
       "        vertical-align: middle;\n",
       "    }\n",
       "\n",
       "    .dataframe tbody tr th {\n",
       "        vertical-align: top;\n",
       "    }\n",
       "\n",
       "    .dataframe thead th {\n",
       "        text-align: right;\n",
       "    }\n",
       "</style>\n",
       "<table border=\"1\" class=\"dataframe\">\n",
       "  <thead>\n",
       "    <tr style=\"text-align: right;\">\n",
       "      <th></th>\n",
       "      <th>Brand</th>\n",
       "      <th>Short_desc</th>\n",
       "      <th>Price</th>\n",
       "    </tr>\n",
       "  </thead>\n",
       "  <tbody>\n",
       "    <tr>\n",
       "      <th>0</th>\n",
       "      <td>Nike</td>\n",
       "      <td>Men JORDAN DELTA Basketball</td>\n",
       "      <td>12495</td>\n",
       "    </tr>\n",
       "    <tr>\n",
       "      <th>1</th>\n",
       "      <td>Nike</td>\n",
       "      <td>AIR ZOOM PEGASUS Running Shoes</td>\n",
       "      <td>11495</td>\n",
       "    </tr>\n",
       "    <tr>\n",
       "      <th>2</th>\n",
       "      <td>Nike</td>\n",
       "      <td>Men JOYRIDE Running Shoes</td>\n",
       "      <td>10496</td>\n",
       "    </tr>\n",
       "    <tr>\n",
       "      <th>3</th>\n",
       "      <td>Nike</td>\n",
       "      <td>Men KD13 EP Basketball Shoes</td>\n",
       "      <td>12995</td>\n",
       "    </tr>\n",
       "    <tr>\n",
       "      <th>4</th>\n",
       "      <td>ADIDAS Originals</td>\n",
       "      <td>Men Nite Jogger Fluid Sneakers</td>\n",
       "      <td>8449</td>\n",
       "    </tr>\n",
       "    <tr>\n",
       "      <th>5</th>\n",
       "      <td>Nike</td>\n",
       "      <td>Men JORDAN DELTA Sneakers</td>\n",
       "      <td>10995</td>\n",
       "    </tr>\n",
       "    <tr>\n",
       "      <th>6</th>\n",
       "      <td>Nike</td>\n",
       "      <td>Women AIR ZOOM Running Shoes</td>\n",
       "      <td>7721</td>\n",
       "    </tr>\n",
       "    <tr>\n",
       "      <th>7</th>\n",
       "      <td>PUMA Motorsport</td>\n",
       "      <td>Unisex Mercedes Running Shoes</td>\n",
       "      <td>7999</td>\n",
       "    </tr>\n",
       "    <tr>\n",
       "      <th>8</th>\n",
       "      <td>Nike</td>\n",
       "      <td>Women PEGASUS 37 Running Shoes</td>\n",
       "      <td>7496</td>\n",
       "    </tr>\n",
       "    <tr>\n",
       "      <th>9</th>\n",
       "      <td>Nike</td>\n",
       "      <td>Men AIR ZOOM Running Shoes</td>\n",
       "      <td>7206</td>\n",
       "    </tr>\n",
       "  </tbody>\n",
       "</table>\n",
       "</div>"
      ],
      "text/plain": [
       "              Brand                      Short_desc  Price\n",
       "0              Nike     Men JORDAN DELTA Basketball  12495\n",
       "1              Nike  AIR ZOOM PEGASUS Running Shoes  11495\n",
       "2              Nike       Men JOYRIDE Running Shoes  10496\n",
       "3              Nike    Men KD13 EP Basketball Shoes  12995\n",
       "4  ADIDAS Originals  Men Nite Jogger Fluid Sneakers   8449\n",
       "5              Nike       Men JORDAN DELTA Sneakers  10995\n",
       "6              Nike    Women AIR ZOOM Running Shoes   7721\n",
       "7   PUMA Motorsport   Unisex Mercedes Running Shoes   7999\n",
       "8              Nike  Women PEGASUS 37 Running Shoes   7496\n",
       "9              Nike      Men AIR ZOOM Running Shoes   7206"
      ]
     },
     "execution_count": 1012,
     "metadata": {},
     "output_type": "execute_result"
    }
   ],
   "source": [
    "Myn_shoes.head(10)"
   ]
  },
  {
   "cell_type": "markdown",
   "metadata": {},
   "source": [
    "## Q10: Go to webpage https://www.amazon.in/\n",
    " \n",
    " Enter “Laptop” in the search field and then click the search icon.\n",
    " \n",
    " Then set CPU Type filter to “Intel Core i7” and “Intel Core i9”"
   ]
  },
  {
   "cell_type": "markdown",
   "metadata": {},
   "source": [
    "After setting the filters scrape first 10 laptops data. You have to scrape 3 attributes for each laptop:\n",
    "1. title\n",
    "2. Ratings\n",
    "3. Price"
   ]
  },
  {
   "cell_type": "code",
   "execution_count": 1157,
   "metadata": {},
   "outputs": [],
   "source": [
    "url10 = 'https://www.amazon.in/'\n",
    "\n",
    "driver.get(url10)"
   ]
  },
  {
   "cell_type": "code",
   "execution_count": 1158,
   "metadata": {},
   "outputs": [],
   "source": [
    "search_title = driver.find_element_by_xpath(\"//div[@class='nav-search-field ']//input\")\n",
    "search_title.send_keys('Laptop')"
   ]
  },
  {
   "cell_type": "code",
   "execution_count": 1159,
   "metadata": {},
   "outputs": [],
   "source": [
    "search_btn = driver.find_element_by_id('nav-search-submit-button')\n",
    "search_btn.click()"
   ]
  },
  {
   "cell_type": "code",
   "execution_count": 1163,
   "metadata": {},
   "outputs": [],
   "source": [
    "filter1 = driver.find_element_by_xpath(\"//ul[@aria-labelledby='p_n_feature_thirteen_browse-bin-title']//li[9]//label\")"
   ]
  },
  {
   "cell_type": "code",
   "execution_count": 1164,
   "metadata": {},
   "outputs": [],
   "source": [
    "filter1.click()\n"
   ]
  },
  {
   "cell_type": "markdown",
   "metadata": {},
   "source": [
    "Not able to use two filter options under same criteria at a time. Therefore, using only one filter"
   ]
  },
  {
   "cell_type": "code",
   "execution_count": 1165,
   "metadata": {},
   "outputs": [],
   "source": [
    "titles = driver.find_elements_by_xpath(\"//div[@class='a-section a-spacing-none']//span[@class='a-size-medium a-color-base a-text-normal']\")"
   ]
  },
  {
   "cell_type": "code",
   "execution_count": 1166,
   "metadata": {},
   "outputs": [],
   "source": [
    "Title = []\n",
    "num = 1\n",
    "for i in titles:\n",
    "    if num <= 10:\n",
    "        Title.append(i.text)\n",
    "        num+=1"
   ]
  },
  {
   "cell_type": "code",
   "execution_count": 1167,
   "metadata": {},
   "outputs": [
    {
     "data": {
      "text/plain": [
       "10"
      ]
     },
     "execution_count": 1167,
     "metadata": {},
     "output_type": "execute_result"
    }
   ],
   "source": [
    "len(Title)"
   ]
  },
  {
   "cell_type": "code",
   "execution_count": 1168,
   "metadata": {},
   "outputs": [
    {
     "data": {
      "text/plain": [
       "['Mi Notebook Horizon Edition 14 Intel Core i5-10210U 10th Gen 14-inch (35.56 cms) Thin and Light Laptop(8GB/512GB SSD/Windows 10/Nvidia MX350 2GB Graphics/Grey/1.35Kg), XMA1904-AR+Webcam',\n",
       " 'Lenovo Legion 5Pi 10th Gen Intel Core i7 15.6\" FHD Gaming Laptop (16GB/1TB SSD/Windows 10/MS Office 2019/144 Hz/NVIDIA RTX 2060 6GB GDDR6/with M300 RGB Gaming Mouse/Iron Grey/2.3Kg), 82AW005SIN',\n",
       " 'Life Digital Laptop 15.6-inch (39.62 cms) (Intel Core i7, 8GB RAM, 512GB SSD, Windows 10), ZED AIR CX7',\n",
       " 'Dell G3 3500 Gaming 15.6inch ( 39.62 cms) 120hz FHD Display Laptop (10th Gen i7-10750H / 8 GB / 512 SSD / GTX 1650 4GB / 1Yr Premium Warranty/ Win 10 + MS Office H&S 2019) D560250WIN9BE',\n",
       " 'Lenovo Yoga S740 Intel Core i7 10th Gen 14 inch UHD Ultra Thin and Light Laptop (16GB/1TB SSD/Windows/Office/NVIDIA MX250 2GB/Iron Grey/1.4Kg), 81RS00B0IN']"
      ]
     },
     "execution_count": 1168,
     "metadata": {},
     "output_type": "execute_result"
    }
   ],
   "source": [
    "Title[0:5]"
   ]
  },
  {
   "cell_type": "code",
   "execution_count": 1169,
   "metadata": {},
   "outputs": [],
   "source": [
    "prices = driver.find_elements_by_xpath(\"//span[@class='a-price-whole']\")"
   ]
  },
  {
   "cell_type": "code",
   "execution_count": 1170,
   "metadata": {},
   "outputs": [],
   "source": [
    "Price = []\n",
    "num = 1\n",
    "for i in prices:\n",
    "    if num <= 10:\n",
    "        Price.append(i.text)\n",
    "        num+=1"
   ]
  },
  {
   "cell_type": "code",
   "execution_count": 1171,
   "metadata": {},
   "outputs": [
    {
     "data": {
      "text/plain": [
       "10"
      ]
     },
     "execution_count": 1171,
     "metadata": {},
     "output_type": "execute_result"
    }
   ],
   "source": [
    "len(Price)"
   ]
  },
  {
   "cell_type": "code",
   "execution_count": 1172,
   "metadata": {},
   "outputs": [
    {
     "data": {
      "text/plain": [
       "['53,999', '1,35,490', '36,990', '77,990', '78,493']"
      ]
     },
     "execution_count": 1172,
     "metadata": {},
     "output_type": "execute_result"
    }
   ],
   "source": [
    "Price[0:5]"
   ]
  },
  {
   "cell_type": "code",
   "execution_count": 1177,
   "metadata": {},
   "outputs": [],
   "source": [
    "url1 = 'https://www.amazon.in/Notebook-Horizon-i5-10210U-Graphics-XMA1904-AR/dp/B089F5JGM1/ref=sr_1_1?dchild=1&keywords=Laptop&qid=1621146915&refinements=p_n_feature_thirteen_browse-bin%3A12598163031&rnid=12598141031&s=computers&sr=1-1'\n",
    "url2 = 'https://www.amazon.in/Lenovo-Legion-Gaming-Windows-82AW005SIN/dp/B08CQ21154/ref=sr_1_2?dchild=1&keywords=Laptop&qid=1621146915&refinements=p_n_feature_thirteen_browse-bin%3A12598163031&rnid=12598141031&s=computers&sr=1-2'\n",
    "url3 = 'https://www.amazon.in/LifeDigital-Laptop-Intel%C2%AE-Storage-Windows/dp/B08HRHFV23/ref=sr_1_3?dchild=1&keywords=Laptop&qid=1621146915&refinements=p_n_feature_thirteen_browse-bin%3A12598163031&rnid=12598141031&s=computers&sr=1-3'\n",
    "url4 = 'https://www.amazon.in/Dell-15-6inch-i7-10750H-Warranty-D560250WIN9BE/dp/B08HYPRST4/ref=sr_1_4?dchild=1&keywords=Laptop&qid=1621146915&refinements=p_n_feature_thirteen_browse-bin%3A12598163031&rnid=12598141031&s=computers&sr=1-4'\n",
    "url5 = 'https://www.amazon.in/Lenovo-Laptop-Windows-Office-81RS00B0IN/dp/B08BSHBHZZ/ref=sr_1_5?dchild=1&keywords=Laptop&qid=1621146915&refinements=p_n_feature_thirteen_browse-bin%3A12598163031&rnid=12598141031&s=computers&sr=1-5'\n",
    "url6 = 'https://www.amazon.in/HP-Pavilion-Touchscreen-Convertible-14-dw1040TU/dp/B08R843NHL/ref=sr_1_6?dchild=1&keywords=Laptop&qid=1621146915&refinements=p_n_feature_thirteen_browse-bin%3A12598163031&rnid=12598141031&s=computers&sr=1-6'\n",
    "url7 = 'https://www.amazon.in/HP-Touchscreen-Computer-Quad-Core-Bluetooth/dp/B07WCTR386/ref=sr_1_7?dchild=1&keywords=Laptop&qid=1621146915&refinements=p_n_feature_thirteen_browse-bin%3A12598163031&rnid=12598141031&s=computers&sr=1-7'\n",
    "url9 = 'https://www.amazon.in/ASUS-VivoBook-i7-1165G7-Graphics-S433EA-AM701TS/dp/B08PQTZB3Z/ref=sr_1_9?dchild=1&keywords=Laptop&qid=1621146915&refinements=p_n_feature_thirteen_browse-bin%3A12598163031&rnid=12598141031&s=computers&sr=1-9'\n",
    "url10 = 'https://www.amazon.in/HP-Pavilion-Processor-15-6-inch-15-dk1509TX/dp/B08ZN7GBQ5/ref=sr_1_10?dchild=1&keywords=Laptop&qid=1621146915&refinements=p_n_feature_thirteen_browse-bin%3A12598163031&rnid=12598141031&s=computers&sr=1-10'"
   ]
  },
  {
   "cell_type": "code",
   "execution_count": 1178,
   "metadata": {},
   "outputs": [],
   "source": [
    "url = [url1, url2, url3, url4, url5, url6, url7, url9, url10]"
   ]
  },
  {
   "cell_type": "code",
   "execution_count": 1184,
   "metadata": {},
   "outputs": [
    {
     "data": {
      "text/plain": [
       "10"
      ]
     },
     "execution_count": 1184,
     "metadata": {},
     "output_type": "execute_result"
    }
   ],
   "source": [
    "Rating = []\n",
    "k = 1\n",
    "\n",
    "for i in url:\n",
    "    driver.get(i)\n",
    "    time.sleep(2)\n",
    "    \n",
    "    j = driver.find_element_by_xpath(\"//span[@class='a-declarative']//i[1]\")\n",
    "    \n",
    "    if k == 7:\n",
    "        Rating.append(np.nan)\n",
    "        k+=1\n",
    "        Rating.append(j.text)\n",
    "    else:\n",
    "        Rating.append(j.text)\n",
    "        k+=1\n",
    "        \n",
    "len(Rating)"
   ]
  },
  {
   "cell_type": "code",
   "execution_count": 1185,
   "metadata": {},
   "outputs": [
    {
     "data": {
      "text/plain": [
       "['', '', '', '', '', '', nan, '', '', '']"
      ]
     },
     "execution_count": 1185,
     "metadata": {},
     "output_type": "execute_result"
    }
   ],
   "source": [
    "Rating"
   ]
  },
  {
   "cell_type": "markdown",
   "metadata": {},
   "source": [
    "The data is not being scraped from the pages where stars are shown. Trying it with the links of customer reviews for each product."
   ]
  },
  {
   "cell_type": "code",
   "execution_count": 1186,
   "metadata": {},
   "outputs": [],
   "source": [
    "url1a = 'https://www.amazon.in/dp/B089F5JGM1?th=1'\n",
    "url1b = 'https://www.amazon.in/dp/B08CQ21154?th=1'\n",
    "url1c = 'https://www.amazon.in/dp/B08HRHFV23#customerReviews'\n",
    "url1d = 'https://www.amazon.in/dp/B08HYPRST4?th=1'\n",
    "url1e = 'https://www.amazon.in/dp/B08BSHBHZZ#customerReviews'\n",
    "url1f = 'https://www.amazon.in/dp/B08R843NHL#customerReviews'\n",
    "url1g = 'https://www.amazon.in/dp/B07WCTR386#customerReviews'\n",
    "url1h = 'https://www.amazon.in/dp/B08PQTZB3Z?th=1'\n",
    "url1i = 'https://www.amazon.in/dp/B08ZN7GBQ5#customerReviews'\n",
    "\n",
    "urla = [url1a, url1b, url1c, url1d, url1e, url1f, url1g, url1h, url1i]"
   ]
  },
  {
   "cell_type": "code",
   "execution_count": 1187,
   "metadata": {},
   "outputs": [
    {
     "data": {
      "text/plain": [
       "10"
      ]
     },
     "execution_count": 1187,
     "metadata": {},
     "output_type": "execute_result"
    }
   ],
   "source": [
    "Rating = []\n",
    "k = 1\n",
    "\n",
    "for i in urla:\n",
    "    driver.get(i)\n",
    "    time.sleep(2)\n",
    "    \n",
    "    j = driver.find_element_by_xpath(\"//span[@class='a-size-base a-nowrap']\")\n",
    "    \n",
    "    if k == 7:\n",
    "        Rating.append(np.nan) #Since, the 8th product doesnt have any Rating provided yet on the website\n",
    "        k+=1\n",
    "        Rating.append(j.text)\n",
    "    else:\n",
    "        Rating.append(j.text)\n",
    "        k+=1\n",
    "        \n",
    "len(Rating)"
   ]
  },
  {
   "cell_type": "code",
   "execution_count": 1188,
   "metadata": {},
   "outputs": [
    {
     "data": {
      "text/plain": [
       "['4.4 out of 5',\n",
       " '4.3 out of 5',\n",
       " '3.1 out of 5',\n",
       " '4 out of 5',\n",
       " '3.6 out of 5',\n",
       " '3.6 out of 5',\n",
       " nan,\n",
       " '4.5 out of 5',\n",
       " '4.4 out of 5',\n",
       " '3 out of 5']"
      ]
     },
     "execution_count": 1188,
     "metadata": {},
     "output_type": "execute_result"
    }
   ],
   "source": [
    "Rating"
   ]
  },
  {
   "cell_type": "code",
   "execution_count": 1189,
   "metadata": {},
   "outputs": [],
   "source": [
    "Laptops = pd.DataFrame({'Title':Title, 'Price':Price, 'Rating':Rating})"
   ]
  },
  {
   "cell_type": "markdown",
   "metadata": {},
   "source": [
    "# Q10 sol"
   ]
  },
  {
   "cell_type": "code",
   "execution_count": 1191,
   "metadata": {},
   "outputs": [
    {
     "data": {
      "text/html": [
       "<div>\n",
       "<style scoped>\n",
       "    .dataframe tbody tr th:only-of-type {\n",
       "        vertical-align: middle;\n",
       "    }\n",
       "\n",
       "    .dataframe tbody tr th {\n",
       "        vertical-align: top;\n",
       "    }\n",
       "\n",
       "    .dataframe thead th {\n",
       "        text-align: right;\n",
       "    }\n",
       "</style>\n",
       "<table border=\"1\" class=\"dataframe\">\n",
       "  <thead>\n",
       "    <tr style=\"text-align: right;\">\n",
       "      <th></th>\n",
       "      <th>Title</th>\n",
       "      <th>Price</th>\n",
       "      <th>Rating</th>\n",
       "    </tr>\n",
       "  </thead>\n",
       "  <tbody>\n",
       "    <tr>\n",
       "      <th>0</th>\n",
       "      <td>Mi Notebook Horizon Edition 14 Intel Core i5-1...</td>\n",
       "      <td>53,999</td>\n",
       "      <td>4.4 out of 5</td>\n",
       "    </tr>\n",
       "    <tr>\n",
       "      <th>1</th>\n",
       "      <td>Lenovo Legion 5Pi 10th Gen Intel Core i7 15.6\"...</td>\n",
       "      <td>1,35,490</td>\n",
       "      <td>4.3 out of 5</td>\n",
       "    </tr>\n",
       "    <tr>\n",
       "      <th>2</th>\n",
       "      <td>Life Digital Laptop 15.6-inch (39.62 cms) (Int...</td>\n",
       "      <td>36,990</td>\n",
       "      <td>3.1 out of 5</td>\n",
       "    </tr>\n",
       "    <tr>\n",
       "      <th>3</th>\n",
       "      <td>Dell G3 3500 Gaming 15.6inch ( 39.62 cms) 120h...</td>\n",
       "      <td>77,990</td>\n",
       "      <td>4 out of 5</td>\n",
       "    </tr>\n",
       "    <tr>\n",
       "      <th>4</th>\n",
       "      <td>Lenovo Yoga S740 Intel Core i7 10th Gen 14 inc...</td>\n",
       "      <td>78,493</td>\n",
       "      <td>3.6 out of 5</td>\n",
       "    </tr>\n",
       "    <tr>\n",
       "      <th>5</th>\n",
       "      <td>HP Pavilion x360 (2021) 14\" (35.56cms) FHD Tou...</td>\n",
       "      <td>2,01,524</td>\n",
       "      <td>3.6 out of 5</td>\n",
       "    </tr>\n",
       "    <tr>\n",
       "      <th>6</th>\n",
       "      <td>2019 HP 17.3\" HD+ Touchscreen Laptop Computer</td>\n",
       "      <td>61,799</td>\n",
       "      <td>NaN</td>\n",
       "    </tr>\n",
       "    <tr>\n",
       "      <th>7</th>\n",
       "      <td>(Renewed) Dell Intel 6th Gen Core i7-6820HQ 15...</td>\n",
       "      <td>80,990</td>\n",
       "      <td>4.5 out of 5</td>\n",
       "    </tr>\n",
       "    <tr>\n",
       "      <th>8</th>\n",
       "      <td>ASUS VivoBook S S14 Intel Core i7-1165G7 11th ...</td>\n",
       "      <td>91,999</td>\n",
       "      <td>4.4 out of 5</td>\n",
       "    </tr>\n",
       "    <tr>\n",
       "      <th>9</th>\n",
       "      <td>HP Pavilion Gaming 10th Gen Intel Core i7 Proc...</td>\n",
       "      <td>38,999</td>\n",
       "      <td>3 out of 5</td>\n",
       "    </tr>\n",
       "  </tbody>\n",
       "</table>\n",
       "</div>"
      ],
      "text/plain": [
       "                                               Title     Price        Rating\n",
       "0  Mi Notebook Horizon Edition 14 Intel Core i5-1...    53,999  4.4 out of 5\n",
       "1  Lenovo Legion 5Pi 10th Gen Intel Core i7 15.6\"...  1,35,490  4.3 out of 5\n",
       "2  Life Digital Laptop 15.6-inch (39.62 cms) (Int...    36,990  3.1 out of 5\n",
       "3  Dell G3 3500 Gaming 15.6inch ( 39.62 cms) 120h...    77,990    4 out of 5\n",
       "4  Lenovo Yoga S740 Intel Core i7 10th Gen 14 inc...    78,493  3.6 out of 5\n",
       "5  HP Pavilion x360 (2021) 14\" (35.56cms) FHD Tou...  2,01,524  3.6 out of 5\n",
       "6      2019 HP 17.3\" HD+ Touchscreen Laptop Computer    61,799           NaN\n",
       "7  (Renewed) Dell Intel 6th Gen Core i7-6820HQ 15...    80,990  4.5 out of 5\n",
       "8  ASUS VivoBook S S14 Intel Core i7-1165G7 11th ...    91,999  4.4 out of 5\n",
       "9  HP Pavilion Gaming 10th Gen Intel Core i7 Proc...    38,999    3 out of 5"
      ]
     },
     "execution_count": 1191,
     "metadata": {},
     "output_type": "execute_result"
    }
   ],
   "source": [
    "Laptops"
   ]
  },
  {
   "cell_type": "markdown",
   "metadata": {},
   "source": [
    "# Q9 sol"
   ]
  },
  {
   "cell_type": "code",
   "execution_count": 1192,
   "metadata": {},
   "outputs": [
    {
     "data": {
      "text/html": [
       "<div>\n",
       "<style scoped>\n",
       "    .dataframe tbody tr th:only-of-type {\n",
       "        vertical-align: middle;\n",
       "    }\n",
       "\n",
       "    .dataframe tbody tr th {\n",
       "        vertical-align: top;\n",
       "    }\n",
       "\n",
       "    .dataframe thead th {\n",
       "        text-align: right;\n",
       "    }\n",
       "</style>\n",
       "<table border=\"1\" class=\"dataframe\">\n",
       "  <thead>\n",
       "    <tr style=\"text-align: right;\">\n",
       "      <th></th>\n",
       "      <th>Brand</th>\n",
       "      <th>Short_desc</th>\n",
       "      <th>Price</th>\n",
       "    </tr>\n",
       "  </thead>\n",
       "  <tbody>\n",
       "    <tr>\n",
       "      <th>31</th>\n",
       "      <td>Cole Haan</td>\n",
       "      <td>Leather Sneakers</td>\n",
       "      <td>10999</td>\n",
       "    </tr>\n",
       "    <tr>\n",
       "      <th>41</th>\n",
       "      <td>UNDER ARMOUR</td>\n",
       "      <td>Women HOVR Rise 2 Training</td>\n",
       "      <td>9999</td>\n",
       "    </tr>\n",
       "    <tr>\n",
       "      <th>17</th>\n",
       "      <td>UNDER ARMOUR</td>\n",
       "      <td>HOVR Sonic 3 Running Shoes</td>\n",
       "      <td>10999</td>\n",
       "    </tr>\n",
       "    <tr>\n",
       "      <th>83</th>\n",
       "      <td>Ruosh</td>\n",
       "      <td>Men Solid Leather Formal Slip-Ons</td>\n",
       "      <td>6990</td>\n",
       "    </tr>\n",
       "    <tr>\n",
       "      <th>7</th>\n",
       "      <td>PUMA Motorsport</td>\n",
       "      <td>Unisex Mercedes Running Shoes</td>\n",
       "      <td>7999</td>\n",
       "    </tr>\n",
       "  </tbody>\n",
       "</table>\n",
       "</div>"
      ],
      "text/plain": [
       "              Brand                         Short_desc  Price\n",
       "31        Cole Haan                   Leather Sneakers  10999\n",
       "41     UNDER ARMOUR         Women HOVR Rise 2 Training   9999\n",
       "17     UNDER ARMOUR         HOVR Sonic 3 Running Shoes  10999\n",
       "83            Ruosh  Men Solid Leather Formal Slip-Ons   6990\n",
       "7   PUMA Motorsport      Unisex Mercedes Running Shoes   7999"
      ]
     },
     "execution_count": 1192,
     "metadata": {},
     "output_type": "execute_result"
    }
   ],
   "source": [
    "Myn_shoes.sample(5)"
   ]
  },
  {
   "cell_type": "markdown",
   "metadata": {},
   "source": [
    "# Q8 sol"
   ]
  },
  {
   "cell_type": "code",
   "execution_count": 1193,
   "metadata": {},
   "outputs": [
    {
     "data": {
      "text/html": [
       "<div>\n",
       "<style scoped>\n",
       "    .dataframe tbody tr th:only-of-type {\n",
       "        vertical-align: middle;\n",
       "    }\n",
       "\n",
       "    .dataframe tbody tr th {\n",
       "        vertical-align: top;\n",
       "    }\n",
       "\n",
       "    .dataframe thead th {\n",
       "        text-align: right;\n",
       "    }\n",
       "</style>\n",
       "<table border=\"1\" class=\"dataframe\">\n",
       "  <thead>\n",
       "    <tr style=\"text-align: right;\">\n",
       "      <th></th>\n",
       "      <th>Brand</th>\n",
       "      <th>Description</th>\n",
       "      <th>Price</th>\n",
       "      <th>Discount</th>\n",
       "    </tr>\n",
       "  </thead>\n",
       "  <tbody>\n",
       "    <tr>\n",
       "      <th>4</th>\n",
       "      <td>ORICUM</td>\n",
       "      <td>Combo pack of 2 casual sneaker shoes for men S...</td>\n",
       "      <td>₹442</td>\n",
       "      <td>55% off</td>\n",
       "    </tr>\n",
       "    <tr>\n",
       "      <th>81</th>\n",
       "      <td>Edoeviv</td>\n",
       "      <td>Sneakers For Men (White 8) Sneakers For Men</td>\n",
       "      <td>₹440</td>\n",
       "      <td>44% off</td>\n",
       "    </tr>\n",
       "    <tr>\n",
       "      <th>14</th>\n",
       "      <td>Stefano Rads</td>\n",
       "      <td>Classy Sneakers For Men</td>\n",
       "      <td>₹242</td>\n",
       "      <td>65% off</td>\n",
       "    </tr>\n",
       "    <tr>\n",
       "      <th>16</th>\n",
       "      <td>Robbie jones</td>\n",
       "      <td>Casual Sneakers Black Shoes For Men Sneakers F...</td>\n",
       "      <td>₹428</td>\n",
       "      <td>57% off</td>\n",
       "    </tr>\n",
       "    <tr>\n",
       "      <th>67</th>\n",
       "      <td>GUSTO</td>\n",
       "      <td>Sneakers For Men</td>\n",
       "      <td>₹699</td>\n",
       "      <td>46% off</td>\n",
       "    </tr>\n",
       "  </tbody>\n",
       "</table>\n",
       "</div>"
      ],
      "text/plain": [
       "           Brand                                        Description Price  \\\n",
       "4         ORICUM  Combo pack of 2 casual sneaker shoes for men S...  ₹442   \n",
       "81       Edoeviv        Sneakers For Men (White 8) Sneakers For Men  ₹440   \n",
       "14  Stefano Rads                            Classy Sneakers For Men  ₹242   \n",
       "16  Robbie jones  Casual Sneakers Black Shoes For Men Sneakers F...  ₹428   \n",
       "67         GUSTO                                   Sneakers For Men  ₹699   \n",
       "\n",
       "   Discount  \n",
       "4   55% off  \n",
       "81  44% off  \n",
       "14  65% off  \n",
       "16  57% off  \n",
       "67  46% off  "
      ]
     },
     "execution_count": 1193,
     "metadata": {},
     "output_type": "execute_result"
    }
   ],
   "source": [
    "flip_sneakers.sample(5)"
   ]
  },
  {
   "cell_type": "markdown",
   "metadata": {},
   "source": [
    "# Q7 sol"
   ]
  },
  {
   "cell_type": "code",
   "execution_count": 1194,
   "metadata": {},
   "outputs": [
    {
     "data": {
      "text/html": [
       "<div>\n",
       "<style scoped>\n",
       "    .dataframe tbody tr th:only-of-type {\n",
       "        vertical-align: middle;\n",
       "    }\n",
       "\n",
       "    .dataframe tbody tr th {\n",
       "        vertical-align: top;\n",
       "    }\n",
       "\n",
       "    .dataframe thead th {\n",
       "        text-align: right;\n",
       "    }\n",
       "</style>\n",
       "<table border=\"1\" class=\"dataframe\">\n",
       "  <thead>\n",
       "    <tr style=\"text-align: right;\">\n",
       "      <th></th>\n",
       "      <th>Rating</th>\n",
       "      <th>Summary</th>\n",
       "      <th>Review</th>\n",
       "    </tr>\n",
       "  </thead>\n",
       "  <tbody>\n",
       "    <tr>\n",
       "      <th>59</th>\n",
       "      <td>5</td>\n",
       "      <td>Perfect product!</td>\n",
       "      <td>Value for money\\n5 star rating\\nExcellent came...</td>\n",
       "    </tr>\n",
       "    <tr>\n",
       "      <th>22</th>\n",
       "      <td>5</td>\n",
       "      <td>Mind-blowing purchase</td>\n",
       "      <td>This will help you more. See if you are planni...</td>\n",
       "    </tr>\n",
       "    <tr>\n",
       "      <th>53</th>\n",
       "      <td>5</td>\n",
       "      <td>Terrific purchase</td>\n",
       "      <td>finally an iPhone with very nice battery backu...</td>\n",
       "    </tr>\n",
       "    <tr>\n",
       "      <th>21</th>\n",
       "      <td>5</td>\n",
       "      <td>Terrific purchase</td>\n",
       "      <td>Upgraded from iphone 6 to 11 best phone for ip...</td>\n",
       "    </tr>\n",
       "    <tr>\n",
       "      <th>54</th>\n",
       "      <td>5</td>\n",
       "      <td>Simply awesome</td>\n",
       "      <td>Really satisfied with the Product I received.....</td>\n",
       "    </tr>\n",
       "  </tbody>\n",
       "</table>\n",
       "</div>"
      ],
      "text/plain": [
       "   Rating                Summary  \\\n",
       "59      5       Perfect product!   \n",
       "22      5  Mind-blowing purchase   \n",
       "53      5      Terrific purchase   \n",
       "21      5      Terrific purchase   \n",
       "54      5         Simply awesome   \n",
       "\n",
       "                                               Review  \n",
       "59  Value for money\\n5 star rating\\nExcellent came...  \n",
       "22  This will help you more. See if you are planni...  \n",
       "53  finally an iPhone with very nice battery backu...  \n",
       "21  Upgraded from iphone 6 to 11 best phone for ip...  \n",
       "54  Really satisfied with the Product I received.....  "
      ]
     },
     "execution_count": 1194,
     "metadata": {},
     "output_type": "execute_result"
    }
   ],
   "source": [
    "iphone_review.sample(5)"
   ]
  },
  {
   "cell_type": "markdown",
   "metadata": {},
   "source": [
    "# Q6 sol"
   ]
  },
  {
   "cell_type": "code",
   "execution_count": 1195,
   "metadata": {},
   "outputs": [
    {
     "data": {
      "text/html": [
       "<div>\n",
       "<style scoped>\n",
       "    .dataframe tbody tr th:only-of-type {\n",
       "        vertical-align: middle;\n",
       "    }\n",
       "\n",
       "    .dataframe tbody tr th {\n",
       "        vertical-align: top;\n",
       "    }\n",
       "\n",
       "    .dataframe thead th {\n",
       "        text-align: right;\n",
       "    }\n",
       "</style>\n",
       "<table border=\"1\" class=\"dataframe\">\n",
       "  <thead>\n",
       "    <tr style=\"text-align: right;\">\n",
       "      <th></th>\n",
       "      <th>Brand</th>\n",
       "      <th>Description</th>\n",
       "      <th>Price</th>\n",
       "      <th>Discount</th>\n",
       "    </tr>\n",
       "  </thead>\n",
       "  <tbody>\n",
       "    <tr>\n",
       "      <th>50</th>\n",
       "      <td>PHENOMENAL</td>\n",
       "      <td>UV Protection Clubmaster Sunglasses (Free Size)</td>\n",
       "      <td>₹319</td>\n",
       "      <td>84% off</td>\n",
       "    </tr>\n",
       "    <tr>\n",
       "      <th>46</th>\n",
       "      <td>AISLIN</td>\n",
       "      <td>UV Protection, Others Wayfarer, Rectangular Su...</td>\n",
       "      <td>₹945</td>\n",
       "      <td>74% off</td>\n",
       "    </tr>\n",
       "    <tr>\n",
       "      <th>41</th>\n",
       "      <td>PHENOMENAL</td>\n",
       "      <td>UV Protection, Mirrored Retro Square Sunglasse...</td>\n",
       "      <td>₹399</td>\n",
       "      <td>80% off</td>\n",
       "    </tr>\n",
       "    <tr>\n",
       "      <th>79</th>\n",
       "      <td>Fastrack</td>\n",
       "      <td>UV Protection Wayfarer Sunglasses (Free Size)</td>\n",
       "      <td>₹758</td>\n",
       "      <td>15% off</td>\n",
       "    </tr>\n",
       "    <tr>\n",
       "      <th>3</th>\n",
       "      <td>ROZZETTA CRAFT</td>\n",
       "      <td>UV Protection Retro Square Sunglasses (Free Size)</td>\n",
       "      <td>₹499</td>\n",
       "      <td>77% off</td>\n",
       "    </tr>\n",
       "  </tbody>\n",
       "</table>\n",
       "</div>"
      ],
      "text/plain": [
       "             Brand                                        Description Price  \\\n",
       "50      PHENOMENAL    UV Protection Clubmaster Sunglasses (Free Size)  ₹319   \n",
       "46          AISLIN  UV Protection, Others Wayfarer, Rectangular Su...  ₹945   \n",
       "41      PHENOMENAL  UV Protection, Mirrored Retro Square Sunglasse...  ₹399   \n",
       "79        Fastrack      UV Protection Wayfarer Sunglasses (Free Size)  ₹758   \n",
       "3   ROZZETTA CRAFT  UV Protection Retro Square Sunglasses (Free Size)  ₹499   \n",
       "\n",
       "   Discount  \n",
       "50  84% off  \n",
       "46  74% off  \n",
       "41  80% off  \n",
       "79  15% off  \n",
       "3   77% off  "
      ]
     },
     "execution_count": 1195,
     "metadata": {},
     "output_type": "execute_result"
    }
   ],
   "source": [
    "sunglasses.sample(5)"
   ]
  },
  {
   "cell_type": "markdown",
   "metadata": {},
   "source": [
    "# Q5 sol"
   ]
  },
  {
   "cell_type": "code",
   "execution_count": 1196,
   "metadata": {},
   "outputs": [
    {
     "data": {
      "text/html": [
       "<div>\n",
       "<style scoped>\n",
       "    .dataframe tbody tr th:only-of-type {\n",
       "        vertical-align: middle;\n",
       "    }\n",
       "\n",
       "    .dataframe tbody tr th {\n",
       "        vertical-align: top;\n",
       "    }\n",
       "\n",
       "    .dataframe thead th {\n",
       "        text-align: right;\n",
       "    }\n",
       "</style>\n",
       "<table border=\"1\" class=\"dataframe\">\n",
       "  <thead>\n",
       "    <tr style=\"text-align: right;\">\n",
       "      <th></th>\n",
       "      <th>Company</th>\n",
       "      <th>Number of Salaries</th>\n",
       "      <th>Average Salary</th>\n",
       "      <th>Minimum Salary</th>\n",
       "      <th>Maximum Salary</th>\n",
       "    </tr>\n",
       "  </thead>\n",
       "  <tbody>\n",
       "    <tr>\n",
       "      <th>1</th>\n",
       "      <td>IBM</td>\n",
       "      <td>14 salaries</td>\n",
       "      <td>₹ 8,79,486/yr</td>\n",
       "      <td>₹569K</td>\n",
       "      <td>₹2,648K</td>\n",
       "    </tr>\n",
       "    <tr>\n",
       "      <th>2</th>\n",
       "      <td>Ericsson-Worldwide</td>\n",
       "      <td>14 salaries</td>\n",
       "      <td>₹ 7,15,984/yr</td>\n",
       "      <td>₹350K</td>\n",
       "      <td>₹1,565K</td>\n",
       "    </tr>\n",
       "    <tr>\n",
       "      <th>9</th>\n",
       "      <td>Optum Global Solutions</td>\n",
       "      <td>8 salaries</td>\n",
       "      <td>₹ 13,93,451/yr</td>\n",
       "      <td>₹1,000K</td>\n",
       "      <td>₹2,085K</td>\n",
       "    </tr>\n",
       "    <tr>\n",
       "      <th>3</th>\n",
       "      <td>Delhivery</td>\n",
       "      <td>14 salaries</td>\n",
       "      <td>₹ 12,12,741/yr</td>\n",
       "      <td>₹436K</td>\n",
       "      <td>₹11,274K</td>\n",
       "    </tr>\n",
       "    <tr>\n",
       "      <th>4</th>\n",
       "      <td>Accenture</td>\n",
       "      <td>13 salaries</td>\n",
       "      <td>₹ 10,97,744/yr</td>\n",
       "      <td>₹560K</td>\n",
       "      <td>₹2,147K</td>\n",
       "    </tr>\n",
       "  </tbody>\n",
       "</table>\n",
       "</div>"
      ],
      "text/plain": [
       "                  Company Number of Salaries  Average Salary Minimum Salary  \\\n",
       "1                     IBM        14 salaries   ₹ 8,79,486/yr          ₹569K   \n",
       "2      Ericsson-Worldwide        14 salaries   ₹ 7,15,984/yr          ₹350K   \n",
       "9  Optum Global Solutions         8 salaries  ₹ 13,93,451/yr        ₹1,000K   \n",
       "3               Delhivery        14 salaries  ₹ 12,12,741/yr          ₹436K   \n",
       "4               Accenture        13 salaries  ₹ 10,97,744/yr          ₹560K   \n",
       "\n",
       "  Maximum Salary  \n",
       "1        ₹2,648K  \n",
       "2        ₹1,565K  \n",
       "9        ₹2,085K  \n",
       "3       ₹11,274K  \n",
       "4        ₹2,147K  "
      ]
     },
     "execution_count": 1196,
     "metadata": {},
     "output_type": "execute_result"
    }
   ],
   "source": [
    "glassdoor1.sample(5)"
   ]
  },
  {
   "cell_type": "markdown",
   "metadata": {},
   "source": [
    "# Q4 sol"
   ]
  },
  {
   "cell_type": "code",
   "execution_count": 1197,
   "metadata": {},
   "outputs": [
    {
     "data": {
      "text/html": [
       "<div>\n",
       "<style scoped>\n",
       "    .dataframe tbody tr th:only-of-type {\n",
       "        vertical-align: middle;\n",
       "    }\n",
       "\n",
       "    .dataframe tbody tr th {\n",
       "        vertical-align: top;\n",
       "    }\n",
       "\n",
       "    .dataframe thead th {\n",
       "        text-align: right;\n",
       "    }\n",
       "</style>\n",
       "<table border=\"1\" class=\"dataframe\">\n",
       "  <thead>\n",
       "    <tr style=\"text-align: right;\">\n",
       "      <th></th>\n",
       "      <th>Title</th>\n",
       "      <th>Posted</th>\n",
       "      <th>Rating</th>\n",
       "    </tr>\n",
       "  </thead>\n",
       "  <tbody>\n",
       "    <tr>\n",
       "      <th>0</th>\n",
       "      <td>Biz2Credit Inc</td>\n",
       "      <td>30d+</td>\n",
       "      <td>3.8</td>\n",
       "    </tr>\n",
       "    <tr>\n",
       "      <th>4</th>\n",
       "      <td>Adobe</td>\n",
       "      <td>24h</td>\n",
       "      <td>4.4</td>\n",
       "    </tr>\n",
       "    <tr>\n",
       "      <th>1</th>\n",
       "      <td>UnitedHealth Group</td>\n",
       "      <td>30d+</td>\n",
       "      <td>3.6</td>\n",
       "    </tr>\n",
       "    <tr>\n",
       "      <th>7</th>\n",
       "      <td>Ericsson</td>\n",
       "      <td>8d</td>\n",
       "      <td>4.1</td>\n",
       "    </tr>\n",
       "    <tr>\n",
       "      <th>2</th>\n",
       "      <td>HDFC Bank</td>\n",
       "      <td>30d+</td>\n",
       "      <td>3.6</td>\n",
       "    </tr>\n",
       "  </tbody>\n",
       "</table>\n",
       "</div>"
      ],
      "text/plain": [
       "                Title Posted Rating\n",
       "0      Biz2Credit Inc   30d+    3.8\n",
       "4               Adobe    24h    4.4\n",
       "1  UnitedHealth Group   30d+    3.6\n",
       "7            Ericsson     8d    4.1\n",
       "2           HDFC Bank   30d+    3.6"
      ]
     },
     "execution_count": 1197,
     "metadata": {},
     "output_type": "execute_result"
    }
   ],
   "source": [
    "glassdoor.sample(5)"
   ]
  },
  {
   "cell_type": "markdown",
   "metadata": {},
   "source": [
    "# Q3 sol"
   ]
  },
  {
   "cell_type": "code",
   "execution_count": 1198,
   "metadata": {},
   "outputs": [
    {
     "data": {
      "text/html": [
       "<div>\n",
       "<style scoped>\n",
       "    .dataframe tbody tr th:only-of-type {\n",
       "        vertical-align: middle;\n",
       "    }\n",
       "\n",
       "    .dataframe tbody tr th {\n",
       "        vertical-align: top;\n",
       "    }\n",
       "\n",
       "    .dataframe thead th {\n",
       "        text-align: right;\n",
       "    }\n",
       "</style>\n",
       "<table border=\"1\" class=\"dataframe\">\n",
       "  <thead>\n",
       "    <tr style=\"text-align: right;\">\n",
       "      <th></th>\n",
       "      <th>Title</th>\n",
       "      <th>Company</th>\n",
       "      <th>Location</th>\n",
       "      <th>Experience</th>\n",
       "    </tr>\n",
       "  </thead>\n",
       "  <tbody>\n",
       "    <tr>\n",
       "      <th>1</th>\n",
       "      <td>Data Scientist</td>\n",
       "      <td>IBM India Pvt. Limited</td>\n",
       "      <td>Noida, Hyderabad/Secunderabad, Bangalore/Benga...</td>\n",
       "      <td>4-9 Yrs</td>\n",
       "    </tr>\n",
       "    <tr>\n",
       "      <th>5</th>\n",
       "      <td>DATA Scientist – Gurgaon (Exp 3-6 years)</td>\n",
       "      <td>CRESCENDO GLOBAL LEADERSHIP HIRING INDIA PRIVA...</td>\n",
       "      <td>Gurgaon/Gurugram, Delhi / NCR</td>\n",
       "      <td>3-6 Yrs</td>\n",
       "    </tr>\n",
       "    <tr>\n",
       "      <th>8</th>\n",
       "      <td>Data Scientist - Python &amp; Machine Learning</td>\n",
       "      <td>FUTURES AND CAREERS</td>\n",
       "      <td>Hyderabad/Secunderabad, Pune, Chennai, Bangalo...</td>\n",
       "      <td>2-7 Yrs</td>\n",
       "    </tr>\n",
       "    <tr>\n",
       "      <th>0</th>\n",
       "      <td>Data Scientist / Data Analyst -Business Analyst</td>\n",
       "      <td>Inflexion Analytix Private Limited</td>\n",
       "      <td>Mumbai, Hyderabad/Secunderabad, Pune, Gurgaon/...</td>\n",
       "      <td>0-3 Yrs</td>\n",
       "    </tr>\n",
       "    <tr>\n",
       "      <th>4</th>\n",
       "      <td>DATA Scientist – Gurgaon (Exp 3-6 years)</td>\n",
       "      <td>CRESCENDO GLOBAL LEADERSHIP HIRING INDIA PRIVA...</td>\n",
       "      <td>Gurgaon/Gurugram, Delhi / NCR</td>\n",
       "      <td>3-6 Yrs</td>\n",
       "    </tr>\n",
       "  </tbody>\n",
       "</table>\n",
       "</div>"
      ],
      "text/plain": [
       "                                             Title  \\\n",
       "1                                   Data Scientist   \n",
       "5         DATA Scientist – Gurgaon (Exp 3-6 years)   \n",
       "8       Data Scientist - Python & Machine Learning   \n",
       "0  Data Scientist / Data Analyst -Business Analyst   \n",
       "4         DATA Scientist – Gurgaon (Exp 3-6 years)   \n",
       "\n",
       "                                             Company  \\\n",
       "1                             IBM India Pvt. Limited   \n",
       "5  CRESCENDO GLOBAL LEADERSHIP HIRING INDIA PRIVA...   \n",
       "8                                FUTURES AND CAREERS   \n",
       "0                 Inflexion Analytix Private Limited   \n",
       "4  CRESCENDO GLOBAL LEADERSHIP HIRING INDIA PRIVA...   \n",
       "\n",
       "                                            Location Experience  \n",
       "1  Noida, Hyderabad/Secunderabad, Bangalore/Benga...    4-9 Yrs  \n",
       "5                      Gurgaon/Gurugram, Delhi / NCR    3-6 Yrs  \n",
       "8  Hyderabad/Secunderabad, Pune, Chennai, Bangalo...    2-7 Yrs  \n",
       "0  Mumbai, Hyderabad/Secunderabad, Pune, Gurgaon/...    0-3 Yrs  \n",
       "4                      Gurgaon/Gurugram, Delhi / NCR    3-6 Yrs  "
      ]
     },
     "execution_count": 1198,
     "metadata": {},
     "output_type": "execute_result"
    }
   ],
   "source": [
    "Naukri2.sample(5)"
   ]
  },
  {
   "cell_type": "markdown",
   "metadata": {},
   "source": [
    "# Q2 sol"
   ]
  },
  {
   "cell_type": "code",
   "execution_count": 1199,
   "metadata": {},
   "outputs": [
    {
     "data": {
      "text/html": [
       "<div>\n",
       "<style scoped>\n",
       "    .dataframe tbody tr th:only-of-type {\n",
       "        vertical-align: middle;\n",
       "    }\n",
       "\n",
       "    .dataframe tbody tr th {\n",
       "        vertical-align: top;\n",
       "    }\n",
       "\n",
       "    .dataframe thead th {\n",
       "        text-align: right;\n",
       "    }\n",
       "</style>\n",
       "<table border=\"1\" class=\"dataframe\">\n",
       "  <thead>\n",
       "    <tr style=\"text-align: right;\">\n",
       "      <th></th>\n",
       "      <th>Title</th>\n",
       "      <th>Company</th>\n",
       "      <th>Location</th>\n",
       "      <th>Job Description</th>\n",
       "    </tr>\n",
       "  </thead>\n",
       "  <tbody>\n",
       "    <tr>\n",
       "      <th>2</th>\n",
       "      <td>Senior Data Scientist | CES IT LTD | CMMI Level 5</td>\n",
       "      <td>CES Ltd.</td>\n",
       "      <td>Kolkata, Mumbai, Hyderabad/Secunderabad, Pune,...</td>\n",
       "      <td>Roles and Responsibilities\\n\\nMandatory Skills...</td>\n",
       "    </tr>\n",
       "    <tr>\n",
       "      <th>3</th>\n",
       "      <td>Analytics &amp; AI Product Mgmt - Sr. Data Scientist</td>\n",
       "      <td>GlaxoSmithKline Pharmaceuticals Limited</td>\n",
       "      <td>Bangalore/Bengaluru</td>\n",
       "      <td>Given the increased focus on data and analytic...</td>\n",
       "    </tr>\n",
       "    <tr>\n",
       "      <th>0</th>\n",
       "      <td>Data Scientist / Data Analyst -Business Analyst</td>\n",
       "      <td>Inflexion Analytix Private Limited</td>\n",
       "      <td>Mumbai, Hyderabad/Secunderabad, Pune, Gurgaon/...</td>\n",
       "      <td>Job Role : Data Scientist/Data Analyst /Busine...</td>\n",
       "    </tr>\n",
       "    <tr>\n",
       "      <th>9</th>\n",
       "      <td>Senior Data Scientist - Credit risk</td>\n",
       "      <td>Scienaptic Systems</td>\n",
       "      <td>Bangalore/Bengaluru</td>\n",
       "      <td>Responsibilities and duties Focus on developin...</td>\n",
       "    </tr>\n",
       "    <tr>\n",
       "      <th>8</th>\n",
       "      <td>Data Scientist</td>\n",
       "      <td>IBM India Pvt. Limited</td>\n",
       "      <td>Noida, Hyderabad/Secunderabad, Bangalore/Benga...</td>\n",
       "      <td>Introduction\\nAs a Data Scientist at IBM, you ...</td>\n",
       "    </tr>\n",
       "  </tbody>\n",
       "</table>\n",
       "</div>"
      ],
      "text/plain": [
       "                                               Title  \\\n",
       "2  Senior Data Scientist | CES IT LTD | CMMI Level 5   \n",
       "3   Analytics & AI Product Mgmt - Sr. Data Scientist   \n",
       "0    Data Scientist / Data Analyst -Business Analyst   \n",
       "9                Senior Data Scientist - Credit risk   \n",
       "8                                     Data Scientist   \n",
       "\n",
       "                                   Company  \\\n",
       "2                                 CES Ltd.   \n",
       "3  GlaxoSmithKline Pharmaceuticals Limited   \n",
       "0       Inflexion Analytix Private Limited   \n",
       "9                       Scienaptic Systems   \n",
       "8                   IBM India Pvt. Limited   \n",
       "\n",
       "                                            Location  \\\n",
       "2  Kolkata, Mumbai, Hyderabad/Secunderabad, Pune,...   \n",
       "3                                Bangalore/Bengaluru   \n",
       "0  Mumbai, Hyderabad/Secunderabad, Pune, Gurgaon/...   \n",
       "9                                Bangalore/Bengaluru   \n",
       "8  Noida, Hyderabad/Secunderabad, Bangalore/Benga...   \n",
       "\n",
       "                                     Job Description  \n",
       "2  Roles and Responsibilities\\n\\nMandatory Skills...  \n",
       "3  Given the increased focus on data and analytic...  \n",
       "0  Job Role : Data Scientist/Data Analyst /Busine...  \n",
       "9  Responsibilities and duties Focus on developin...  \n",
       "8  Introduction\\nAs a Data Scientist at IBM, you ...  "
      ]
     },
     "execution_count": 1199,
     "metadata": {},
     "output_type": "execute_result"
    }
   ],
   "source": [
    "Naukri1.sample(5)"
   ]
  },
  {
   "cell_type": "markdown",
   "metadata": {},
   "source": [
    "# Q1 sol"
   ]
  },
  {
   "cell_type": "code",
   "execution_count": 1200,
   "metadata": {},
   "outputs": [
    {
     "data": {
      "text/html": [
       "<div>\n",
       "<style scoped>\n",
       "    .dataframe tbody tr th:only-of-type {\n",
       "        vertical-align: middle;\n",
       "    }\n",
       "\n",
       "    .dataframe tbody tr th {\n",
       "        vertical-align: top;\n",
       "    }\n",
       "\n",
       "    .dataframe thead th {\n",
       "        text-align: right;\n",
       "    }\n",
       "</style>\n",
       "<table border=\"1\" class=\"dataframe\">\n",
       "  <thead>\n",
       "    <tr style=\"text-align: right;\">\n",
       "      <th></th>\n",
       "      <th>Title</th>\n",
       "      <th>Company</th>\n",
       "      <th>Location</th>\n",
       "      <th>Experience</th>\n",
       "    </tr>\n",
       "  </thead>\n",
       "  <tbody>\n",
       "    <tr>\n",
       "      <th>3</th>\n",
       "      <td>Data Analyst</td>\n",
       "      <td>Shell India Markets Private Limited</td>\n",
       "      <td>Bangalore/Bengaluru</td>\n",
       "      <td>5-8 Yrs</td>\n",
       "    </tr>\n",
       "    <tr>\n",
       "      <th>8</th>\n",
       "      <td>Data Analyst</td>\n",
       "      <td>Shell India Markets Private Limited</td>\n",
       "      <td>Bangalore/Bengaluru</td>\n",
       "      <td>5-8 Yrs</td>\n",
       "    </tr>\n",
       "    <tr>\n",
       "      <th>4</th>\n",
       "      <td>Data Analyst</td>\n",
       "      <td>Applied Materials</td>\n",
       "      <td>Bangalore/Bengaluru</td>\n",
       "      <td>7-10 Yrs</td>\n",
       "    </tr>\n",
       "    <tr>\n",
       "      <th>1</th>\n",
       "      <td>Data Analyst</td>\n",
       "      <td>GlaxoSmithKline Pharmaceuticals Limited</td>\n",
       "      <td>Bangalore/Bengaluru</td>\n",
       "      <td>0-2 Yrs</td>\n",
       "    </tr>\n",
       "    <tr>\n",
       "      <th>0</th>\n",
       "      <td>Data Scientist / Data Analyst -Business Analyst</td>\n",
       "      <td>Inflexion Analytix Private Limited</td>\n",
       "      <td>Mumbai, Hyderabad/Secunderabad, Pune, Gurgaon/...</td>\n",
       "      <td>0-3 Yrs</td>\n",
       "    </tr>\n",
       "  </tbody>\n",
       "</table>\n",
       "</div>"
      ],
      "text/plain": [
       "                                             Title  \\\n",
       "3                                     Data Analyst   \n",
       "8                                     Data Analyst   \n",
       "4                                     Data Analyst   \n",
       "1                                     Data Analyst   \n",
       "0  Data Scientist / Data Analyst -Business Analyst   \n",
       "\n",
       "                                   Company  \\\n",
       "3      Shell India Markets Private Limited   \n",
       "8      Shell India Markets Private Limited   \n",
       "4                        Applied Materials   \n",
       "1  GlaxoSmithKline Pharmaceuticals Limited   \n",
       "0       Inflexion Analytix Private Limited   \n",
       "\n",
       "                                            Location Experience  \n",
       "3                                Bangalore/Bengaluru    5-8 Yrs  \n",
       "8                                Bangalore/Bengaluru    5-8 Yrs  \n",
       "4                                Bangalore/Bengaluru   7-10 Yrs  \n",
       "1                                Bangalore/Bengaluru    0-2 Yrs  \n",
       "0  Mumbai, Hyderabad/Secunderabad, Pune, Gurgaon/...    0-3 Yrs  "
      ]
     },
     "execution_count": 1200,
     "metadata": {},
     "output_type": "execute_result"
    }
   ],
   "source": [
    "Naukri.sample(5)"
   ]
  },
  {
   "cell_type": "code",
   "execution_count": null,
   "metadata": {},
   "outputs": [],
   "source": []
  }
 ],
 "metadata": {
  "kernelspec": {
   "display_name": "Python 3",
   "language": "python",
   "name": "python3"
  },
  "language_info": {
   "codemirror_mode": {
    "name": "ipython",
    "version": 3
   },
   "file_extension": ".py",
   "mimetype": "text/x-python",
   "name": "python",
   "nbconvert_exporter": "python",
   "pygments_lexer": "ipython3",
   "version": "3.8.5"
  }
 },
 "nbformat": 4,
 "nbformat_minor": 4
}
