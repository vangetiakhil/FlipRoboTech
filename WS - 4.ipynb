{
 "cells": [
  {
   "cell_type": "code",
   "execution_count": 40,
   "metadata": {},
   "outputs": [],
   "source": [
    "import pandas as pd\n",
    "from selenium import webdriver\n",
    "import time\n",
    "from selenium.common.exceptions import NoSuchElementException, ElementNotVisibleException , ElementNotInteractableException\n",
    "from selenium.common.exceptions import SessionNotCreatedException, TimeoutException\n",
    "\n",
    "from selenium.webdriver.support.ui import WebDriverWait, Select\n",
    "from selenium.webdriver.support import expected_conditions as EC\n",
    "from selenium.webdriver.common.action_chains import ActionChains"
   ]
  },
  {
   "cell_type": "markdown",
   "metadata": {},
   "source": [
    "# Q1.\n",
    "Scrape the details of most viewed videos on YouTube from Wikipedia:\n",
    "\n",
    "Url = https://en.wikipedia.org/wiki/List_of_most-viewed_YouTube_videos/\n",
    "\n",
    "You need to find following details:\n",
    "\n",
    "A) Rank\n",
    "\n",
    "B) Name\n",
    "\n",
    "C) Artist\n",
    "\n",
    "D) Upload date\n",
    "\n",
    "E) Views"
   ]
  },
  {
   "cell_type": "code",
   "execution_count": 2,
   "metadata": {},
   "outputs": [],
   "source": [
    "driver = webdriver.Chrome(r'C:\\Users\\AKHIL\\Downloads\\chromedriver_win32\\chromedriver.exe')"
   ]
  },
  {
   "cell_type": "code",
   "execution_count": 3,
   "metadata": {},
   "outputs": [],
   "source": [
    "url = 'https://en.wikipedia.org/wiki/List_of_most-viewed_YouTube_videos'"
   ]
  },
  {
   "cell_type": "code",
   "execution_count": 4,
   "metadata": {},
   "outputs": [],
   "source": [
    "driver.get(url)"
   ]
  },
  {
   "cell_type": "code",
   "execution_count": 5,
   "metadata": {},
   "outputs": [],
   "source": [
    "driver.maximize_window()"
   ]
  },
  {
   "cell_type": "code",
   "execution_count": 7,
   "metadata": {},
   "outputs": [
    {
     "data": {
      "text/plain": [
       "6"
      ]
     },
     "execution_count": 7,
     "metadata": {},
     "output_type": "execute_result"
    }
   ],
   "source": [
    "headers = driver.find_elements_by_xpath(\"//table[@class = 'wikitable sortable jquery-tablesorter'][1]//thead//tr//th\")\n",
    "len(headers)"
   ]
  },
  {
   "cell_type": "code",
   "execution_count": 8,
   "metadata": {},
   "outputs": [
    {
     "name": "stdout",
     "output_type": "stream",
     "text": [
      "['No.', 'Video name', 'Uploader', 'Views (billions)', 'Upload date', 'Note']\n"
     ]
    }
   ],
   "source": [
    "header_cols = []\n",
    "\n",
    "for i in headers:\n",
    "    header_cols.append(i.text)\n",
    "    \n",
    "print(header_cols)"
   ]
  },
  {
   "cell_type": "code",
   "execution_count": null,
   "metadata": {},
   "outputs": [],
   "source": [
    "(\"//table[@class = 'wikitable sortable jquery-tablesorter'][1]//tbody//tr//td[{}]\".format(i+1))"
   ]
  },
  {
   "cell_type": "code",
   "execution_count": 9,
   "metadata": {},
   "outputs": [
    {
     "data": {
      "text/plain": [
       "30"
      ]
     },
     "execution_count": 9,
     "metadata": {},
     "output_type": "execute_result"
    }
   ],
   "source": [
    "table_length = driver.find_elements_by_xpath(\"//table[@class = 'wikitable sortable jquery-tablesorter'][1]//tbody//tr\")\n",
    "len(table_length)"
   ]
  },
  {
   "cell_type": "code",
   "execution_count": 11,
   "metadata": {},
   "outputs": [],
   "source": [
    "df = pd.DataFrame({})\n",
    "df1 = pd.DataFrame({})"
   ]
  },
  {
   "cell_type": "code",
   "execution_count": 23,
   "metadata": {},
   "outputs": [],
   "source": [
    "for j in range(len(table_length)):\n",
    "    l = []\n",
    "    for i in range(len(headers)):\n",
    "        try:\n",
    "            k = driver.find_element_by_xpath(\"//table[@class = 'wikitable sortable jquery-tablesorter'][1]//tbody//tr[{}]//td[{}]\".format(j+1,i+1))\n",
    "            l.append(k.text)\n",
    "        except NoSuchElementException as e:\n",
    "            print( e )\n",
    "            l.append('-')\n",
    "        n = [m for m in l]\n",
    "    \n",
    "    if j == 0:\n",
    "        df = pd.DataFrame(data = [n], columns = header_cols)\n",
    "        \n",
    "    else:\n",
    "        df1 = pd.DataFrame(data = [n], columns = header_cols)\n",
    "        df = pd.concat([df,df1])\n"
   ]
  },
  {
   "cell_type": "code",
   "execution_count": 27,
   "metadata": {},
   "outputs": [],
   "source": [
    "df = df.reset_index().drop(columns=[\"index\",'Note'])"
   ]
  },
  {
   "cell_type": "code",
   "execution_count": 28,
   "metadata": {},
   "outputs": [],
   "source": [
    "df.to_csv(\"Top viewed videos on youtube\")"
   ]
  },
  {
   "cell_type": "code",
   "execution_count": 29,
   "metadata": {},
   "outputs": [
    {
     "data": {
      "text/html": [
       "<div>\n",
       "<style scoped>\n",
       "    .dataframe tbody tr th:only-of-type {\n",
       "        vertical-align: middle;\n",
       "    }\n",
       "\n",
       "    .dataframe tbody tr th {\n",
       "        vertical-align: top;\n",
       "    }\n",
       "\n",
       "    .dataframe thead th {\n",
       "        text-align: right;\n",
       "    }\n",
       "</style>\n",
       "<table border=\"1\" class=\"dataframe\">\n",
       "  <thead>\n",
       "    <tr style=\"text-align: right;\">\n",
       "      <th></th>\n",
       "      <th>No.</th>\n",
       "      <th>Video name</th>\n",
       "      <th>Uploader</th>\n",
       "      <th>Views (billions)</th>\n",
       "      <th>Upload date</th>\n",
       "    </tr>\n",
       "  </thead>\n",
       "  <tbody>\n",
       "    <tr>\n",
       "      <th>0</th>\n",
       "      <td>1.</td>\n",
       "      <td>\"Baby Shark Dance\"[22]</td>\n",
       "      <td>Pinkfong Kids' Songs &amp; Stories</td>\n",
       "      <td>8.71</td>\n",
       "      <td>June 17, 2016</td>\n",
       "    </tr>\n",
       "    <tr>\n",
       "      <th>1</th>\n",
       "      <td>2.</td>\n",
       "      <td>\"Despacito\"[24]</td>\n",
       "      <td>Luis Fonsi</td>\n",
       "      <td>7.38</td>\n",
       "      <td>January 12, 2017</td>\n",
       "    </tr>\n",
       "    <tr>\n",
       "      <th>2</th>\n",
       "      <td>3.</td>\n",
       "      <td>\"Johny Johny Yes Papa\"[25]</td>\n",
       "      <td>LooLoo Kids</td>\n",
       "      <td>5.41</td>\n",
       "      <td>October 8, 2016</td>\n",
       "    </tr>\n",
       "    <tr>\n",
       "      <th>3</th>\n",
       "      <td>4.</td>\n",
       "      <td>\"Shape of You\"[26]</td>\n",
       "      <td>Ed Sheeran</td>\n",
       "      <td>5.34</td>\n",
       "      <td>January 30, 2017</td>\n",
       "    </tr>\n",
       "    <tr>\n",
       "      <th>4</th>\n",
       "      <td>5.</td>\n",
       "      <td>\"See You Again\"[27]</td>\n",
       "      <td>Wiz Khalifa</td>\n",
       "      <td>5.13</td>\n",
       "      <td>April 6, 2015</td>\n",
       "    </tr>\n",
       "  </tbody>\n",
       "</table>\n",
       "</div>"
      ],
      "text/plain": [
       "  No.                  Video name                        Uploader  \\\n",
       "0  1.      \"Baby Shark Dance\"[22]  Pinkfong Kids' Songs & Stories   \n",
       "1  2.             \"Despacito\"[24]                      Luis Fonsi   \n",
       "2  3.  \"Johny Johny Yes Papa\"[25]                     LooLoo Kids   \n",
       "3  4.          \"Shape of You\"[26]                      Ed Sheeran   \n",
       "4  5.         \"See You Again\"[27]                     Wiz Khalifa   \n",
       "\n",
       "  Views (billions)       Upload date  \n",
       "0             8.71     June 17, 2016  \n",
       "1             7.38  January 12, 2017  \n",
       "2             5.41   October 8, 2016  \n",
       "3             5.34  January 30, 2017  \n",
       "4             5.13     April 6, 2015  "
      ]
     },
     "execution_count": 29,
     "metadata": {},
     "output_type": "execute_result"
    }
   ],
   "source": [
    "df.head()"
   ]
  },
  {
   "cell_type": "markdown",
   "metadata": {},
   "source": [
    "# Q2\n",
    "Scrape the details team India’s international fixtures from bcci.tv.\n",
    "Url = https://www.bcci.tv/.\n",
    "\n",
    "You need to find following details:\n",
    "\n",
    "A) Match title (I.e. 1st ODI)\n",
    "\n",
    "B) Series\n",
    "\n",
    "C) Place\n",
    "\n",
    "D) Date\n",
    "\n",
    "E) Time\n",
    "\n",
    "Note: - From bcci.tv home page you have reach to the international fixture page through code."
   ]
  },
  {
   "cell_type": "code",
   "execution_count": 116,
   "metadata": {},
   "outputs": [],
   "source": [
    "driver = webdriver.Chrome(r'C:\\Users\\AKHIL\\Downloads\\chromedriver_win32\\chromedriver.exe')"
   ]
  },
  {
   "cell_type": "code",
   "execution_count": 15,
   "metadata": {},
   "outputs": [],
   "source": [
    "url = 'https://www.bcci.tv/'"
   ]
  },
  {
   "cell_type": "code",
   "execution_count": 41,
   "metadata": {},
   "outputs": [],
   "source": [
    "driver.get(url)"
   ]
  },
  {
   "cell_type": "code",
   "execution_count": 43,
   "metadata": {},
   "outputs": [],
   "source": [
    "driver.maximize_window()"
   ]
  },
  {
   "cell_type": "code",
   "execution_count": 44,
   "metadata": {},
   "outputs": [],
   "source": [
    "actions = ActionChains(driver)"
   ]
  },
  {
   "cell_type": "code",
   "execution_count": 45,
   "metadata": {},
   "outputs": [],
   "source": [
    "nav = driver.find_element_by_xpath(\"//ul[@class='navigation__list showMoreEnabled']//li\")"
   ]
  },
  {
   "cell_type": "code",
   "execution_count": 46,
   "metadata": {},
   "outputs": [],
   "source": [
    "destination = driver.find_element_by_xpath(\"//ul[@class='navigation__list showMoreEnabled']//li//div[2]//ul//li[1]\")"
   ]
  },
  {
   "cell_type": "code",
   "execution_count": 47,
   "metadata": {},
   "outputs": [
    {
     "data": {
      "text/plain": [
       "<selenium.webdriver.common.action_chains.ActionChains at 0x19be208fca0>"
      ]
     },
     "execution_count": 47,
     "metadata": {},
     "output_type": "execute_result"
    }
   ],
   "source": [
    "actions.move_to_element(nav)"
   ]
  },
  {
   "cell_type": "code",
   "execution_count": 48,
   "metadata": {},
   "outputs": [
    {
     "data": {
      "text/plain": [
       "<selenium.webdriver.common.action_chains.ActionChains at 0x19be208fca0>"
      ]
     },
     "execution_count": 48,
     "metadata": {},
     "output_type": "execute_result"
    }
   ],
   "source": [
    "actions.move_to_element(destination)"
   ]
  },
  {
   "cell_type": "code",
   "execution_count": 49,
   "metadata": {},
   "outputs": [],
   "source": [
    "actions.perform()"
   ]
  },
  {
   "cell_type": "code",
   "execution_count": 50,
   "metadata": {},
   "outputs": [],
   "source": [
    "destination.click()"
   ]
  },
  {
   "cell_type": "markdown",
   "metadata": {},
   "source": [
    "match title, series, place, date , time"
   ]
  },
  {
   "cell_type": "code",
   "execution_count": 53,
   "metadata": {},
   "outputs": [],
   "source": [
    "dates = driver.find_elements_by_xpath(\"//div[@class='js-list']//a//div[@class='fixture__datetime desktop-only']\")"
   ]
  },
  {
   "cell_type": "code",
   "execution_count": 59,
   "metadata": {},
   "outputs": [
    {
     "name": "stdout",
     "output_type": "stream",
     "text": [
      "Friday,18,JUNE,15:00 IST\n",
      "Tuesday,13,JULY,14:30 IST\n",
      "Friday,16,JULY,14:30 IST\n",
      "Sunday,18,JULY,14:30 IST\n",
      "Wednesday,21,JULY,19:00 IST\n",
      "Friday,23,JULY,19:00 IST\n",
      "Sunday,25,JULY,19:00 IST\n",
      "Wednesday,04,AUGUST,15:30 IST\n",
      "Thursday,12,AUGUST,15:30 IST\n",
      "Wednesday,25,AUGUST,15:30 IST\n",
      "Thursday,02,SEPTEMBER,15:30 IST\n",
      "Friday,10,SEPTEMBER,15:30 IST\n"
     ]
    }
   ],
   "source": [
    "k = []\n",
    "for i in dates:\n",
    "    print(i.text.replace(\"\\n\",','))\n",
    "    k.append(i.text.replace(\"\\n\",','))"
   ]
  },
  {
   "cell_type": "code",
   "execution_count": 55,
   "metadata": {},
   "outputs": [
    {
     "data": {
      "text/plain": [
       "12"
      ]
     },
     "execution_count": 55,
     "metadata": {},
     "output_type": "execute_result"
    }
   ],
   "source": [
    "len(dates)"
   ]
  },
  {
   "cell_type": "code",
   "execution_count": 58,
   "metadata": {},
   "outputs": [
    {
     "data": {
      "text/plain": [
       "['Friday\\n18\\nJUNE\\n15:00 IST',\n",
       " 'Tuesday\\n13\\nJULY\\n14:30 IST',\n",
       " 'Friday\\n16\\nJULY\\n14:30 IST',\n",
       " 'Sunday\\n18\\nJULY\\n14:30 IST',\n",
       " 'Wednesday\\n21\\nJULY\\n19:00 IST',\n",
       " 'Friday\\n23\\nJULY\\n19:00 IST',\n",
       " 'Sunday\\n25\\nJULY\\n19:00 IST',\n",
       " 'Wednesday\\n04\\nAUGUST\\n15:30 IST',\n",
       " 'Thursday\\n12\\nAUGUST\\n15:30 IST',\n",
       " 'Wednesday\\n25\\nAUGUST\\n15:30 IST',\n",
       " 'Thursday\\n02\\nSEPTEMBER\\n15:30 IST',\n",
       " 'Friday\\n10\\nSEPTEMBER\\n15:30 IST']"
      ]
     },
     "execution_count": 58,
     "metadata": {},
     "output_type": "execute_result"
    }
   ],
   "source": [
    "k"
   ]
  },
  {
   "cell_type": "code",
   "execution_count": 60,
   "metadata": {},
   "outputs": [
    {
     "data": {
      "text/plain": [
       "['Friday', '18', 'JUNE', '15:00 IST']"
      ]
     },
     "execution_count": 60,
     "metadata": {},
     "output_type": "execute_result"
    }
   ],
   "source": [
    "k[0].split(\",\")"
   ]
  },
  {
   "cell_type": "code",
   "execution_count": 64,
   "metadata": {},
   "outputs": [],
   "source": [
    "time =[]\n",
    "for i in range(len(k)):\n",
    "    time.append(k[i].split(\",\")[-1])"
   ]
  },
  {
   "cell_type": "code",
   "execution_count": 88,
   "metadata": {},
   "outputs": [],
   "source": [
    "date = []\n",
    "for i in range(len(k)):\n",
    "    date.append(k[i].split(\",\")[0]+ ' '+k[i].split(\",\")[1]+' '+k[i].split(\",\")[2])"
   ]
  },
  {
   "cell_type": "code",
   "execution_count": 89,
   "metadata": {},
   "outputs": [
    {
     "data": {
      "text/plain": [
       "['Friday 18 JUNE',\n",
       " 'Tuesday 13 JULY',\n",
       " 'Friday 16 JULY',\n",
       " 'Sunday 18 JULY',\n",
       " 'Wednesday 21 JULY',\n",
       " 'Friday 23 JULY',\n",
       " 'Sunday 25 JULY',\n",
       " 'Wednesday 04 AUGUST',\n",
       " 'Thursday 12 AUGUST',\n",
       " 'Wednesday 25 AUGUST',\n",
       " 'Thursday 02 SEPTEMBER',\n",
       " 'Friday 10 SEPTEMBER']"
      ]
     },
     "execution_count": 89,
     "metadata": {},
     "output_type": "execute_result"
    }
   ],
   "source": [
    "date"
   ]
  },
  {
   "cell_type": "code",
   "execution_count": 67,
   "metadata": {},
   "outputs": [],
   "source": [
    "title = driver.find_elements_by_xpath(\"//div[@class='js-list']//a//div[@class='fixture__info u-skewed']//div[@class='fixture__description u-unskewed-text']//p//strong\")"
   ]
  },
  {
   "cell_type": "code",
   "execution_count": 68,
   "metadata": {},
   "outputs": [
    {
     "data": {
      "text/plain": [
       "12"
      ]
     },
     "execution_count": 68,
     "metadata": {},
     "output_type": "execute_result"
    }
   ],
   "source": [
    "len(title)"
   ]
  },
  {
   "cell_type": "code",
   "execution_count": 69,
   "metadata": {},
   "outputs": [],
   "source": [
    "Title = []\n",
    "for i in title:\n",
    "    Title.append(i.text)"
   ]
  },
  {
   "cell_type": "code",
   "execution_count": 70,
   "metadata": {},
   "outputs": [
    {
     "data": {
      "text/plain": [
       "['Final',\n",
       " '1st ODI',\n",
       " '2nd ODI',\n",
       " '3rd ODI',\n",
       " '1st T20I',\n",
       " '2nd T20I',\n",
       " '3rd T20I',\n",
       " '1st Test',\n",
       " '2nd Test',\n",
       " '3rd Test',\n",
       " '4th Test',\n",
       " '5th Test']"
      ]
     },
     "execution_count": 70,
     "metadata": {},
     "output_type": "execute_result"
    }
   ],
   "source": [
    "Title"
   ]
  },
  {
   "cell_type": "code",
   "execution_count": 72,
   "metadata": {},
   "outputs": [],
   "source": [
    "place = driver.find_elements_by_xpath(\"//div[@class='js-list']//a//div[@class='fixture__info u-skewed']//div[@class='fixture__description u-unskewed-text']//p//span\")"
   ]
  },
  {
   "cell_type": "code",
   "execution_count": 74,
   "metadata": {},
   "outputs": [],
   "source": [
    "Place = []\n",
    "for i in place:\n",
    "    Place.append(i.text)"
   ]
  },
  {
   "cell_type": "code",
   "execution_count": 75,
   "metadata": {},
   "outputs": [
    {
     "data": {
      "text/plain": [
       "['The Ageas Bowl, Southampton',\n",
       " 'R Premadasa Stadium, Colombo',\n",
       " 'R Premadasa Stadium, Colombo',\n",
       " 'R Premadasa Stadium, Colombo',\n",
       " 'R Premadasa Stadium, Colombo',\n",
       " 'R Premadasa Stadium, Colombo',\n",
       " 'R Premadasa Stadium, Colombo',\n",
       " 'Trent Bridge, Nottingham',\n",
       " \"Lord's, London\",\n",
       " 'Headingley, Leeds',\n",
       " 'The Oval, London',\n",
       " 'Old Trafford, Manchester']"
      ]
     },
     "execution_count": 75,
     "metadata": {},
     "output_type": "execute_result"
    }
   ],
   "source": [
    "Place"
   ]
  },
  {
   "cell_type": "code",
   "execution_count": 76,
   "metadata": {},
   "outputs": [],
   "source": [
    "series = driver.find_elements_by_xpath(\"//div[@class='js-list']//a//div[@class='fixture__teams']\")"
   ]
  },
  {
   "cell_type": "code",
   "execution_count": 79,
   "metadata": {},
   "outputs": [],
   "source": [
    "Series = []\n",
    "for i in series:\n",
    "    Series.append(i.text.replace(\"\\n\" , ' '))"
   ]
  },
  {
   "cell_type": "code",
   "execution_count": 80,
   "metadata": {},
   "outputs": [
    {
     "data": {
      "text/plain": [
       "['INDIA v NEW ZEALAND',\n",
       " 'SRI LANKA v INDIA',\n",
       " 'SRI LANKA v INDIA',\n",
       " 'SRI LANKA v INDIA',\n",
       " 'SRI LANKA v INDIA',\n",
       " 'SRI LANKA v INDIA',\n",
       " 'SRI LANKA v INDIA',\n",
       " 'ENGLAND v INDIA',\n",
       " 'ENGLAND v INDIA',\n",
       " 'ENGLAND v INDIA',\n",
       " 'ENGLAND v INDIA',\n",
       " 'ENGLAND v INDIA']"
      ]
     },
     "execution_count": 80,
     "metadata": {},
     "output_type": "execute_result"
    }
   ],
   "source": [
    "Series"
   ]
  },
  {
   "cell_type": "code",
   "execution_count": 94,
   "metadata": {},
   "outputs": [],
   "source": [
    "fixtures = {}\n",
    "fixtures['Title'] = Title\n",
    "fixtures['Series'] = Series\n",
    "fixtures['Date'] = date\n",
    "fixtures['Time'] = time\n",
    "fixtures['Place'] = Place\n"
   ]
  },
  {
   "cell_type": "code",
   "execution_count": 95,
   "metadata": {},
   "outputs": [
    {
     "data": {
      "text/html": [
       "<div>\n",
       "<style scoped>\n",
       "    .dataframe tbody tr th:only-of-type {\n",
       "        vertical-align: middle;\n",
       "    }\n",
       "\n",
       "    .dataframe tbody tr th {\n",
       "        vertical-align: top;\n",
       "    }\n",
       "\n",
       "    .dataframe thead th {\n",
       "        text-align: right;\n",
       "    }\n",
       "</style>\n",
       "<table border=\"1\" class=\"dataframe\">\n",
       "  <thead>\n",
       "    <tr style=\"text-align: right;\">\n",
       "      <th></th>\n",
       "      <th>Title</th>\n",
       "      <th>Series</th>\n",
       "      <th>Date</th>\n",
       "      <th>Time</th>\n",
       "      <th>Place</th>\n",
       "    </tr>\n",
       "  </thead>\n",
       "  <tbody>\n",
       "    <tr>\n",
       "      <th>0</th>\n",
       "      <td>Final</td>\n",
       "      <td>INDIA v NEW ZEALAND</td>\n",
       "      <td>Friday 18 JUNE</td>\n",
       "      <td>15:00 IST</td>\n",
       "      <td>The Ageas Bowl, Southampton</td>\n",
       "    </tr>\n",
       "    <tr>\n",
       "      <th>1</th>\n",
       "      <td>1st ODI</td>\n",
       "      <td>SRI LANKA v INDIA</td>\n",
       "      <td>Tuesday 13 JULY</td>\n",
       "      <td>14:30 IST</td>\n",
       "      <td>R Premadasa Stadium, Colombo</td>\n",
       "    </tr>\n",
       "    <tr>\n",
       "      <th>2</th>\n",
       "      <td>2nd ODI</td>\n",
       "      <td>SRI LANKA v INDIA</td>\n",
       "      <td>Friday 16 JULY</td>\n",
       "      <td>14:30 IST</td>\n",
       "      <td>R Premadasa Stadium, Colombo</td>\n",
       "    </tr>\n",
       "    <tr>\n",
       "      <th>3</th>\n",
       "      <td>3rd ODI</td>\n",
       "      <td>SRI LANKA v INDIA</td>\n",
       "      <td>Sunday 18 JULY</td>\n",
       "      <td>14:30 IST</td>\n",
       "      <td>R Premadasa Stadium, Colombo</td>\n",
       "    </tr>\n",
       "    <tr>\n",
       "      <th>4</th>\n",
       "      <td>1st T20I</td>\n",
       "      <td>SRI LANKA v INDIA</td>\n",
       "      <td>Wednesday 21 JULY</td>\n",
       "      <td>19:00 IST</td>\n",
       "      <td>R Premadasa Stadium, Colombo</td>\n",
       "    </tr>\n",
       "    <tr>\n",
       "      <th>5</th>\n",
       "      <td>2nd T20I</td>\n",
       "      <td>SRI LANKA v INDIA</td>\n",
       "      <td>Friday 23 JULY</td>\n",
       "      <td>19:00 IST</td>\n",
       "      <td>R Premadasa Stadium, Colombo</td>\n",
       "    </tr>\n",
       "    <tr>\n",
       "      <th>6</th>\n",
       "      <td>3rd T20I</td>\n",
       "      <td>SRI LANKA v INDIA</td>\n",
       "      <td>Sunday 25 JULY</td>\n",
       "      <td>19:00 IST</td>\n",
       "      <td>R Premadasa Stadium, Colombo</td>\n",
       "    </tr>\n",
       "    <tr>\n",
       "      <th>7</th>\n",
       "      <td>1st Test</td>\n",
       "      <td>ENGLAND v INDIA</td>\n",
       "      <td>Wednesday 04 AUGUST</td>\n",
       "      <td>15:30 IST</td>\n",
       "      <td>Trent Bridge, Nottingham</td>\n",
       "    </tr>\n",
       "    <tr>\n",
       "      <th>8</th>\n",
       "      <td>2nd Test</td>\n",
       "      <td>ENGLAND v INDIA</td>\n",
       "      <td>Thursday 12 AUGUST</td>\n",
       "      <td>15:30 IST</td>\n",
       "      <td>Lord's, London</td>\n",
       "    </tr>\n",
       "    <tr>\n",
       "      <th>9</th>\n",
       "      <td>3rd Test</td>\n",
       "      <td>ENGLAND v INDIA</td>\n",
       "      <td>Wednesday 25 AUGUST</td>\n",
       "      <td>15:30 IST</td>\n",
       "      <td>Headingley, Leeds</td>\n",
       "    </tr>\n",
       "    <tr>\n",
       "      <th>10</th>\n",
       "      <td>4th Test</td>\n",
       "      <td>ENGLAND v INDIA</td>\n",
       "      <td>Thursday 02 SEPTEMBER</td>\n",
       "      <td>15:30 IST</td>\n",
       "      <td>The Oval, London</td>\n",
       "    </tr>\n",
       "    <tr>\n",
       "      <th>11</th>\n",
       "      <td>5th Test</td>\n",
       "      <td>ENGLAND v INDIA</td>\n",
       "      <td>Friday 10 SEPTEMBER</td>\n",
       "      <td>15:30 IST</td>\n",
       "      <td>Old Trafford, Manchester</td>\n",
       "    </tr>\n",
       "  </tbody>\n",
       "</table>\n",
       "</div>"
      ],
      "text/plain": [
       "       Title               Series                   Date       Time  \\\n",
       "0      Final  INDIA v NEW ZEALAND         Friday 18 JUNE  15:00 IST   \n",
       "1    1st ODI    SRI LANKA v INDIA        Tuesday 13 JULY  14:30 IST   \n",
       "2    2nd ODI    SRI LANKA v INDIA         Friday 16 JULY  14:30 IST   \n",
       "3    3rd ODI    SRI LANKA v INDIA         Sunday 18 JULY  14:30 IST   \n",
       "4   1st T20I    SRI LANKA v INDIA      Wednesday 21 JULY  19:00 IST   \n",
       "5   2nd T20I    SRI LANKA v INDIA         Friday 23 JULY  19:00 IST   \n",
       "6   3rd T20I    SRI LANKA v INDIA         Sunday 25 JULY  19:00 IST   \n",
       "7   1st Test      ENGLAND v INDIA    Wednesday 04 AUGUST  15:30 IST   \n",
       "8   2nd Test      ENGLAND v INDIA     Thursday 12 AUGUST  15:30 IST   \n",
       "9   3rd Test      ENGLAND v INDIA    Wednesday 25 AUGUST  15:30 IST   \n",
       "10  4th Test      ENGLAND v INDIA  Thursday 02 SEPTEMBER  15:30 IST   \n",
       "11  5th Test      ENGLAND v INDIA    Friday 10 SEPTEMBER  15:30 IST   \n",
       "\n",
       "                           Place  \n",
       "0    The Ageas Bowl, Southampton  \n",
       "1   R Premadasa Stadium, Colombo  \n",
       "2   R Premadasa Stadium, Colombo  \n",
       "3   R Premadasa Stadium, Colombo  \n",
       "4   R Premadasa Stadium, Colombo  \n",
       "5   R Premadasa Stadium, Colombo  \n",
       "6   R Premadasa Stadium, Colombo  \n",
       "7       Trent Bridge, Nottingham  \n",
       "8                 Lord's, London  \n",
       "9              Headingley, Leeds  \n",
       "10              The Oval, London  \n",
       "11      Old Trafford, Manchester  "
      ]
     },
     "execution_count": 95,
     "metadata": {},
     "output_type": "execute_result"
    }
   ],
   "source": [
    "pd.DataFrame(fixtures)"
   ]
  },
  {
   "cell_type": "markdown",
   "metadata": {},
   "source": [
    "# Q3.\n",
    "\n",
    "Scrape the details of selenium exception from guru99.com.\n",
    "Url = https://www.guru99.com/\n",
    "\n",
    "You need to find following details:\n",
    "\n",
    "A) Name\n",
    "\n",
    "B) Description\n",
    "\n",
    "Note: - From guru99 home page you have to reach to selenium exception handling page through code"
   ]
  },
  {
   "cell_type": "code",
   "execution_count": 117,
   "metadata": {},
   "outputs": [],
   "source": [
    "url = \"https://www.guru99.com/\""
   ]
  },
  {
   "cell_type": "code",
   "execution_count": 175,
   "metadata": {},
   "outputs": [],
   "source": [
    "driver.get(url)"
   ]
  },
  {
   "cell_type": "code",
   "execution_count": 167,
   "metadata": {
    "collapsed": true
   },
   "outputs": [
    {
     "ename": "WebDriverException",
     "evalue": "Message: unknown error: failed to change window state to 'normal', current state is 'maximized'\n  (Session info: chrome=91.0.4472.77)\n",
     "output_type": "error",
     "traceback": [
      "\u001b[1;31m---------------------------------------------------------------------------\u001b[0m",
      "\u001b[1;31mWebDriverException\u001b[0m                        Traceback (most recent call last)",
      "\u001b[1;32m<ipython-input-167-8e9f28104838>\u001b[0m in \u001b[0;36m<module>\u001b[1;34m\u001b[0m\n\u001b[1;32m----> 1\u001b[1;33m \u001b[0mdriver\u001b[0m\u001b[1;33m.\u001b[0m\u001b[0mmaximize_window\u001b[0m\u001b[1;33m(\u001b[0m\u001b[1;33m)\u001b[0m\u001b[1;33m\u001b[0m\u001b[1;33m\u001b[0m\u001b[0m\n\u001b[0m",
      "\u001b[1;32m~\\anaconda3\\lib\\site-packages\\selenium\\webdriver\\remote\\webdriver.py\u001b[0m in \u001b[0;36mmaximize_window\u001b[1;34m(self)\u001b[0m\n\u001b[0;32m    735\u001b[0m             \u001b[0mcommand\u001b[0m \u001b[1;33m=\u001b[0m \u001b[0mCommand\u001b[0m\u001b[1;33m.\u001b[0m\u001b[0mMAXIMIZE_WINDOW\u001b[0m\u001b[1;33m\u001b[0m\u001b[1;33m\u001b[0m\u001b[0m\n\u001b[0;32m    736\u001b[0m             \u001b[0mparams\u001b[0m \u001b[1;33m=\u001b[0m \u001b[1;33m{\u001b[0m\u001b[1;34m'windowHandle'\u001b[0m\u001b[1;33m:\u001b[0m \u001b[1;34m'current'\u001b[0m\u001b[1;33m}\u001b[0m\u001b[1;33m\u001b[0m\u001b[1;33m\u001b[0m\u001b[0m\n\u001b[1;32m--> 737\u001b[1;33m         \u001b[0mself\u001b[0m\u001b[1;33m.\u001b[0m\u001b[0mexecute\u001b[0m\u001b[1;33m(\u001b[0m\u001b[0mcommand\u001b[0m\u001b[1;33m,\u001b[0m \u001b[0mparams\u001b[0m\u001b[1;33m)\u001b[0m\u001b[1;33m\u001b[0m\u001b[1;33m\u001b[0m\u001b[0m\n\u001b[0m\u001b[0;32m    738\u001b[0m \u001b[1;33m\u001b[0m\u001b[0m\n\u001b[0;32m    739\u001b[0m     \u001b[1;32mdef\u001b[0m \u001b[0mfullscreen_window\u001b[0m\u001b[1;33m(\u001b[0m\u001b[0mself\u001b[0m\u001b[1;33m)\u001b[0m\u001b[1;33m:\u001b[0m\u001b[1;33m\u001b[0m\u001b[1;33m\u001b[0m\u001b[0m\n",
      "\u001b[1;32m~\\anaconda3\\lib\\site-packages\\selenium\\webdriver\\remote\\webdriver.py\u001b[0m in \u001b[0;36mexecute\u001b[1;34m(self, driver_command, params)\u001b[0m\n\u001b[0;32m    319\u001b[0m         \u001b[0mresponse\u001b[0m \u001b[1;33m=\u001b[0m \u001b[0mself\u001b[0m\u001b[1;33m.\u001b[0m\u001b[0mcommand_executor\u001b[0m\u001b[1;33m.\u001b[0m\u001b[0mexecute\u001b[0m\u001b[1;33m(\u001b[0m\u001b[0mdriver_command\u001b[0m\u001b[1;33m,\u001b[0m \u001b[0mparams\u001b[0m\u001b[1;33m)\u001b[0m\u001b[1;33m\u001b[0m\u001b[1;33m\u001b[0m\u001b[0m\n\u001b[0;32m    320\u001b[0m         \u001b[1;32mif\u001b[0m \u001b[0mresponse\u001b[0m\u001b[1;33m:\u001b[0m\u001b[1;33m\u001b[0m\u001b[1;33m\u001b[0m\u001b[0m\n\u001b[1;32m--> 321\u001b[1;33m             \u001b[0mself\u001b[0m\u001b[1;33m.\u001b[0m\u001b[0merror_handler\u001b[0m\u001b[1;33m.\u001b[0m\u001b[0mcheck_response\u001b[0m\u001b[1;33m(\u001b[0m\u001b[0mresponse\u001b[0m\u001b[1;33m)\u001b[0m\u001b[1;33m\u001b[0m\u001b[1;33m\u001b[0m\u001b[0m\n\u001b[0m\u001b[0;32m    322\u001b[0m             response['value'] = self._unwrap_value(\n\u001b[0;32m    323\u001b[0m                 response.get('value', None))\n",
      "\u001b[1;32m~\\anaconda3\\lib\\site-packages\\selenium\\webdriver\\remote\\errorhandler.py\u001b[0m in \u001b[0;36mcheck_response\u001b[1;34m(self, response)\u001b[0m\n\u001b[0;32m    240\u001b[0m                 \u001b[0malert_text\u001b[0m \u001b[1;33m=\u001b[0m \u001b[0mvalue\u001b[0m\u001b[1;33m[\u001b[0m\u001b[1;34m'alert'\u001b[0m\u001b[1;33m]\u001b[0m\u001b[1;33m.\u001b[0m\u001b[0mget\u001b[0m\u001b[1;33m(\u001b[0m\u001b[1;34m'text'\u001b[0m\u001b[1;33m)\u001b[0m\u001b[1;33m\u001b[0m\u001b[1;33m\u001b[0m\u001b[0m\n\u001b[0;32m    241\u001b[0m             \u001b[1;32mraise\u001b[0m \u001b[0mexception_class\u001b[0m\u001b[1;33m(\u001b[0m\u001b[0mmessage\u001b[0m\u001b[1;33m,\u001b[0m \u001b[0mscreen\u001b[0m\u001b[1;33m,\u001b[0m \u001b[0mstacktrace\u001b[0m\u001b[1;33m,\u001b[0m \u001b[0malert_text\u001b[0m\u001b[1;33m)\u001b[0m\u001b[1;33m\u001b[0m\u001b[1;33m\u001b[0m\u001b[0m\n\u001b[1;32m--> 242\u001b[1;33m         \u001b[1;32mraise\u001b[0m \u001b[0mexception_class\u001b[0m\u001b[1;33m(\u001b[0m\u001b[0mmessage\u001b[0m\u001b[1;33m,\u001b[0m \u001b[0mscreen\u001b[0m\u001b[1;33m,\u001b[0m \u001b[0mstacktrace\u001b[0m\u001b[1;33m)\u001b[0m\u001b[1;33m\u001b[0m\u001b[1;33m\u001b[0m\u001b[0m\n\u001b[0m\u001b[0;32m    243\u001b[0m \u001b[1;33m\u001b[0m\u001b[0m\n\u001b[0;32m    244\u001b[0m     \u001b[1;32mdef\u001b[0m \u001b[0m_value_or_default\u001b[0m\u001b[1;33m(\u001b[0m\u001b[0mself\u001b[0m\u001b[1;33m,\u001b[0m \u001b[0mobj\u001b[0m\u001b[1;33m,\u001b[0m \u001b[0mkey\u001b[0m\u001b[1;33m,\u001b[0m \u001b[0mdefault\u001b[0m\u001b[1;33m)\u001b[0m\u001b[1;33m:\u001b[0m\u001b[1;33m\u001b[0m\u001b[1;33m\u001b[0m\u001b[0m\n",
      "\u001b[1;31mWebDriverException\u001b[0m: Message: unknown error: failed to change window state to 'normal', current state is 'maximized'\n  (Session info: chrome=91.0.4472.77)\n"
     ]
    }
   ],
   "source": [
    "driver.maximize_window()"
   ]
  },
  {
   "cell_type": "code",
   "execution_count": 176,
   "metadata": {},
   "outputs": [],
   "source": [
    "topics = driver.find_elements_by_xpath(\"//ul[@class='menu']//li//a\")"
   ]
  },
  {
   "cell_type": "code",
   "execution_count": 177,
   "metadata": {},
   "outputs": [
    {
     "data": {
      "text/plain": [
       "139"
      ]
     },
     "execution_count": 177,
     "metadata": {},
     "output_type": "execute_result"
    }
   ],
   "source": [
    "len(topics)"
   ]
  },
  {
   "cell_type": "code",
   "execution_count": 178,
   "metadata": {},
   "outputs": [
    {
     "name": "stdout",
     "output_type": "stream",
     "text": [
      "Software Testing\n",
      "QTP (Quick Test Professional)\n",
      "Selenium\n",
      "Mobile App Testing\n",
      "Cucumber Testing\n",
      "SoapUI\n",
      "Agile Testing\n",
      "JUnit\n",
      "RPA\n",
      "Live Testing Project\n"
     ]
    }
   ],
   "source": [
    "for i in topics[0:10]:\n",
    "    print(i.text)"
   ]
  },
  {
   "cell_type": "code",
   "execution_count": 179,
   "metadata": {},
   "outputs": [],
   "source": [
    "for i in topics:\n",
    "    if i.text == 'Selenium':\n",
    "        i.click()\n",
    "        break\n",
    "        "
   ]
  },
  {
   "cell_type": "code",
   "execution_count": 180,
   "metadata": {},
   "outputs": [],
   "source": [
    "sub_topics = driver.find_elements_by_xpath(\"//table[@class='table']//tbody//tr//td[2]\")"
   ]
  },
  {
   "cell_type": "code",
   "execution_count": 181,
   "metadata": {},
   "outputs": [],
   "source": [
    "var = 'Selenium Exception Handling (Common Exceptions List)'\n",
    "for i in sub_topics:\n",
    "    if i.text == var:\n",
    "        link = driver.find_element_by_xpath(\"//table[@class='table']//tbody//tr//td[1]//a[@title ='{}']//strong\".format(var))\n",
    "        break\n",
    "link.click()"
   ]
  },
  {
   "cell_type": "code",
   "execution_count": 184,
   "metadata": {},
   "outputs": [],
   "source": [
    "data = driver.find_elements_by_xpath(\"//table[@class = 'table table-striped']//tbody//tr\")"
   ]
  },
  {
   "cell_type": "code",
   "execution_count": 185,
   "metadata": {},
   "outputs": [
    {
     "data": {
      "text/plain": [
       "42"
      ]
     },
     "execution_count": 185,
     "metadata": {},
     "output_type": "execute_result"
    }
   ],
   "source": [
    "len(data)"
   ]
  },
  {
   "cell_type": "code",
   "execution_count": 251,
   "metadata": {},
   "outputs": [],
   "source": [
    "for i in range(len(data)):\n",
    "    one = driver.find_element_by_xpath(\"//table[@class = 'table table-striped']//tbody//tr[{}]//td[1]\".format(i+1))\n",
    "    two = driver.find_element_by_xpath(\"//table[@class = 'table table-striped']//tbody//tr[{}]//td[2]\".format(i+1))\n",
    "    row = [one.text , two.text]\n",
    "    \n",
    "    if i == 0 :\n",
    "        col = row\n",
    "    else:\n",
    "        if i == 1:\n",
    "            df = pd.DataFrame([row], columns=col)\n",
    "        else :\n",
    "            df = pd.concat([df,pd.DataFrame([row],columns=col)])"
   ]
  },
  {
   "cell_type": "code",
   "execution_count": 253,
   "metadata": {},
   "outputs": [
    {
     "data": {
      "text/html": [
       "<div>\n",
       "<style scoped>\n",
       "    .dataframe tbody tr th:only-of-type {\n",
       "        vertical-align: middle;\n",
       "    }\n",
       "\n",
       "    .dataframe tbody tr th {\n",
       "        vertical-align: top;\n",
       "    }\n",
       "\n",
       "    .dataframe thead th {\n",
       "        text-align: right;\n",
       "    }\n",
       "</style>\n",
       "<table border=\"1\" class=\"dataframe\">\n",
       "  <thead>\n",
       "    <tr style=\"text-align: right;\">\n",
       "      <th></th>\n",
       "      <th>Exception name</th>\n",
       "      <th>Description</th>\n",
       "    </tr>\n",
       "  </thead>\n",
       "  <tbody>\n",
       "    <tr>\n",
       "      <th>0</th>\n",
       "      <td>ElementNotVisibleException</td>\n",
       "      <td>This type of Selenium exception occurs when an...</td>\n",
       "    </tr>\n",
       "    <tr>\n",
       "      <th>1</th>\n",
       "      <td>ElementNotSelectableException</td>\n",
       "      <td>This Selenium exception occurs when an element...</td>\n",
       "    </tr>\n",
       "    <tr>\n",
       "      <th>2</th>\n",
       "      <td>NoSuchElementException</td>\n",
       "      <td>This Exception occurs if an element could not ...</td>\n",
       "    </tr>\n",
       "    <tr>\n",
       "      <th>3</th>\n",
       "      <td>NoSuchFrameException</td>\n",
       "      <td>This Exception occurs if the frame target to b...</td>\n",
       "    </tr>\n",
       "    <tr>\n",
       "      <th>4</th>\n",
       "      <td>NoAlertPresentException</td>\n",
       "      <td>This Exception occurs when you switch to no pr...</td>\n",
       "    </tr>\n",
       "    <tr>\n",
       "      <th>5</th>\n",
       "      <td>NoSuchWindowException</td>\n",
       "      <td>This Exception occurs if the window target to ...</td>\n",
       "    </tr>\n",
       "    <tr>\n",
       "      <th>6</th>\n",
       "      <td>StaleElementReferenceException</td>\n",
       "      <td>This Selenium exception occurs happens when th...</td>\n",
       "    </tr>\n",
       "    <tr>\n",
       "      <th>7</th>\n",
       "      <td>SessionNotFoundException</td>\n",
       "      <td>The WebDriver is acting after you quit the bro...</td>\n",
       "    </tr>\n",
       "    <tr>\n",
       "      <th>8</th>\n",
       "      <td>TimeoutException</td>\n",
       "      <td>Thrown when there is not enough time for a com...</td>\n",
       "    </tr>\n",
       "    <tr>\n",
       "      <th>9</th>\n",
       "      <td>WebDriverException</td>\n",
       "      <td>This Exception takes place when the WebDriver ...</td>\n",
       "    </tr>\n",
       "    <tr>\n",
       "      <th>10</th>\n",
       "      <td>ConnectionClosedException</td>\n",
       "      <td>This type of Exception takes place when there ...</td>\n",
       "    </tr>\n",
       "    <tr>\n",
       "      <th>11</th>\n",
       "      <td>ElementClickInterceptedException</td>\n",
       "      <td>The command may not be completed as the elemen...</td>\n",
       "    </tr>\n",
       "    <tr>\n",
       "      <th>12</th>\n",
       "      <td>ElementNotInteractableException</td>\n",
       "      <td>This Selenium exception is thrown when any ele...</td>\n",
       "    </tr>\n",
       "    <tr>\n",
       "      <th>13</th>\n",
       "      <td>ErrorInResponseException</td>\n",
       "      <td>This happens while interacting with the Firefo...</td>\n",
       "    </tr>\n",
       "    <tr>\n",
       "      <th>14</th>\n",
       "      <td>ErrorHandler.UnknownServerException</td>\n",
       "      <td>Exception is used as a placeholder in case if ...</td>\n",
       "    </tr>\n",
       "    <tr>\n",
       "      <th>15</th>\n",
       "      <td>ImeActivationFailedException</td>\n",
       "      <td>This expectation will occur when IME engine ac...</td>\n",
       "    </tr>\n",
       "    <tr>\n",
       "      <th>16</th>\n",
       "      <td>ImeNotAvailableException</td>\n",
       "      <td>It takes place when IME support is unavailable.</td>\n",
       "    </tr>\n",
       "    <tr>\n",
       "      <th>17</th>\n",
       "      <td>InsecureCertificateException</td>\n",
       "      <td>Navigation made the user agent to hit a certif...</td>\n",
       "    </tr>\n",
       "    <tr>\n",
       "      <th>18</th>\n",
       "      <td>InvalidArgumentException</td>\n",
       "      <td>It occurs when an argument does not belong to ...</td>\n",
       "    </tr>\n",
       "    <tr>\n",
       "      <th>19</th>\n",
       "      <td>InvalidCookieDomainException</td>\n",
       "      <td>This happens when you try to add a cookie unde...</td>\n",
       "    </tr>\n",
       "    <tr>\n",
       "      <th>20</th>\n",
       "      <td>InvalidCoordinatesException</td>\n",
       "      <td>This type of Exception matches an interacting ...</td>\n",
       "    </tr>\n",
       "    <tr>\n",
       "      <th>21</th>\n",
       "      <td>InvalidElementStateExceptio</td>\n",
       "      <td>It occurs when command can't be finished when ...</td>\n",
       "    </tr>\n",
       "    <tr>\n",
       "      <th>22</th>\n",
       "      <td>InvalidSessionIdException</td>\n",
       "      <td>This Exception took place when the given sessi...</td>\n",
       "    </tr>\n",
       "    <tr>\n",
       "      <th>23</th>\n",
       "      <td>InvalidSwitchToTargetException</td>\n",
       "      <td>This occurs when the frame or window target to...</td>\n",
       "    </tr>\n",
       "    <tr>\n",
       "      <th>24</th>\n",
       "      <td>JavascriptException</td>\n",
       "      <td>This issue occurs while executing JavaScript g...</td>\n",
       "    </tr>\n",
       "    <tr>\n",
       "      <th>25</th>\n",
       "      <td>JsonException</td>\n",
       "      <td>It occurs when you afford to get the session w...</td>\n",
       "    </tr>\n",
       "    <tr>\n",
       "      <th>26</th>\n",
       "      <td>NoSuchAttributeException</td>\n",
       "      <td>This kind of Exception occurs when the attribu...</td>\n",
       "    </tr>\n",
       "    <tr>\n",
       "      <th>27</th>\n",
       "      <td>MoveTargetOutOfBoundsException</td>\n",
       "      <td>It takes place if the target provided to the A...</td>\n",
       "    </tr>\n",
       "    <tr>\n",
       "      <th>28</th>\n",
       "      <td>NoSuchContextException</td>\n",
       "      <td>ContextAware does mobile device testing.</td>\n",
       "    </tr>\n",
       "    <tr>\n",
       "      <th>29</th>\n",
       "      <td>NoSuchCookieException</td>\n",
       "      <td>This Exception occurs when no cookie matching ...</td>\n",
       "    </tr>\n",
       "    <tr>\n",
       "      <th>30</th>\n",
       "      <td>NotFoundException</td>\n",
       "      <td>This Exception is a subclass of WebDriverExcep...</td>\n",
       "    </tr>\n",
       "    <tr>\n",
       "      <th>31</th>\n",
       "      <td>RemoteDriverServerException</td>\n",
       "      <td>This Selenium exception is thrown when the ser...</td>\n",
       "    </tr>\n",
       "    <tr>\n",
       "      <th>32</th>\n",
       "      <td>ScreenshotException</td>\n",
       "      <td>It is not possible to capture a screen.</td>\n",
       "    </tr>\n",
       "    <tr>\n",
       "      <th>33</th>\n",
       "      <td>SessionNotCreatedException</td>\n",
       "      <td>It happens when a new session could not be suc...</td>\n",
       "    </tr>\n",
       "    <tr>\n",
       "      <th>34</th>\n",
       "      <td>UnableToSetCookieException</td>\n",
       "      <td>This occurs if a driver is unable to set a coo...</td>\n",
       "    </tr>\n",
       "    <tr>\n",
       "      <th>35</th>\n",
       "      <td>UnexpectedTagNameException</td>\n",
       "      <td>Happens if a support class did not get a web e...</td>\n",
       "    </tr>\n",
       "    <tr>\n",
       "      <th>36</th>\n",
       "      <td>UnhandledAlertException</td>\n",
       "      <td>This expectation occurs when there is an alert...</td>\n",
       "    </tr>\n",
       "    <tr>\n",
       "      <th>37</th>\n",
       "      <td>UnexpectedAlertPresentException</td>\n",
       "      <td>It occurs when there is the appearance of an u...</td>\n",
       "    </tr>\n",
       "    <tr>\n",
       "      <th>38</th>\n",
       "      <td>UnknownMethodException</td>\n",
       "      <td>This Exception happens when the requested comm...</td>\n",
       "    </tr>\n",
       "    <tr>\n",
       "      <th>39</th>\n",
       "      <td>UnreachableBrowserException</td>\n",
       "      <td>This Exception occurs only when the browser is...</td>\n",
       "    </tr>\n",
       "    <tr>\n",
       "      <th>40</th>\n",
       "      <td>UnsupportedCommandException</td>\n",
       "      <td>This occurs when remote WebDriver does n't sen...</td>\n",
       "    </tr>\n",
       "  </tbody>\n",
       "</table>\n",
       "</div>"
      ],
      "text/plain": [
       "                         Exception name  \\\n",
       "0            ElementNotVisibleException   \n",
       "1         ElementNotSelectableException   \n",
       "2                NoSuchElementException   \n",
       "3                  NoSuchFrameException   \n",
       "4               NoAlertPresentException   \n",
       "5                 NoSuchWindowException   \n",
       "6        StaleElementReferenceException   \n",
       "7              SessionNotFoundException   \n",
       "8                      TimeoutException   \n",
       "9                    WebDriverException   \n",
       "10            ConnectionClosedException   \n",
       "11     ElementClickInterceptedException   \n",
       "12      ElementNotInteractableException   \n",
       "13             ErrorInResponseException   \n",
       "14  ErrorHandler.UnknownServerException   \n",
       "15         ImeActivationFailedException   \n",
       "16             ImeNotAvailableException   \n",
       "17         InsecureCertificateException   \n",
       "18             InvalidArgumentException   \n",
       "19         InvalidCookieDomainException   \n",
       "20          InvalidCoordinatesException   \n",
       "21          InvalidElementStateExceptio   \n",
       "22            InvalidSessionIdException   \n",
       "23       InvalidSwitchToTargetException   \n",
       "24                  JavascriptException   \n",
       "25                        JsonException   \n",
       "26             NoSuchAttributeException   \n",
       "27       MoveTargetOutOfBoundsException   \n",
       "28               NoSuchContextException   \n",
       "29                NoSuchCookieException   \n",
       "30                    NotFoundException   \n",
       "31          RemoteDriverServerException   \n",
       "32                  ScreenshotException   \n",
       "33           SessionNotCreatedException   \n",
       "34           UnableToSetCookieException   \n",
       "35           UnexpectedTagNameException   \n",
       "36              UnhandledAlertException   \n",
       "37      UnexpectedAlertPresentException   \n",
       "38               UnknownMethodException   \n",
       "39          UnreachableBrowserException   \n",
       "40          UnsupportedCommandException   \n",
       "\n",
       "                                          Description  \n",
       "0   This type of Selenium exception occurs when an...  \n",
       "1   This Selenium exception occurs when an element...  \n",
       "2   This Exception occurs if an element could not ...  \n",
       "3   This Exception occurs if the frame target to b...  \n",
       "4   This Exception occurs when you switch to no pr...  \n",
       "5   This Exception occurs if the window target to ...  \n",
       "6   This Selenium exception occurs happens when th...  \n",
       "7   The WebDriver is acting after you quit the bro...  \n",
       "8   Thrown when there is not enough time for a com...  \n",
       "9   This Exception takes place when the WebDriver ...  \n",
       "10  This type of Exception takes place when there ...  \n",
       "11  The command may not be completed as the elemen...  \n",
       "12  This Selenium exception is thrown when any ele...  \n",
       "13  This happens while interacting with the Firefo...  \n",
       "14  Exception is used as a placeholder in case if ...  \n",
       "15  This expectation will occur when IME engine ac...  \n",
       "16    It takes place when IME support is unavailable.  \n",
       "17  Navigation made the user agent to hit a certif...  \n",
       "18  It occurs when an argument does not belong to ...  \n",
       "19  This happens when you try to add a cookie unde...  \n",
       "20  This type of Exception matches an interacting ...  \n",
       "21  It occurs when command can't be finished when ...  \n",
       "22  This Exception took place when the given sessi...  \n",
       "23  This occurs when the frame or window target to...  \n",
       "24  This issue occurs while executing JavaScript g...  \n",
       "25  It occurs when you afford to get the session w...  \n",
       "26  This kind of Exception occurs when the attribu...  \n",
       "27  It takes place if the target provided to the A...  \n",
       "28           ContextAware does mobile device testing.  \n",
       "29  This Exception occurs when no cookie matching ...  \n",
       "30  This Exception is a subclass of WebDriverExcep...  \n",
       "31  This Selenium exception is thrown when the ser...  \n",
       "32            It is not possible to capture a screen.  \n",
       "33  It happens when a new session could not be suc...  \n",
       "34  This occurs if a driver is unable to set a coo...  \n",
       "35  Happens if a support class did not get a web e...  \n",
       "36  This expectation occurs when there is an alert...  \n",
       "37  It occurs when there is the appearance of an u...  \n",
       "38  This Exception happens when the requested comm...  \n",
       "39  This Exception occurs only when the browser is...  \n",
       "40  This occurs when remote WebDriver does n't sen...  "
      ]
     },
     "execution_count": 253,
     "metadata": {},
     "output_type": "execute_result"
    }
   ],
   "source": [
    "df.reset_index().drop(columns=['index'])"
   ]
  },
  {
   "cell_type": "markdown",
   "metadata": {},
   "source": [
    "# Q4\n",
    "Scrape the details of State-wise GDP of India from statisticstime.com.\n",
    "Url = http://statisticstimes.com/\n",
    "\n",
    "You have to find following details:\n",
    "\n",
    "A) Rank\n",
    "\n",
    "B) State\n",
    "\n",
    "C) GSDP at current price (19-20)\n",
    "\n",
    "D) GSDP at current price (18-19)\n",
    "\n",
    "E) Share(18-19)\n",
    "\n",
    "F) GDP($ billion)\n",
    "\n",
    "Note: - From statisticstimes home page you have to reach to economy page through code."
   ]
  },
  {
   "cell_type": "code",
   "execution_count": 281,
   "metadata": {},
   "outputs": [],
   "source": [
    "url = \"http://statisticstimes.com/\"\n",
    "driver = webdriver.Chrome(r'C:\\Users\\AKHIL\\Downloads\\chromedriver_win32\\chromedriver.exe')\n",
    "driver.get(url)"
   ]
  },
  {
   "cell_type": "code",
   "execution_count": 282,
   "metadata": {},
   "outputs": [],
   "source": [
    "driver.maximize_window()"
   ]
  },
  {
   "cell_type": "code",
   "execution_count": 289,
   "metadata": {},
   "outputs": [],
   "source": [
    "driver.get(url)"
   ]
  },
  {
   "cell_type": "code",
   "execution_count": 293,
   "metadata": {},
   "outputs": [],
   "source": [
    "economy = driver.find_element_by_xpath(\"//div[@class='navbar']//div[2]\")"
   ]
  },
  {
   "cell_type": "code",
   "execution_count": 294,
   "metadata": {},
   "outputs": [],
   "source": [
    "india = driver.find_element_by_xpath(\"//div[@class='navbar']//div[2]//div//a[3]\")"
   ]
  },
  {
   "cell_type": "code",
   "execution_count": 295,
   "metadata": {},
   "outputs": [],
   "source": [
    "actions = ActionChains(driver)"
   ]
  },
  {
   "cell_type": "code",
   "execution_count": 296,
   "metadata": {},
   "outputs": [],
   "source": [
    "actions.move_to_element(economy).move_to_element(india).click().perform()"
   ]
  },
  {
   "cell_type": "code",
   "execution_count": 297,
   "metadata": {},
   "outputs": [],
   "source": [
    "gdp_link = driver.find_elements_by_xpath(\"//ul//li\")"
   ]
  },
  {
   "cell_type": "code",
   "execution_count": 298,
   "metadata": {},
   "outputs": [
    {
     "data": {
      "text/plain": [
       "53"
      ]
     },
     "execution_count": 298,
     "metadata": {},
     "output_type": "execute_result"
    }
   ],
   "source": [
    "len(gdp_link)"
   ]
  },
  {
   "cell_type": "code",
   "execution_count": 299,
   "metadata": {},
   "outputs": [],
   "source": [
    "for i in gdp_link:\n",
    "    if i.text == '» GDP of Indian states':\n",
    "        i.click()\n",
    "        break\n",
    "        "
   ]
  },
  {
   "cell_type": "code",
   "execution_count": 300,
   "metadata": {},
   "outputs": [],
   "source": [
    "headings = driver.find_elements_by_xpath(\"//div[@class='fwidth'][3]//div//div//table//thead//tr[1]//th\")"
   ]
  },
  {
   "cell_type": "code",
   "execution_count": 301,
   "metadata": {},
   "outputs": [],
   "source": [
    "head = []\n",
    "for i in headings:\n",
    "    head.append(i.text)"
   ]
  },
  {
   "cell_type": "code",
   "execution_count": 302,
   "metadata": {},
   "outputs": [
    {
     "data": {
      "text/plain": [
       "['Rank',\n",
       " 'State',\n",
       " 'GSDP (Cr INR at Current prices)',\n",
       " 'Share',\n",
       " 'GDP ($billion)',\n",
       " 'GSDP (Cr INR at 2011-12 prices)']"
      ]
     },
     "execution_count": 302,
     "metadata": {},
     "output_type": "execute_result"
    }
   ],
   "source": [
    "head"
   ]
  },
  {
   "cell_type": "code",
   "execution_count": 308,
   "metadata": {},
   "outputs": [],
   "source": [
    "headings2 = driver.find_elements_by_xpath(\"//div[@class='fwidth'][3]//div//div//table//thead//tr[2]//th\")"
   ]
  },
  {
   "cell_type": "code",
   "execution_count": 309,
   "metadata": {},
   "outputs": [
    {
     "data": {
      "text/plain": [
       "['19-20', '18-19', '18-19', '2019', '19-20', '18-19']"
      ]
     },
     "execution_count": 309,
     "metadata": {},
     "output_type": "execute_result"
    }
   ],
   "source": [
    "head2 = []\n",
    "for i in headings2:\n",
    "    head2.append(i.text)\n",
    "    \n",
    "head2"
   ]
  },
  {
   "cell_type": "code",
   "execution_count": 307,
   "metadata": {},
   "outputs": [
    {
     "data": {
      "text/plain": [
       "1"
      ]
     },
     "execution_count": 307,
     "metadata": {},
     "output_type": "execute_result"
    }
   ],
   "source": [
    "len(headings2)"
   ]
  },
  {
   "cell_type": "code",
   "execution_count": 310,
   "metadata": {},
   "outputs": [],
   "source": [
    "body = driver.find_elements_by_xpath(\"//div[@class='fwidth'][3]//div//div//table//tbody//tr\")"
   ]
  },
  {
   "cell_type": "code",
   "execution_count": 323,
   "metadata": {},
   "outputs": [],
   "source": [
    "columns = ['Rank','State','GSDP(19 -20) (Cr INR at Current prices) ','GSDP(18 -19)(Cr INR at Current prices)','Share','GDP ($billion)']"
   ]
  },
  {
   "cell_type": "code",
   "execution_count": 326,
   "metadata": {},
   "outputs": [],
   "source": [
    "for i in range(len(body)):\n",
    "    row = []\n",
    "    for j in range(1,7):\n",
    "        k = driver.find_element_by_xpath(\"//div[@class='fwidth'][3]//div//div//table//tbody//tr[{}]//td[{}]\".format(i+1,j))\n",
    "        row.append(k.text)\n",
    "    if i == 0:\n",
    "        df = pd.DataFrame([row],columns = columns)\n",
    "    else:\n",
    "        df = pd.concat([df,pd.DataFrame([row],columns=columns)])\n",
    "    "
   ]
  },
  {
   "cell_type": "code",
   "execution_count": 327,
   "metadata": {},
   "outputs": [
    {
     "data": {
      "text/html": [
       "<div>\n",
       "<style scoped>\n",
       "    .dataframe tbody tr th:only-of-type {\n",
       "        vertical-align: middle;\n",
       "    }\n",
       "\n",
       "    .dataframe tbody tr th {\n",
       "        vertical-align: top;\n",
       "    }\n",
       "\n",
       "    .dataframe thead th {\n",
       "        text-align: right;\n",
       "    }\n",
       "</style>\n",
       "<table border=\"1\" class=\"dataframe\">\n",
       "  <thead>\n",
       "    <tr style=\"text-align: right;\">\n",
       "      <th></th>\n",
       "      <th>Rank</th>\n",
       "      <th>State</th>\n",
       "      <th>GSDP(19 -20) (Cr INR at Current prices)</th>\n",
       "      <th>GSDP(18 -19)(Cr INR at Current prices)</th>\n",
       "      <th>Share</th>\n",
       "      <th>GDP ($billion)</th>\n",
       "    </tr>\n",
       "  </thead>\n",
       "  <tbody>\n",
       "    <tr>\n",
       "      <th>0</th>\n",
       "      <td>1</td>\n",
       "      <td>Maharashtra</td>\n",
       "      <td>-</td>\n",
       "      <td>2,632,792</td>\n",
       "      <td>13.94%</td>\n",
       "      <td>399.921</td>\n",
       "    </tr>\n",
       "    <tr>\n",
       "      <th>0</th>\n",
       "      <td>2</td>\n",
       "      <td>Tamil Nadu</td>\n",
       "      <td>1,845,853</td>\n",
       "      <td>1,630,208</td>\n",
       "      <td>8.63%</td>\n",
       "      <td>247.629</td>\n",
       "    </tr>\n",
       "    <tr>\n",
       "      <th>0</th>\n",
       "      <td>3</td>\n",
       "      <td>Uttar Pradesh</td>\n",
       "      <td>1,687,818</td>\n",
       "      <td>1,584,764</td>\n",
       "      <td>8.39%</td>\n",
       "      <td>240.726</td>\n",
       "    </tr>\n",
       "    <tr>\n",
       "      <th>0</th>\n",
       "      <td>4</td>\n",
       "      <td>Gujarat</td>\n",
       "      <td>-</td>\n",
       "      <td>1,502,899</td>\n",
       "      <td>7.96%</td>\n",
       "      <td>228.290</td>\n",
       "    </tr>\n",
       "    <tr>\n",
       "      <th>0</th>\n",
       "      <td>5</td>\n",
       "      <td>Karnataka</td>\n",
       "      <td>1,631,977</td>\n",
       "      <td>1,493,127</td>\n",
       "      <td>7.91%</td>\n",
       "      <td>226.806</td>\n",
       "    </tr>\n",
       "    <tr>\n",
       "      <th>0</th>\n",
       "      <td>6</td>\n",
       "      <td>West Bengal</td>\n",
       "      <td>1,253,832</td>\n",
       "      <td>1,089,898</td>\n",
       "      <td>5.77%</td>\n",
       "      <td>165.556</td>\n",
       "    </tr>\n",
       "    <tr>\n",
       "      <th>0</th>\n",
       "      <td>7</td>\n",
       "      <td>Rajasthan</td>\n",
       "      <td>1,020,989</td>\n",
       "      <td>942,586</td>\n",
       "      <td>4.99%</td>\n",
       "      <td>143.179</td>\n",
       "    </tr>\n",
       "    <tr>\n",
       "      <th>0</th>\n",
       "      <td>8</td>\n",
       "      <td>Andhra Pradesh</td>\n",
       "      <td>972,782</td>\n",
       "      <td>862,957</td>\n",
       "      <td>4.57%</td>\n",
       "      <td>131.083</td>\n",
       "    </tr>\n",
       "    <tr>\n",
       "      <th>0</th>\n",
       "      <td>9</td>\n",
       "      <td>Telangana</td>\n",
       "      <td>969,604</td>\n",
       "      <td>861,031</td>\n",
       "      <td>4.56%</td>\n",
       "      <td>130.791</td>\n",
       "    </tr>\n",
       "    <tr>\n",
       "      <th>0</th>\n",
       "      <td>10</td>\n",
       "      <td>Madhya Pradesh</td>\n",
       "      <td>906,672</td>\n",
       "      <td>809,592</td>\n",
       "      <td>4.29%</td>\n",
       "      <td>122.977</td>\n",
       "    </tr>\n",
       "    <tr>\n",
       "      <th>0</th>\n",
       "      <td>11</td>\n",
       "      <td>Kerala</td>\n",
       "      <td>-</td>\n",
       "      <td>781,653</td>\n",
       "      <td>4.14%</td>\n",
       "      <td>118.733</td>\n",
       "    </tr>\n",
       "    <tr>\n",
       "      <th>0</th>\n",
       "      <td>12</td>\n",
       "      <td>Delhi</td>\n",
       "      <td>856,112</td>\n",
       "      <td>774,870</td>\n",
       "      <td>4.10%</td>\n",
       "      <td>117.703</td>\n",
       "    </tr>\n",
       "    <tr>\n",
       "      <th>0</th>\n",
       "      <td>13</td>\n",
       "      <td>Haryana</td>\n",
       "      <td>831,610</td>\n",
       "      <td>734,163</td>\n",
       "      <td>3.89%</td>\n",
       "      <td>111.519</td>\n",
       "    </tr>\n",
       "    <tr>\n",
       "      <th>0</th>\n",
       "      <td>14</td>\n",
       "      <td>Bihar</td>\n",
       "      <td>611,804</td>\n",
       "      <td>530,363</td>\n",
       "      <td>2.81%</td>\n",
       "      <td>80.562</td>\n",
       "    </tr>\n",
       "    <tr>\n",
       "      <th>0</th>\n",
       "      <td>15</td>\n",
       "      <td>Punjab</td>\n",
       "      <td>574,760</td>\n",
       "      <td>526,376</td>\n",
       "      <td>2.79%</td>\n",
       "      <td>79.957</td>\n",
       "    </tr>\n",
       "    <tr>\n",
       "      <th>0</th>\n",
       "      <td>16</td>\n",
       "      <td>Odisha</td>\n",
       "      <td>521,275</td>\n",
       "      <td>487,805</td>\n",
       "      <td>2.58%</td>\n",
       "      <td>74.098</td>\n",
       "    </tr>\n",
       "    <tr>\n",
       "      <th>0</th>\n",
       "      <td>17</td>\n",
       "      <td>Assam</td>\n",
       "      <td>-</td>\n",
       "      <td>315,881</td>\n",
       "      <td>1.67%</td>\n",
       "      <td>47.982</td>\n",
       "    </tr>\n",
       "    <tr>\n",
       "      <th>0</th>\n",
       "      <td>18</td>\n",
       "      <td>Chhattisgarh</td>\n",
       "      <td>329,180</td>\n",
       "      <td>304,063</td>\n",
       "      <td>1.61%</td>\n",
       "      <td>46.187</td>\n",
       "    </tr>\n",
       "    <tr>\n",
       "      <th>0</th>\n",
       "      <td>19</td>\n",
       "      <td>Jharkhand</td>\n",
       "      <td>328,598</td>\n",
       "      <td>297,204</td>\n",
       "      <td>1.57%</td>\n",
       "      <td>45.145</td>\n",
       "    </tr>\n",
       "    <tr>\n",
       "      <th>0</th>\n",
       "      <td>20</td>\n",
       "      <td>Uttarakhand</td>\n",
       "      <td>-</td>\n",
       "      <td>245,895</td>\n",
       "      <td>1.30%</td>\n",
       "      <td>37.351</td>\n",
       "    </tr>\n",
       "    <tr>\n",
       "      <th>0</th>\n",
       "      <td>21</td>\n",
       "      <td>Jammu &amp; Kashmir</td>\n",
       "      <td>-</td>\n",
       "      <td>155,956</td>\n",
       "      <td>0.83%</td>\n",
       "      <td>23.690</td>\n",
       "    </tr>\n",
       "    <tr>\n",
       "      <th>0</th>\n",
       "      <td>22</td>\n",
       "      <td>Himachal Pradesh</td>\n",
       "      <td>165,472</td>\n",
       "      <td>153,845</td>\n",
       "      <td>0.81%</td>\n",
       "      <td>23.369</td>\n",
       "    </tr>\n",
       "    <tr>\n",
       "      <th>0</th>\n",
       "      <td>23</td>\n",
       "      <td>Goa</td>\n",
       "      <td>80,449</td>\n",
       "      <td>73,170</td>\n",
       "      <td>0.39%</td>\n",
       "      <td>11.115</td>\n",
       "    </tr>\n",
       "    <tr>\n",
       "      <th>0</th>\n",
       "      <td>24</td>\n",
       "      <td>Tripura</td>\n",
       "      <td>55,984</td>\n",
       "      <td>49,845</td>\n",
       "      <td>0.26%</td>\n",
       "      <td>7.571</td>\n",
       "    </tr>\n",
       "    <tr>\n",
       "      <th>0</th>\n",
       "      <td>25</td>\n",
       "      <td>Chandigarh</td>\n",
       "      <td>-</td>\n",
       "      <td>42,114</td>\n",
       "      <td>0.22%</td>\n",
       "      <td>6.397</td>\n",
       "    </tr>\n",
       "    <tr>\n",
       "      <th>0</th>\n",
       "      <td>26</td>\n",
       "      <td>Puducherry</td>\n",
       "      <td>38,253</td>\n",
       "      <td>34,433</td>\n",
       "      <td>0.18%</td>\n",
       "      <td>5.230</td>\n",
       "    </tr>\n",
       "    <tr>\n",
       "      <th>0</th>\n",
       "      <td>27</td>\n",
       "      <td>Meghalaya</td>\n",
       "      <td>36,572</td>\n",
       "      <td>33,481</td>\n",
       "      <td>0.18%</td>\n",
       "      <td>5.086</td>\n",
       "    </tr>\n",
       "    <tr>\n",
       "      <th>0</th>\n",
       "      <td>28</td>\n",
       "      <td>Sikkim</td>\n",
       "      <td>32,496</td>\n",
       "      <td>28,723</td>\n",
       "      <td>0.15%</td>\n",
       "      <td>4.363</td>\n",
       "    </tr>\n",
       "    <tr>\n",
       "      <th>0</th>\n",
       "      <td>29</td>\n",
       "      <td>Manipur</td>\n",
       "      <td>31,790</td>\n",
       "      <td>27,870</td>\n",
       "      <td>0.15%</td>\n",
       "      <td>4.233</td>\n",
       "    </tr>\n",
       "    <tr>\n",
       "      <th>0</th>\n",
       "      <td>30</td>\n",
       "      <td>Nagaland</td>\n",
       "      <td>-</td>\n",
       "      <td>27,283</td>\n",
       "      <td>0.14%</td>\n",
       "      <td>4.144</td>\n",
       "    </tr>\n",
       "    <tr>\n",
       "      <th>0</th>\n",
       "      <td>31</td>\n",
       "      <td>Arunachal Pradesh</td>\n",
       "      <td>-</td>\n",
       "      <td>24,603</td>\n",
       "      <td>0.13%</td>\n",
       "      <td>3.737</td>\n",
       "    </tr>\n",
       "    <tr>\n",
       "      <th>0</th>\n",
       "      <td>32</td>\n",
       "      <td>Mizoram</td>\n",
       "      <td>26,503</td>\n",
       "      <td>22,287</td>\n",
       "      <td>0.12%</td>\n",
       "      <td>3.385</td>\n",
       "    </tr>\n",
       "    <tr>\n",
       "      <th>0</th>\n",
       "      <td>33</td>\n",
       "      <td>Andaman &amp; Nicobar Islands</td>\n",
       "      <td>-</td>\n",
       "      <td>-</td>\n",
       "      <td>-</td>\n",
       "      <td>-</td>\n",
       "    </tr>\n",
       "  </tbody>\n",
       "</table>\n",
       "</div>"
      ],
      "text/plain": [
       "  Rank                      State GSDP(19 -20) (Cr INR at Current prices)   \\\n",
       "0    1                Maharashtra                                        -   \n",
       "0    2                 Tamil Nadu                                1,845,853   \n",
       "0    3              Uttar Pradesh                                1,687,818   \n",
       "0    4                    Gujarat                                        -   \n",
       "0    5                  Karnataka                                1,631,977   \n",
       "0    6                West Bengal                                1,253,832   \n",
       "0    7                  Rajasthan                                1,020,989   \n",
       "0    8             Andhra Pradesh                                  972,782   \n",
       "0    9                  Telangana                                  969,604   \n",
       "0   10             Madhya Pradesh                                  906,672   \n",
       "0   11                     Kerala                                        -   \n",
       "0   12                      Delhi                                  856,112   \n",
       "0   13                    Haryana                                  831,610   \n",
       "0   14                      Bihar                                  611,804   \n",
       "0   15                     Punjab                                  574,760   \n",
       "0   16                     Odisha                                  521,275   \n",
       "0   17                      Assam                                        -   \n",
       "0   18               Chhattisgarh                                  329,180   \n",
       "0   19                  Jharkhand                                  328,598   \n",
       "0   20                Uttarakhand                                        -   \n",
       "0   21            Jammu & Kashmir                                        -   \n",
       "0   22           Himachal Pradesh                                  165,472   \n",
       "0   23                        Goa                                   80,449   \n",
       "0   24                    Tripura                                   55,984   \n",
       "0   25                 Chandigarh                                        -   \n",
       "0   26                 Puducherry                                   38,253   \n",
       "0   27                  Meghalaya                                   36,572   \n",
       "0   28                     Sikkim                                   32,496   \n",
       "0   29                    Manipur                                   31,790   \n",
       "0   30                   Nagaland                                        -   \n",
       "0   31          Arunachal Pradesh                                        -   \n",
       "0   32                    Mizoram                                   26,503   \n",
       "0   33  Andaman & Nicobar Islands                                        -   \n",
       "\n",
       "  GSDP(18 -19)(Cr INR at Current prices)   Share GDP ($billion)  \n",
       "0                              2,632,792  13.94%        399.921  \n",
       "0                              1,630,208   8.63%        247.629  \n",
       "0                              1,584,764   8.39%        240.726  \n",
       "0                              1,502,899   7.96%        228.290  \n",
       "0                              1,493,127   7.91%        226.806  \n",
       "0                              1,089,898   5.77%        165.556  \n",
       "0                                942,586   4.99%        143.179  \n",
       "0                                862,957   4.57%        131.083  \n",
       "0                                861,031   4.56%        130.791  \n",
       "0                                809,592   4.29%        122.977  \n",
       "0                                781,653   4.14%        118.733  \n",
       "0                                774,870   4.10%        117.703  \n",
       "0                                734,163   3.89%        111.519  \n",
       "0                                530,363   2.81%         80.562  \n",
       "0                                526,376   2.79%         79.957  \n",
       "0                                487,805   2.58%         74.098  \n",
       "0                                315,881   1.67%         47.982  \n",
       "0                                304,063   1.61%         46.187  \n",
       "0                                297,204   1.57%         45.145  \n",
       "0                                245,895   1.30%         37.351  \n",
       "0                                155,956   0.83%         23.690  \n",
       "0                                153,845   0.81%         23.369  \n",
       "0                                 73,170   0.39%         11.115  \n",
       "0                                 49,845   0.26%          7.571  \n",
       "0                                 42,114   0.22%          6.397  \n",
       "0                                 34,433   0.18%          5.230  \n",
       "0                                 33,481   0.18%          5.086  \n",
       "0                                 28,723   0.15%          4.363  \n",
       "0                                 27,870   0.15%          4.233  \n",
       "0                                 27,283   0.14%          4.144  \n",
       "0                                 24,603   0.13%          3.737  \n",
       "0                                 22,287   0.12%          3.385  \n",
       "0                                      -       -              -  "
      ]
     },
     "execution_count": 327,
     "metadata": {},
     "output_type": "execute_result"
    }
   ],
   "source": [
    "df"
   ]
  },
  {
   "cell_type": "markdown",
   "metadata": {},
   "source": [
    "# Q5\n",
    "Scrape the details of trending repositories on Github.com.\n",
    "Url = https://github.com/\n",
    "\n",
    "You have to find the following details:\n",
    "\n",
    "A) Repository title\n",
    "\n",
    "B) Repository description\n",
    "\n",
    "C) Contributors count\n",
    "\n",
    "D) Language used\n"
   ]
  },
  {
   "cell_type": "code",
   "execution_count": 398,
   "metadata": {},
   "outputs": [],
   "source": [
    "url = 'https://github.com/'\n",
    "driver.get(url)"
   ]
  },
  {
   "cell_type": "code",
   "execution_count": 399,
   "metadata": {},
   "outputs": [],
   "source": [
    "first_action = driver.find_element_by_xpath(\"//nav[@class='mt-0 px-3 px-lg-0 mb-5 mb-lg-0']//ul//li[@class='d-block d-lg-flex flex-lg-nowrap flex-lg-items-center border-bottom border-lg-bottom-0 mr-0 mr-lg-3 edge-item-fix position-relative flex-wrap flex-justify-between d-flex flex-items-center '][2]\")"
   ]
  },
  {
   "cell_type": "code",
   "execution_count": 405,
   "metadata": {},
   "outputs": [
    {
     "data": {
      "text/plain": [
       "'Explore'"
      ]
     },
     "execution_count": 405,
     "metadata": {},
     "output_type": "execute_result"
    }
   ],
   "source": [
    "first_action.text"
   ]
  },
  {
   "cell_type": "code",
   "execution_count": 406,
   "metadata": {},
   "outputs": [],
   "source": [
    "first_action.click()"
   ]
  },
  {
   "cell_type": "code",
   "execution_count": null,
   "metadata": {},
   "outputs": [],
   "source": [
    "time.sleep(3)"
   ]
  },
  {
   "cell_type": "code",
   "execution_count": 409,
   "metadata": {},
   "outputs": [],
   "source": [
    "second_action = driver.find_element_by_xpath(\"//nav[@class='mt-0 px-3 px-lg-0 mb-5 mb-lg-0']//ul//li[4]//details//div//ul[2]//li[3]\")"
   ]
  },
  {
   "cell_type": "code",
   "execution_count": 410,
   "metadata": {},
   "outputs": [
    {
     "data": {
      "text/plain": [
       "'Trending'"
      ]
     },
     "execution_count": 410,
     "metadata": {},
     "output_type": "execute_result"
    }
   ],
   "source": [
    "second_action.text"
   ]
  },
  {
   "cell_type": "code",
   "execution_count": 411,
   "metadata": {},
   "outputs": [],
   "source": [
    "second_action.click()"
   ]
  },
  {
   "cell_type": "code",
   "execution_count": 412,
   "metadata": {},
   "outputs": [],
   "source": [
    "repo = driver.find_elements_by_xpath(\"//div[@class='Box']//div[2]//article\")"
   ]
  },
  {
   "cell_type": "code",
   "execution_count": 413,
   "metadata": {},
   "outputs": [
    {
     "data": {
      "text/plain": [
       "25"
      ]
     },
     "execution_count": 413,
     "metadata": {},
     "output_type": "execute_result"
    }
   ],
   "source": [
    "len(repo)"
   ]
  },
  {
   "cell_type": "code",
   "execution_count": 417,
   "metadata": {},
   "outputs": [],
   "source": [
    "Titles = []\n",
    "for i in range(len(repo)):\n",
    "    k = driver.find_element_by_xpath(\"//div[@class='Box']//div[2]//article[{}]//h1//a\".format(i+1))\n",
    "    Titles.append(k.text)"
   ]
  },
  {
   "cell_type": "code",
   "execution_count": 418,
   "metadata": {
    "collapsed": true
   },
   "outputs": [
    {
     "data": {
      "text/plain": [
       "['siduck76 / NvChad',\n",
       " 'star261 / jd',\n",
       " 'sqfmi / Watchy',\n",
       " 'jina-ai / jina',\n",
       " 'geohot / tinygrad',\n",
       " 'hotwired / turbo-rails',\n",
       " 'jwasham / coding-interview-university',\n",
       " 'chriskiehl / Gooey',\n",
       " 'monyhar / monyhar-lite',\n",
       " 'chromium / chromium',\n",
       " 'trimstray / the-book-of-secret-knowledge',\n",
       " 'Asabeneh / 30-Days-Of-JavaScript',\n",
       " 'lydiahallie / javascript-questions',\n",
       " 'neon-age / Smart-Inspector',\n",
       " 'alibaba / formily',\n",
       " 'JDHelloWorld / jd_scripts',\n",
       " 'yunjey / pytorch-tutorial',\n",
       " 'vercel / next.js',\n",
       " 'programthink / books',\n",
       " 'ethersphere / bee',\n",
       " 'willmcgugan / rich',\n",
       " 'jdah / jdh-8',\n",
       " 'NVlabs / SegFormer',\n",
       " 'rustdesk / rustdesk',\n",
       " 'adrianhajdin / portfolio_website']"
      ]
     },
     "execution_count": 418,
     "metadata": {},
     "output_type": "execute_result"
    }
   ],
   "source": [
    "Titles"
   ]
  },
  {
   "cell_type": "code",
   "execution_count": 421,
   "metadata": {},
   "outputs": [
    {
     "name": "stdout",
     "output_type": "stream",
     "text": [
      "exception occured:  Message: no such element: Unable to locate element: {\"method\":\"xpath\",\"selector\":\"//div[@class='Box']//div[2]//article[2]//p\"}\n",
      "  (Session info: chrome=91.0.4472.77)\n",
      "\n",
      "exception occured:  Message: no such element: Unable to locate element: {\"method\":\"xpath\",\"selector\":\"//div[@class='Box']//div[2]//article[16]//p\"}\n",
      "  (Session info: chrome=91.0.4472.77)\n",
      "\n"
     ]
    }
   ],
   "source": [
    "Description = []\n",
    "for i in range(len(repo)):\n",
    "    try:\n",
    "        k = driver.find_element_by_xpath(\"//div[@class='Box']//div[2]//article[{}]//p\".format(i+1))\n",
    "        Description.append(k.text)\n",
    "    except NoSuchElementException as e:\n",
    "        Description.append('-')\n",
    "        print(\"exception occured: \" , e)"
   ]
  },
  {
   "cell_type": "code",
   "execution_count": 422,
   "metadata": {
    "collapsed": true
   },
   "outputs": [
    {
     "data": {
      "text/plain": [
       "['beautiful neovim setup configured in lua',\n",
       " '-',\n",
       " 'Watchy - An Open Source E-Ink Smartwatch',\n",
       " 'An easier way to build neural search on the cloud',\n",
       " 'You like pytorch? You like micrograd? You love tinygrad! ❤️',\n",
       " 'Use Turbo in your Ruby on Rails app',\n",
       " 'A complete computer science study plan to become a software engineer.',\n",
       " 'Turn (almost) any Python command line program into a full GUI application with one line',\n",
       " '梦弘浏览器 自主研发版本 - 完全自主研发，打破国外垄断，比 Chrome 快 600%。缺少上网功能。',\n",
       " 'The official GitHub mirror of the Chromium source',\n",
       " 'A collection of inspiring lists, manuals, cheatsheets, blogs, hacks, one-liners, cli/web tools and more.',\n",
       " '30 days of JavaScript programming challenge is a step-by-step guide to learn JavaScript programming language in 30 days. This challenge may take more than 100 days, please just follow your own pace.',\n",
       " 'A long list of (advanced) JavaScript questions, and their explanations ✨',\n",
       " 'Keeps your screen real-estate clean with refined, compact UX.',\n",
       " 'Alibaba Group Unified Form Solution -- Support React/Vue2/Vue3',\n",
       " '-',\n",
       " 'PyTorch Tutorial for Deep Learning Researchers',\n",
       " 'The React Framework',\n",
       " '【编程随想】收藏的电子书清单（多个学科，含下载链接）',\n",
       " 'Bee is a Swarm client implemented in Go. It’s the basic building block for the Swarm network: a private; decentralized; censorship-resistant and self-sustaining network for storing your (application) data.',\n",
       " 'Rich is a Python library for rich text and beautiful formatting in the terminal.',\n",
       " 'An 8-bit minicomputer with a fully custom architecture',\n",
       " 'Official implementation of \"SegFormer: Simple and Efficient Design for Semantic Segmentation with Transformers\"',\n",
       " 'An open source remote desktop client software',\n",
       " 'Tutorial created by Enyel Sequeira, taught by JavaScript Mastery']"
      ]
     },
     "execution_count": 422,
     "metadata": {},
     "output_type": "execute_result"
    }
   ],
   "source": [
    "Description"
   ]
  },
  {
   "cell_type": "code",
   "execution_count": 423,
   "metadata": {},
   "outputs": [
    {
     "name": "stdout",
     "output_type": "stream",
     "text": [
      "exception occured:  Message: no such element: Unable to locate element: {\"method\":\"xpath\",\"selector\":\"//div[@class='Box']//div[2]//article[7]//div[2]//span//span[@itemprop = 'programmingLanguage']\"}\n",
      "  (Session info: chrome=91.0.4472.77)\n",
      "\n",
      "exception occured:  Message: no such element: Unable to locate element: {\"method\":\"xpath\",\"selector\":\"//div[@class='Box']//div[2]//article[10]//div[2]//span//span[@itemprop = 'programmingLanguage']\"}\n",
      "  (Session info: chrome=91.0.4472.77)\n",
      "\n",
      "exception occured:  Message: no such element: Unable to locate element: {\"method\":\"xpath\",\"selector\":\"//div[@class='Box']//div[2]//article[11]//div[2]//span//span[@itemprop = 'programmingLanguage']\"}\n",
      "  (Session info: chrome=91.0.4472.77)\n",
      "\n",
      "exception occured:  Message: no such element: Unable to locate element: {\"method\":\"xpath\",\"selector\":\"//div[@class='Box']//div[2]//article[13]//div[2]//span//span[@itemprop = 'programmingLanguage']\"}\n",
      "  (Session info: chrome=91.0.4472.77)\n",
      "\n",
      "exception occured:  Message: no such element: Unable to locate element: {\"method\":\"xpath\",\"selector\":\"//div[@class='Box']//div[2]//article[19]//div[2]//span//span[@itemprop = 'programmingLanguage']\"}\n",
      "  (Session info: chrome=91.0.4472.77)\n",
      "\n"
     ]
    }
   ],
   "source": [
    "Language = []\n",
    "for i in range(len(repo)):\n",
    "    try:\n",
    "        k = driver.find_element_by_xpath(\"//div[@class='Box']//div[2]//article[{}]//div[2]//span//span[@itemprop = 'programmingLanguage']\".format(i+1))\n",
    "        Language.append(k.text)\n",
    "    except NoSuchElementException as e:\n",
    "        Language.append('-')\n",
    "        print(\"exception occured: \" , e)"
   ]
  },
  {
   "cell_type": "code",
   "execution_count": 424,
   "metadata": {
    "collapsed": true
   },
   "outputs": [
    {
     "data": {
      "text/plain": [
       "['Lua',\n",
       " 'JavaScript',\n",
       " 'C',\n",
       " 'Python',\n",
       " 'Python',\n",
       " 'JavaScript',\n",
       " '-',\n",
       " 'Python',\n",
       " 'C',\n",
       " '-',\n",
       " '-',\n",
       " 'JavaScript',\n",
       " '-',\n",
       " 'C#',\n",
       " 'TypeScript',\n",
       " 'JavaScript',\n",
       " 'Python',\n",
       " 'JavaScript',\n",
       " '-',\n",
       " 'Go',\n",
       " 'Python',\n",
       " 'C',\n",
       " 'Python',\n",
       " 'Rust',\n",
       " 'JavaScript']"
      ]
     },
     "execution_count": 424,
     "metadata": {},
     "output_type": "execute_result"
    }
   ],
   "source": [
    "Language"
   ]
  },
  {
   "cell_type": "code",
   "execution_count": 427,
   "metadata": {},
   "outputs": [],
   "source": [
    "Contributors = []\n",
    "for i in range(len(repo)):\n",
    "    try:\n",
    "        k = driver.find_elements_by_xpath(\"//div[@class='Box']//div[2]//article[{}]//div[2]//span[@class='d-inline-block mr-3']//a\".format(i+1))\n",
    "        Contributors.append(len(k))\n",
    "    except NoSuchElementException as e:\n",
    "        Contributors.append('-')\n",
    "        print(\"exception occured: \" , e)"
   ]
  },
  {
   "cell_type": "code",
   "execution_count": 429,
   "metadata": {},
   "outputs": [
    {
     "data": {
      "text/plain": [
       "[5, 2, 5, 5, 5, 5, 5, 5, 1, 0, 5, 5, 5, 1, 5, 1, 5, 5, 1, 5, 5, 1, 3, 5, 2]"
      ]
     },
     "execution_count": 429,
     "metadata": {},
     "output_type": "execute_result"
    }
   ],
   "source": [
    "Contributors"
   ]
  },
  {
   "cell_type": "code",
   "execution_count": 430,
   "metadata": {},
   "outputs": [],
   "source": [
    "repositories = pd.DataFrame({'Title':Titles , 'Description':Description, 'Language':Language, 'Contributors':Contributors})"
   ]
  },
  {
   "cell_type": "code",
   "execution_count": 431,
   "metadata": {},
   "outputs": [
    {
     "data": {
      "text/html": [
       "<div>\n",
       "<style scoped>\n",
       "    .dataframe tbody tr th:only-of-type {\n",
       "        vertical-align: middle;\n",
       "    }\n",
       "\n",
       "    .dataframe tbody tr th {\n",
       "        vertical-align: top;\n",
       "    }\n",
       "\n",
       "    .dataframe thead th {\n",
       "        text-align: right;\n",
       "    }\n",
       "</style>\n",
       "<table border=\"1\" class=\"dataframe\">\n",
       "  <thead>\n",
       "    <tr style=\"text-align: right;\">\n",
       "      <th></th>\n",
       "      <th>Title</th>\n",
       "      <th>Description</th>\n",
       "      <th>Language</th>\n",
       "      <th>Contributors</th>\n",
       "    </tr>\n",
       "  </thead>\n",
       "  <tbody>\n",
       "    <tr>\n",
       "      <th>0</th>\n",
       "      <td>siduck76 / NvChad</td>\n",
       "      <td>beautiful neovim setup configured in lua</td>\n",
       "      <td>Lua</td>\n",
       "      <td>5</td>\n",
       "    </tr>\n",
       "    <tr>\n",
       "      <th>1</th>\n",
       "      <td>star261 / jd</td>\n",
       "      <td>-</td>\n",
       "      <td>JavaScript</td>\n",
       "      <td>2</td>\n",
       "    </tr>\n",
       "    <tr>\n",
       "      <th>2</th>\n",
       "      <td>sqfmi / Watchy</td>\n",
       "      <td>Watchy - An Open Source E-Ink Smartwatch</td>\n",
       "      <td>C</td>\n",
       "      <td>5</td>\n",
       "    </tr>\n",
       "    <tr>\n",
       "      <th>3</th>\n",
       "      <td>jina-ai / jina</td>\n",
       "      <td>An easier way to build neural search on the cloud</td>\n",
       "      <td>Python</td>\n",
       "      <td>5</td>\n",
       "    </tr>\n",
       "    <tr>\n",
       "      <th>4</th>\n",
       "      <td>geohot / tinygrad</td>\n",
       "      <td>You like pytorch? You like micrograd? You love...</td>\n",
       "      <td>Python</td>\n",
       "      <td>5</td>\n",
       "    </tr>\n",
       "  </tbody>\n",
       "</table>\n",
       "</div>"
      ],
      "text/plain": [
       "               Title                                        Description  \\\n",
       "0  siduck76 / NvChad           beautiful neovim setup configured in lua   \n",
       "1       star261 / jd                                                  -   \n",
       "2     sqfmi / Watchy           Watchy - An Open Source E-Ink Smartwatch   \n",
       "3     jina-ai / jina  An easier way to build neural search on the cloud   \n",
       "4  geohot / tinygrad  You like pytorch? You like micrograd? You love...   \n",
       "\n",
       "     Language  Contributors  \n",
       "0         Lua             5  \n",
       "1  JavaScript             2  \n",
       "2           C             5  \n",
       "3      Python             5  \n",
       "4      Python             5  "
      ]
     },
     "execution_count": 431,
     "metadata": {},
     "output_type": "execute_result"
    }
   ],
   "source": [
    "repositories.head()"
   ]
  },
  {
   "cell_type": "code",
   "execution_count": 474,
   "metadata": {},
   "outputs": [],
   "source": [
    "driver.close()"
   ]
  },
  {
   "cell_type": "markdown",
   "metadata": {},
   "source": [
    "# Q6\n",
    "\n",
    "Scrape the details of top 100 songs on billboard.com.\n",
    "Url = https://www.billboard.com/\n",
    "\n",
    "You have to find the following details:\n",
    "\n",
    "A) Song name\n",
    "\n",
    "B) Artist name\n",
    "\n",
    "C) Last week rank\n",
    "\n",
    "D) Peak rank\n",
    "\n",
    "E) Weeks on board\n",
    "\n",
    "Note: - From the home page you have to click on the charts option then hot 100-page link through code."
   ]
  },
  {
   "cell_type": "code",
   "execution_count": 475,
   "metadata": {},
   "outputs": [],
   "source": [
    "url = 'https://www.billboard.com/'\n",
    "driver = webdriver.Chrome(r'C:\\Users\\AKHIL\\Downloads\\chromedriver_win32\\chromedriver.exe')\n",
    "driver.get(url)"
   ]
  },
  {
   "cell_type": "code",
   "execution_count": 476,
   "metadata": {},
   "outputs": [],
   "source": [
    "driver.maximize_window()"
   ]
  },
  {
   "cell_type": "code",
   "execution_count": 477,
   "metadata": {},
   "outputs": [],
   "source": [
    "first_action = driver.find_element_by_xpath(\"//header[@class='header header--desktop padding-x--sm flex--space-between-center bg--dark']//div[@class='header__main-menu__wrapper flex--grow']//ul//li//a\")"
   ]
  },
  {
   "cell_type": "code",
   "execution_count": 487,
   "metadata": {},
   "outputs": [
    {
     "data": {
      "text/plain": [
       "'CHARTS'"
      ]
     },
     "execution_count": 487,
     "metadata": {},
     "output_type": "execute_result"
    }
   ],
   "source": [
    "first_action.text"
   ]
  },
  {
   "cell_type": "code",
   "execution_count": 488,
   "metadata": {},
   "outputs": [],
   "source": [
    "actions.move_to_element(first_action).perform()"
   ]
  },
  {
   "cell_type": "code",
   "execution_count": 489,
   "metadata": {},
   "outputs": [],
   "source": [
    "second_action = driver.find_element_by_xpath(\"//header[@class='header header--desktop padding-x--sm flex--space-between-center bg--dark']//div[@class='header__main-menu__wrapper flex--grow']//ul[@class='header__link-list header__main-menu bg--dark']//li[1]//span//ul[@class='header__submenu__list']//li[1]//a\")"
   ]
  },
  {
   "cell_type": "code",
   "execution_count": 490,
   "metadata": {},
   "outputs": [
    {
     "data": {
      "text/plain": [
       "'Hot 100'"
      ]
     },
     "execution_count": 490,
     "metadata": {},
     "output_type": "execute_result"
    }
   ],
   "source": [
    "second_action.text"
   ]
  },
  {
   "cell_type": "code",
   "execution_count": 491,
   "metadata": {},
   "outputs": [],
   "source": [
    "second_action.click()"
   ]
  },
  {
   "cell_type": "code",
   "execution_count": 495,
   "metadata": {},
   "outputs": [],
   "source": [
    "data = driver.find_elements_by_xpath(\"//ol[@class='chart-list__elements']//li//button\")"
   ]
  },
  {
   "cell_type": "code",
   "execution_count": 496,
   "metadata": {},
   "outputs": [
    {
     "data": {
      "text/plain": [
       "100"
      ]
     },
     "execution_count": 496,
     "metadata": {},
     "output_type": "execute_result"
    }
   ],
   "source": [
    "len(data)"
   ]
  },
  {
   "cell_type": "code",
   "execution_count": 501,
   "metadata": {},
   "outputs": [],
   "source": [
    "song_names = driver.find_elements_by_xpath(\"//ol[@class='chart-list__elements']//li//button//span[@class='chart-element__information']//span[@class='chart-element__information__song text--truncate color--primary']\")"
   ]
  },
  {
   "cell_type": "code",
   "execution_count": 502,
   "metadata": {},
   "outputs": [
    {
     "data": {
      "text/plain": [
       "100"
      ]
     },
     "execution_count": 502,
     "metadata": {},
     "output_type": "execute_result"
    }
   ],
   "source": [
    "len(song_names)"
   ]
  },
  {
   "cell_type": "code",
   "execution_count": 503,
   "metadata": {},
   "outputs": [],
   "source": [
    "artist_names = driver.find_elements_by_xpath(\"//ol[@class='chart-list__elements']//li//button//span[@class='chart-element__information']//span[@class='chart-element__information__artist text--truncate color--secondary']\")"
   ]
  },
  {
   "cell_type": "code",
   "execution_count": 504,
   "metadata": {},
   "outputs": [
    {
     "data": {
      "text/plain": [
       "100"
      ]
     },
     "execution_count": 504,
     "metadata": {},
     "output_type": "execute_result"
    }
   ],
   "source": [
    "len(artist_names)"
   ]
  },
  {
   "cell_type": "code",
   "execution_count": 505,
   "metadata": {},
   "outputs": [],
   "source": [
    "Song = []\n",
    "for i in song_names:\n",
    "    Song.append(i.text)"
   ]
  },
  {
   "cell_type": "code",
   "execution_count": 507,
   "metadata": {},
   "outputs": [],
   "source": [
    "Artist = []\n",
    "for i in artist_names:\n",
    "    Artist.append(i.text)"
   ]
  },
  {
   "cell_type": "code",
   "execution_count": 528,
   "metadata": {},
   "outputs": [],
   "source": [
    "last_rank = driver.find_elements_by_xpath(\"//ol[@class='chart-list__elements']//li//button//div[@class='chart-element__metas chart-element__metas--large display--flex flex--y-center']//div[@class='chart-element__meta text--center color--secondary text--last']\")"
   ]
  },
  {
   "cell_type": "code",
   "execution_count": 529,
   "metadata": {},
   "outputs": [
    {
     "data": {
      "text/plain": [
       "100"
      ]
     },
     "execution_count": 529,
     "metadata": {},
     "output_type": "execute_result"
    }
   ],
   "source": [
    "len(last_rank)"
   ]
  },
  {
   "cell_type": "code",
   "execution_count": 530,
   "metadata": {},
   "outputs": [],
   "source": [
    "peak_ranks = driver.find_elements_by_xpath(\"//ol[@class='chart-list__elements']//li//button//div[@class='chart-element__metas chart-element__metas--large display--flex flex--y-center']//div[@class='chart-element__meta text--center color--secondary text--peak']\")"
   ]
  },
  {
   "cell_type": "code",
   "execution_count": 531,
   "metadata": {},
   "outputs": [
    {
     "data": {
      "text/plain": [
       "100"
      ]
     },
     "execution_count": 531,
     "metadata": {},
     "output_type": "execute_result"
    }
   ],
   "source": [
    "len(peak_ranks)"
   ]
  },
  {
   "cell_type": "code",
   "execution_count": 532,
   "metadata": {},
   "outputs": [],
   "source": [
    "weeks = driver.find_elements_by_xpath(\"//ol[@class='chart-list__elements']//li//button//div[@class='chart-element__metas chart-element__metas--large display--flex flex--y-center']//div[@class='chart-element__meta text--center color--secondary text--week']\")"
   ]
  },
  {
   "cell_type": "code",
   "execution_count": 533,
   "metadata": {},
   "outputs": [
    {
     "data": {
      "text/plain": [
       "100"
      ]
     },
     "execution_count": 533,
     "metadata": {},
     "output_type": "execute_result"
    }
   ],
   "source": [
    "len(weeks)"
   ]
  },
  {
   "cell_type": "code",
   "execution_count": 534,
   "metadata": {},
   "outputs": [],
   "source": [
    "Last_week_rank = []\n",
    "Peak_rank = []\n",
    "Weeks_on_board = []\n",
    "\n",
    "for i in last_rank:\n",
    "    Last_week_rank.append(i.text)\n",
    "    \n",
    "for i in peak_ranks:\n",
    "    Peak_rank.append(i.text)\n",
    "    \n",
    "for i in weeks:\n",
    "    Weeks_on_board.append(i.text)\n",
    "    \n",
    "hot_100 = pd.DataFrame({'Song':Song, 'Artist':Artist, 'Last_week_rank':Last_week_rank, 'Peak_rank':Peak_rank, 'Weeks_on_board':Weeks_on_board})"
   ]
  },
  {
   "cell_type": "code",
   "execution_count": 535,
   "metadata": {},
   "outputs": [
    {
     "data": {
      "text/plain": [
       "(100, 5)"
      ]
     },
     "execution_count": 535,
     "metadata": {},
     "output_type": "execute_result"
    }
   ],
   "source": [
    "hot_100.shape"
   ]
  },
  {
   "cell_type": "code",
   "execution_count": 536,
   "metadata": {},
   "outputs": [
    {
     "data": {
      "text/html": [
       "<div>\n",
       "<style scoped>\n",
       "    .dataframe tbody tr th:only-of-type {\n",
       "        vertical-align: middle;\n",
       "    }\n",
       "\n",
       "    .dataframe tbody tr th {\n",
       "        vertical-align: top;\n",
       "    }\n",
       "\n",
       "    .dataframe thead th {\n",
       "        text-align: right;\n",
       "    }\n",
       "</style>\n",
       "<table border=\"1\" class=\"dataframe\">\n",
       "  <thead>\n",
       "    <tr style=\"text-align: right;\">\n",
       "      <th></th>\n",
       "      <th>Song</th>\n",
       "      <th>Artist</th>\n",
       "      <th>Last_week_rank</th>\n",
       "      <th>Peak_rank</th>\n",
       "      <th>Weeks_on_board</th>\n",
       "    </tr>\n",
       "  </thead>\n",
       "  <tbody>\n",
       "    <tr>\n",
       "      <th>0</th>\n",
       "      <td>Butter</td>\n",
       "      <td>BTS</td>\n",
       "      <td>1</td>\n",
       "      <td>1</td>\n",
       "      <td>3</td>\n",
       "    </tr>\n",
       "    <tr>\n",
       "      <th>1</th>\n",
       "      <td>Good 4 U</td>\n",
       "      <td>Olivia Rodrigo</td>\n",
       "      <td>2</td>\n",
       "      <td>1</td>\n",
       "      <td>4</td>\n",
       "    </tr>\n",
       "    <tr>\n",
       "      <th>2</th>\n",
       "      <td>Levitating</td>\n",
       "      <td>Dua Lipa Featuring DaBaby</td>\n",
       "      <td>3</td>\n",
       "      <td>2</td>\n",
       "      <td>36</td>\n",
       "    </tr>\n",
       "    <tr>\n",
       "      <th>3</th>\n",
       "      <td>Peaches</td>\n",
       "      <td>Justin Bieber Featuring Daniel Caesar &amp; Giveon</td>\n",
       "      <td>6</td>\n",
       "      <td>1</td>\n",
       "      <td>12</td>\n",
       "    </tr>\n",
       "    <tr>\n",
       "      <th>4</th>\n",
       "      <td>Leave The Door Open</td>\n",
       "      <td>Silk Sonic (Bruno Mars &amp; Anderson .Paak)</td>\n",
       "      <td>4</td>\n",
       "      <td>1</td>\n",
       "      <td>14</td>\n",
       "    </tr>\n",
       "  </tbody>\n",
       "</table>\n",
       "</div>"
      ],
      "text/plain": [
       "                  Song                                          Artist  \\\n",
       "0               Butter                                             BTS   \n",
       "1             Good 4 U                                  Olivia Rodrigo   \n",
       "2           Levitating                       Dua Lipa Featuring DaBaby   \n",
       "3              Peaches  Justin Bieber Featuring Daniel Caesar & Giveon   \n",
       "4  Leave The Door Open        Silk Sonic (Bruno Mars & Anderson .Paak)   \n",
       "\n",
       "  Last_week_rank Peak_rank Weeks_on_board  \n",
       "0              1         1              3  \n",
       "1              2         1              4  \n",
       "2              3         2             36  \n",
       "3              6         1             12  \n",
       "4              4         1             14  "
      ]
     },
     "execution_count": 536,
     "metadata": {},
     "output_type": "execute_result"
    }
   ],
   "source": [
    "hot_100.head()"
   ]
  },
  {
   "cell_type": "code",
   "execution_count": 537,
   "metadata": {},
   "outputs": [],
   "source": [
    "driver.close()"
   ]
  },
  {
   "cell_type": "markdown",
   "metadata": {},
   "source": [
    "# Q7\n",
    "Scrape the details of Data science recruiters from naukri.com.\n",
    "Url = https://www.naukri.com/\n",
    "\n",
    "You have to find the following details:\n",
    "\n",
    "A) Name\n",
    "\n",
    "B) Designation\n",
    "\n",
    "C) Company\n",
    "\n",
    "D) Skills they hire for\n",
    "\n",
    "E) Location\n",
    "\n",
    "Note: - From naukri.com homepage click on the recruiters option and the on the search pane type Data science and click on search. All this should be done through code"
   ]
  },
  {
   "cell_type": "code",
   "execution_count": 538,
   "metadata": {},
   "outputs": [],
   "source": [
    "url = \"https://www.naukri.com/\"\n",
    "driver = webdriver.Chrome(r'C:\\Users\\AKHIL\\Downloads\\chromedriver_win32\\chromedriver.exe')\n",
    "driver.get(url)"
   ]
  },
  {
   "cell_type": "code",
   "execution_count": 540,
   "metadata": {},
   "outputs": [],
   "source": [
    "search = driver.find_element_by_xpath(\"//a[@title='Search Recruiters']\")"
   ]
  },
  {
   "cell_type": "code",
   "execution_count": 541,
   "metadata": {},
   "outputs": [],
   "source": [
    "search.click()"
   ]
  },
  {
   "cell_type": "code",
   "execution_count": 542,
   "metadata": {},
   "outputs": [],
   "source": [
    "driver.switch_to.window(driver.window_handles[-1])"
   ]
  },
  {
   "cell_type": "code",
   "execution_count": 543,
   "metadata": {},
   "outputs": [],
   "source": [
    "search_title = driver.find_element_by_xpath(\"//div[@class='inpWrap']//input\")"
   ]
  },
  {
   "cell_type": "code",
   "execution_count": 544,
   "metadata": {},
   "outputs": [],
   "source": [
    "search_title.send_keys(\"Data science\")"
   ]
  },
  {
   "cell_type": "code",
   "execution_count": 545,
   "metadata": {},
   "outputs": [],
   "source": [
    "search_button = driver.find_element_by_id(\"qsbFormBtn\")\n",
    "search_button.click()"
   ]
  },
  {
   "cell_type": "code",
   "execution_count": 567,
   "metadata": {},
   "outputs": [],
   "source": [
    "driver.execute_script(\"window.scrollTo(0, document.body.scrollHeight);\")"
   ]
  },
  {
   "cell_type": "code",
   "execution_count": 547,
   "metadata": {},
   "outputs": [],
   "source": [
    "driver.execute_script(\"window.scrollTo(0, 0);\")"
   ]
  },
  {
   "cell_type": "code",
   "execution_count": 558,
   "metadata": {},
   "outputs": [],
   "source": [
    "length = driver.find_elements_by_xpath(\"//div[@class='recInfo']\")"
   ]
  },
  {
   "cell_type": "code",
   "execution_count": 559,
   "metadata": {},
   "outputs": [
    {
     "data": {
      "text/plain": [
       "50"
      ]
     },
     "execution_count": 559,
     "metadata": {},
     "output_type": "execute_result"
    }
   ],
   "source": [
    "len(length)"
   ]
  },
  {
   "cell_type": "code",
   "execution_count": 573,
   "metadata": {},
   "outputs": [],
   "source": [
    "Name = []\n",
    "for i in range(len(length)//2):\n",
    "    try:\n",
    "        k = driver.find_element_by_xpath(\"//div[@class='outerRecSec'][{}]//div[@class='recSec fl fadeInUp']//div[@class='recInfo']//div[@class='vcard']//p//a[1]//span\".format(i+1))\n",
    "        Name.append(k.text)\n",
    "    except NoSuchElementException as e:\n",
    "        print( i+1 , \"fl\" )\n",
    "        Name.append('-')\n",
    "    try:\n",
    "        k = driver.find_element_by_xpath(\"//div[@class='outerRecSec'][{}]//div[@class='recSec fr fadeInUp']//div[@class='recInfo']//div[@class='vcard']//p//a[1]//span\".format(i+1))\n",
    "        Name.append(k.text)\n",
    "    except NoSuchElementException as e:\n",
    "        print( i+1 , \"fr\")\n",
    "        Name.append('-')"
   ]
  },
  {
   "cell_type": "code",
   "execution_count": 575,
   "metadata": {},
   "outputs": [],
   "source": [
    "Designation = []\n",
    "for i in range(len(length)//2):\n",
    "    try:\n",
    "        k = driver.find_element_by_xpath(\"//div[@class='outerRecSec'][{}]//div[@class='recSec fl fadeInUp']//div[@class='recInfo']//div[@class='vcard']//p//span[@class='ellipsis clr']\".format(i+1))\n",
    "        Designation.append(k.text)\n",
    "    except NoSuchElementException as e:\n",
    "        print( i+1 , \"fl\" )\n",
    "        Designation.append('-')\n",
    "    try:\n",
    "        k = driver.find_element_by_xpath(\"//div[@class='outerRecSec'][{}]//div[@class='recSec fr fadeInUp']//div[@class='recInfo']//div[@class='vcard']//p//span[@class='ellipsis clr']\".format(i+1))\n",
    "        Designation.append(k.text)\n",
    "    except NoSuchElementException as e:\n",
    "        print( i+1 , \"fr\")\n",
    "        Designation.append('-')"
   ]
  },
  {
   "cell_type": "code",
   "execution_count": 577,
   "metadata": {},
   "outputs": [],
   "source": [
    "Company = []\n",
    "for i in range(len(length)//2):\n",
    "    try:\n",
    "        k = driver.find_element_by_xpath(\"//div[@class='outerRecSec'][{}]//div[@class='recSec fl fadeInUp']//div[@class='recInfo']//div[@class='vcard']//p//a[2]//i\".format(i+1))\n",
    "        Company.append(k.text)\n",
    "    except NoSuchElementException as e:\n",
    "        print( i+1 , \"fl\" )\n",
    "        Company.append('-')\n",
    "    try:\n",
    "        k = driver.find_element_by_xpath(\"//div[@class='outerRecSec'][{}]//div[@class='recSec fr fadeInUp']//div[@class='recInfo']//div[@class='vcard']//p//a[2]//i\".format(i+1))\n",
    "        Company.append(k.text)\n",
    "    except NoSuchElementException as e:\n",
    "        print( i+1 , \"fr\")\n",
    "        Company.append('-')"
   ]
  },
  {
   "cell_type": "code",
   "execution_count": 579,
   "metadata": {},
   "outputs": [
    {
     "name": "stdout",
     "output_type": "stream",
     "text": [
      "14 fl\n",
      "24 fr\n"
     ]
    }
   ],
   "source": [
    "Location = []\n",
    "for i in range(len(length)//2):\n",
    "    try:\n",
    "        k = driver.find_element_by_xpath(\"//div[@class='outerRecSec'][{}]//div[@class='recSec fl fadeInUp']//div[@class='recInfo']//div[@class='vcard']//p//span//small\".format(i+1))\n",
    "        Location.append(k.text)\n",
    "    except NoSuchElementException as e:\n",
    "        print( i+1 , \"fl\" )\n",
    "        Location.append('-')\n",
    "    try:\n",
    "        k = driver.find_element_by_xpath(\"//div[@class='outerRecSec'][{}]//div[@class='recSec fr fadeInUp']//div[@class='recInfo']//div[@class='vcard']//p//span//small\".format(i+1))\n",
    "        Location.append(k.text)\n",
    "    except NoSuchElementException as e:\n",
    "        print( i+1 , \"fr\")\n",
    "        Location.append('-')"
   ]
  },
  {
   "cell_type": "code",
   "execution_count": 580,
   "metadata": {},
   "outputs": [],
   "source": [
    "Skills = []\n",
    "for i in range(len(length)//2):\n",
    "    try:\n",
    "        k = driver.find_element_by_xpath(\"//div[@class='outerRecSec'][{}]//div[@class='recSec fl fadeInUp']//div[@class='recInfo']//div[@class='hireSec highlightable']\".format(i+1))\n",
    "        Skills.append(k.text)\n",
    "    except NoSuchElementException as e:\n",
    "        print( i+1 , \"fl\" )\n",
    "        Skills.append('-')\n",
    "    try:\n",
    "        k = driver.find_element_by_xpath(\"//div[@class='outerRecSec'][{}]//div[@class='recSec fr fadeInUp']//div[@class='recInfo']//div[@class='hireSec highlightable']\".format(i+1))\n",
    "        Skills.append(k.text)\n",
    "    except NoSuchElementException as e:\n",
    "        print( i+1 , \"fr\")\n",
    "        Skills.append('-')"
   ]
  },
  {
   "cell_type": "code",
   "execution_count": 582,
   "metadata": {},
   "outputs": [],
   "source": [
    "Jobs = pd.DataFrame({'Name':Name , 'Designation':Designation, 'Company':Company , 'Location':Location, 'Skills':Skills})"
   ]
  },
  {
   "cell_type": "code",
   "execution_count": 583,
   "metadata": {},
   "outputs": [
    {
     "data": {
      "text/html": [
       "<div>\n",
       "<style scoped>\n",
       "    .dataframe tbody tr th:only-of-type {\n",
       "        vertical-align: middle;\n",
       "    }\n",
       "\n",
       "    .dataframe tbody tr th {\n",
       "        vertical-align: top;\n",
       "    }\n",
       "\n",
       "    .dataframe thead th {\n",
       "        text-align: right;\n",
       "    }\n",
       "</style>\n",
       "<table border=\"1\" class=\"dataframe\">\n",
       "  <thead>\n",
       "    <tr style=\"text-align: right;\">\n",
       "      <th></th>\n",
       "      <th>Name</th>\n",
       "      <th>Designation</th>\n",
       "      <th>Company</th>\n",
       "      <th>Location</th>\n",
       "      <th>Skills</th>\n",
       "    </tr>\n",
       "  </thead>\n",
       "  <tbody>\n",
       "    <tr>\n",
       "      <th>19</th>\n",
       "      <td>Faizan Kareem</td>\n",
       "      <td>HR MANAGER</td>\n",
       "      <td></td>\n",
       "      <td>Hyderabad / Secunderabad</td>\n",
       "      <td>Data Analytics, Data Science, Machine Learning...</td>\n",
       "    </tr>\n",
       "    <tr>\n",
       "      <th>35</th>\n",
       "      <td>Kanan</td>\n",
       "      <td>senior technology instructor</td>\n",
       "      <td></td>\n",
       "      <td>Chennai</td>\n",
       "      <td>C, C++, Artificial Intelligence, Python, Php, ...</td>\n",
       "    </tr>\n",
       "    <tr>\n",
       "      <th>41</th>\n",
       "      <td>Gaurav Chouhan</td>\n",
       "      <td>Chief Technical Officer</td>\n",
       "      <td></td>\n",
       "      <td>Indore</td>\n",
       "      <td>Software Development, Business Intelligence, B...</td>\n",
       "    </tr>\n",
       "    <tr>\n",
       "      <th>42</th>\n",
       "      <td>Rashi Kacker</td>\n",
       "      <td>Sr Product Manager</td>\n",
       "      <td></td>\n",
       "      <td>Bengaluru / Bangalore</td>\n",
       "      <td>Data Science, Node.js, Angularjs</td>\n",
       "    </tr>\n",
       "    <tr>\n",
       "      <th>46</th>\n",
       "      <td>ROHIT Kumar</td>\n",
       "      <td>Architect</td>\n",
       "      <td></td>\n",
       "      <td>Mumbai</td>\n",
       "      <td>Software Development, Core Java, Unit Testing,...</td>\n",
       "    </tr>\n",
       "  </tbody>\n",
       "</table>\n",
       "</div>"
      ],
      "text/plain": [
       "              Name                   Designation Company  \\\n",
       "19   Faizan Kareem                    HR MANAGER           \n",
       "35           Kanan  senior technology instructor           \n",
       "41  Gaurav Chouhan       Chief Technical Officer           \n",
       "42    Rashi Kacker            Sr Product Manager           \n",
       "46     ROHIT Kumar                     Architect           \n",
       "\n",
       "                    Location  \\\n",
       "19  Hyderabad / Secunderabad   \n",
       "35                   Chennai   \n",
       "41                    Indore   \n",
       "42     Bengaluru / Bangalore   \n",
       "46                    Mumbai   \n",
       "\n",
       "                                               Skills  \n",
       "19  Data Analytics, Data Science, Machine Learning...  \n",
       "35  C, C++, Artificial Intelligence, Python, Php, ...  \n",
       "41  Software Development, Business Intelligence, B...  \n",
       "42                   Data Science, Node.js, Angularjs  \n",
       "46  Software Development, Core Java, Unit Testing,...  "
      ]
     },
     "execution_count": 583,
     "metadata": {},
     "output_type": "execute_result"
    }
   ],
   "source": [
    "Jobs.sample(5)"
   ]
  },
  {
   "cell_type": "code",
   "execution_count": 585,
   "metadata": {},
   "outputs": [],
   "source": [
    "driver.close()"
   ]
  },
  {
   "cell_type": "markdown",
   "metadata": {},
   "source": [
    "# Q8\n",
    "Scrape the details of Highest selling novels.\n",
    "Url = https://www.theguardian.com/news/datablog/2012/aug/09/best-selling-books-all-time-fifty-shades-grey-compare/\n",
    "\n",
    "You have to find the following details:\n",
    "\n",
    "A) Book name\n",
    "\n",
    "B) Author name\n",
    "\n",
    "C) Volumes sold\n",
    "\n",
    "D) Publisher\n",
    "\n",
    "E) Genre"
   ]
  },
  {
   "cell_type": "code",
   "execution_count": 584,
   "metadata": {},
   "outputs": [],
   "source": [
    "url =  \"https://www.theguardian.com/news/datablog/2012/aug/09/best-selling-books-all-time-fifty-shades-grey-compare/\""
   ]
  },
  {
   "cell_type": "code",
   "execution_count": 586,
   "metadata": {},
   "outputs": [],
   "source": [
    "driver = webdriver.Chrome(r'C:\\Users\\AKHIL\\Downloads\\chromedriver_win32\\chromedriver.exe')\n",
    "driver.get(url)"
   ]
  },
  {
   "cell_type": "code",
   "execution_count": 587,
   "metadata": {},
   "outputs": [],
   "source": [
    "length = driver.find_elements_by_xpath(\"//div[@class='embed block']//table//thead//tr//th\")"
   ]
  },
  {
   "cell_type": "code",
   "execution_count": 588,
   "metadata": {},
   "outputs": [
    {
     "data": {
      "text/plain": [
       "6"
      ]
     },
     "execution_count": 588,
     "metadata": {},
     "output_type": "execute_result"
    }
   ],
   "source": [
    "len(length)"
   ]
  },
  {
   "cell_type": "code",
   "execution_count": 589,
   "metadata": {},
   "outputs": [],
   "source": [
    "columns = []\n",
    "for i in range(len(length)):\n",
    "    k = driver.find_element_by_xpath(\"//div[@class='embed block']//table//thead//tr//th[{}]\".format(i+1))\n",
    "    columns.append(k.text)"
   ]
  },
  {
   "cell_type": "code",
   "execution_count": 590,
   "metadata": {},
   "outputs": [
    {
     "data": {
      "text/plain": [
       "['Rank', 'Title', 'Author', 'Volume Sales', 'Publisher', 'Genre']"
      ]
     },
     "execution_count": 590,
     "metadata": {},
     "output_type": "execute_result"
    }
   ],
   "source": [
    "columns"
   ]
  },
  {
   "cell_type": "code",
   "execution_count": 591,
   "metadata": {},
   "outputs": [],
   "source": [
    "total_rows = driver.find_elements_by_xpath(\"//div[@class='embed block']//table//tbody//tr\")"
   ]
  },
  {
   "cell_type": "code",
   "execution_count": 592,
   "metadata": {},
   "outputs": [
    {
     "data": {
      "text/plain": [
       "100"
      ]
     },
     "execution_count": 592,
     "metadata": {},
     "output_type": "execute_result"
    }
   ],
   "source": [
    "len(total_rows)"
   ]
  },
  {
   "cell_type": "code",
   "execution_count": 595,
   "metadata": {},
   "outputs": [
    {
     "data": {
      "text/html": [
       "<div>\n",
       "<style scoped>\n",
       "    .dataframe tbody tr th:only-of-type {\n",
       "        vertical-align: middle;\n",
       "    }\n",
       "\n",
       "    .dataframe tbody tr th {\n",
       "        vertical-align: top;\n",
       "    }\n",
       "\n",
       "    .dataframe thead th {\n",
       "        text-align: right;\n",
       "    }\n",
       "</style>\n",
       "<table border=\"1\" class=\"dataframe\">\n",
       "  <thead>\n",
       "    <tr style=\"text-align: right;\">\n",
       "      <th></th>\n",
       "      <th>Rank</th>\n",
       "      <th>Title</th>\n",
       "      <th>Author</th>\n",
       "      <th>Volume Sales</th>\n",
       "      <th>Publisher</th>\n",
       "      <th>Genre</th>\n",
       "    </tr>\n",
       "  </thead>\n",
       "  <tbody>\n",
       "    <tr>\n",
       "      <th>0</th>\n",
       "      <td>96</td>\n",
       "      <td>Ghost,The</td>\n",
       "      <td>Harris, Robert</td>\n",
       "      <td>807,311</td>\n",
       "      <td>Random House</td>\n",
       "      <td>General &amp; Literary Fiction</td>\n",
       "    </tr>\n",
       "    <tr>\n",
       "      <th>0</th>\n",
       "      <td>30</td>\n",
       "      <td>Thousand Splendid Suns,A</td>\n",
       "      <td>Hosseini, Khaled</td>\n",
       "      <td>1,583,992</td>\n",
       "      <td>Bloomsbury</td>\n",
       "      <td>General &amp; Literary Fiction</td>\n",
       "    </tr>\n",
       "    <tr>\n",
       "      <th>0</th>\n",
       "      <td>15</td>\n",
       "      <td>Lost Symbol,The</td>\n",
       "      <td>Brown, Dan</td>\n",
       "      <td>2,183,031</td>\n",
       "      <td>Transworld</td>\n",
       "      <td>Crime, Thriller &amp; Adventure</td>\n",
       "    </tr>\n",
       "    <tr>\n",
       "      <th>0</th>\n",
       "      <td>18</td>\n",
       "      <td>Eclipse</td>\n",
       "      <td>Meyer, Stephenie</td>\n",
       "      <td>2,052,876</td>\n",
       "      <td>Little, Brown Book</td>\n",
       "      <td>Young Adult Fiction</td>\n",
       "    </tr>\n",
       "    <tr>\n",
       "      <th>0</th>\n",
       "      <td>22</td>\n",
       "      <td>Short History of Nearly Everything,A</td>\n",
       "      <td>Bryson, Bill</td>\n",
       "      <td>1,852,919</td>\n",
       "      <td>Transworld</td>\n",
       "      <td>Popular Science</td>\n",
       "    </tr>\n",
       "  </tbody>\n",
       "</table>\n",
       "</div>"
      ],
      "text/plain": [
       "  Rank                                 Title            Author Volume Sales  \\\n",
       "0   96                             Ghost,The    Harris, Robert      807,311   \n",
       "0   30              Thousand Splendid Suns,A  Hosseini, Khaled    1,583,992   \n",
       "0   15                       Lost Symbol,The        Brown, Dan    2,183,031   \n",
       "0   18                               Eclipse  Meyer, Stephenie    2,052,876   \n",
       "0   22  Short History of Nearly Everything,A      Bryson, Bill    1,852,919   \n",
       "\n",
       "            Publisher                        Genre  \n",
       "0        Random House   General & Literary Fiction  \n",
       "0          Bloomsbury   General & Literary Fiction  \n",
       "0          Transworld  Crime, Thriller & Adventure  \n",
       "0  Little, Brown Book          Young Adult Fiction  \n",
       "0          Transworld              Popular Science  "
      ]
     },
     "execution_count": 595,
     "metadata": {},
     "output_type": "execute_result"
    }
   ],
   "source": [
    "for i in range(len(total_rows)):\n",
    "    row = []\n",
    "    for j in range(len(length)):\n",
    "        try:\n",
    "            k = driver.find_element_by_xpath(\"//div[@class='embed block']//table//tbody//tr[{}]//td[{}]\".format(i+1,j+1))\n",
    "            row.append(k.text)\n",
    "        except NoSuchElementException as e:\n",
    "            print( i+1, \"row and\" ,j+1 ,\"column\")\n",
    "            print(e)\n",
    "            row.append('-')\n",
    "    if i == 0:\n",
    "        df = pd.DataFrame([row],columns=columns)\n",
    "    else:\n",
    "        df = pd.concat([df,pd.DataFrame([row],columns=columns)],axis=0)\n",
    "        \n",
    "df.sample(5)"
   ]
  },
  {
   "cell_type": "code",
   "execution_count": 596,
   "metadata": {},
   "outputs": [],
   "source": [
    "df = df.reset_index().drop(columns=['index'])"
   ]
  },
  {
   "cell_type": "code",
   "execution_count": 598,
   "metadata": {},
   "outputs": [
    {
     "data": {
      "text/plain": [
       "(100, 6)"
      ]
     },
     "execution_count": 598,
     "metadata": {},
     "output_type": "execute_result"
    }
   ],
   "source": [
    "df.shape"
   ]
  },
  {
   "cell_type": "code",
   "execution_count": 599,
   "metadata": {},
   "outputs": [
    {
     "data": {
      "text/html": [
       "<div>\n",
       "<style scoped>\n",
       "    .dataframe tbody tr th:only-of-type {\n",
       "        vertical-align: middle;\n",
       "    }\n",
       "\n",
       "    .dataframe tbody tr th {\n",
       "        vertical-align: top;\n",
       "    }\n",
       "\n",
       "    .dataframe thead th {\n",
       "        text-align: right;\n",
       "    }\n",
       "</style>\n",
       "<table border=\"1\" class=\"dataframe\">\n",
       "  <thead>\n",
       "    <tr style=\"text-align: right;\">\n",
       "      <th></th>\n",
       "      <th>Rank</th>\n",
       "      <th>Title</th>\n",
       "      <th>Author</th>\n",
       "      <th>Volume Sales</th>\n",
       "      <th>Publisher</th>\n",
       "      <th>Genre</th>\n",
       "    </tr>\n",
       "  </thead>\n",
       "  <tbody>\n",
       "    <tr>\n",
       "      <th>6</th>\n",
       "      <td>7</td>\n",
       "      <td>Harry Potter and the Chamber of Secrets</td>\n",
       "      <td>Rowling, J.K.</td>\n",
       "      <td>3,484,047</td>\n",
       "      <td>Bloomsbury</td>\n",
       "      <td>Children's Fiction</td>\n",
       "    </tr>\n",
       "    <tr>\n",
       "      <th>40</th>\n",
       "      <td>41</td>\n",
       "      <td>Gruffalo's Child,The</td>\n",
       "      <td>Donaldson, Julia</td>\n",
       "      <td>1,208,711</td>\n",
       "      <td>Pan Macmillan</td>\n",
       "      <td>Picture Books</td>\n",
       "    </tr>\n",
       "    <tr>\n",
       "      <th>96</th>\n",
       "      <td>97</td>\n",
       "      <td>Happy Days with the Naked Chef</td>\n",
       "      <td>Oliver, Jamie</td>\n",
       "      <td>794,201</td>\n",
       "      <td>Penguin</td>\n",
       "      <td>Food &amp; Drink: General</td>\n",
       "    </tr>\n",
       "    <tr>\n",
       "      <th>37</th>\n",
       "      <td>38</td>\n",
       "      <td>Life of Pi</td>\n",
       "      <td>Martel, Yann</td>\n",
       "      <td>1,310,176</td>\n",
       "      <td>Canongate</td>\n",
       "      <td>General &amp; Literary Fiction</td>\n",
       "    </tr>\n",
       "    <tr>\n",
       "      <th>75</th>\n",
       "      <td>76</td>\n",
       "      <td>Notes from a Small Island</td>\n",
       "      <td>Bryson, Bill</td>\n",
       "      <td>931,312</td>\n",
       "      <td>Transworld</td>\n",
       "      <td>Travel Writing</td>\n",
       "    </tr>\n",
       "  </tbody>\n",
       "</table>\n",
       "</div>"
      ],
      "text/plain": [
       "   Rank                                    Title            Author  \\\n",
       "6     7  Harry Potter and the Chamber of Secrets     Rowling, J.K.   \n",
       "40   41                     Gruffalo's Child,The  Donaldson, Julia   \n",
       "96   97           Happy Days with the Naked Chef     Oliver, Jamie   \n",
       "37   38                               Life of Pi      Martel, Yann   \n",
       "75   76                Notes from a Small Island      Bryson, Bill   \n",
       "\n",
       "   Volume Sales      Publisher                       Genre  \n",
       "6     3,484,047     Bloomsbury          Children's Fiction  \n",
       "40    1,208,711  Pan Macmillan               Picture Books  \n",
       "96      794,201        Penguin       Food & Drink: General  \n",
       "37    1,310,176      Canongate  General & Literary Fiction  \n",
       "75      931,312     Transworld              Travel Writing  "
      ]
     },
     "execution_count": 599,
     "metadata": {},
     "output_type": "execute_result"
    }
   ],
   "source": [
    "df.sample(5)"
   ]
  },
  {
   "cell_type": "code",
   "execution_count": 600,
   "metadata": {},
   "outputs": [],
   "source": [
    "driver.close()"
   ]
  },
  {
   "cell_type": "markdown",
   "metadata": {},
   "source": [
    "# Q9\n",
    "Scrape the details most watched tv series of all time from imdb.com.\n",
    "Url = https://www.imdb.com/list/ls095964455/\n",
    "\n",
    "You have to find the following details:\n",
    "\n",
    "A) Name\n",
    "\n",
    "B) Year span\n",
    "\n",
    "C) Genre\n",
    "\n",
    "D) Run time\n",
    "\n",
    "E) Ratings\n",
    "\n",
    "F) Votes\n"
   ]
  },
  {
   "cell_type": "code",
   "execution_count": 601,
   "metadata": {},
   "outputs": [],
   "source": [
    "url = \"https://www.imdb.com/list/ls095964455/\"\n",
    "driver = webdriver.Chrome(r'C:\\Users\\AKHIL\\Downloads\\chromedriver_win32\\chromedriver.exe')\n",
    "driver.get(url)"
   ]
  },
  {
   "cell_type": "code",
   "execution_count": 602,
   "metadata": {},
   "outputs": [],
   "source": [
    "driver.execute_script(\"window.scrollTo(0, document.body.scrollHeight);\")\n",
    "driver.execute_script(\"window.scrollTo(0, 0);\")"
   ]
  },
  {
   "cell_type": "code",
   "execution_count": 603,
   "metadata": {},
   "outputs": [
    {
     "data": {
      "text/plain": [
       "100"
      ]
     },
     "execution_count": 603,
     "metadata": {},
     "output_type": "execute_result"
    }
   ],
   "source": [
    "length = driver.find_elements_by_xpath(\"//div[@class='lister-item-content']\")\n",
    "len(length)"
   ]
  },
  {
   "cell_type": "code",
   "execution_count": 606,
   "metadata": {},
   "outputs": [
    {
     "data": {
      "text/plain": [
       "100"
      ]
     },
     "execution_count": 606,
     "metadata": {},
     "output_type": "execute_result"
    }
   ],
   "source": [
    "Name = []\n",
    "for i in range(len(length)):\n",
    "    try:\n",
    "        k = driver.find_element_by_xpath(\"//div[@class='lister-item mode-detail'][{}]//div[@class='lister-item-content']//h3//a\".format(i+1))\n",
    "        Name.append(k.text)\n",
    "    except NoSuchElementException as e:\n",
    "        print( \" at \" , i+1 , \" : \" , e)\n",
    "        Name.append(\"-\")\n",
    "len(Name)"
   ]
  },
  {
   "cell_type": "code",
   "execution_count": 607,
   "metadata": {},
   "outputs": [
    {
     "data": {
      "text/plain": [
       "100"
      ]
     },
     "execution_count": 607,
     "metadata": {},
     "output_type": "execute_result"
    }
   ],
   "source": [
    "Year_span = []\n",
    "for i in range(len(length)):\n",
    "    try:\n",
    "        k = driver.find_element_by_xpath(\"//div[@class='lister-item mode-detail'][{}]//div[@class='lister-item-content']//h3//span[2]\".format(i+1))\n",
    "        Year_span.append(k.text)\n",
    "    except NoSuchElementException as e:\n",
    "        print( \" at \" , i+1 , \" : \" , e)\n",
    "        Year_span.append(\"-\")\n",
    "len(Year_span)"
   ]
  },
  {
   "cell_type": "code",
   "execution_count": 608,
   "metadata": {},
   "outputs": [
    {
     "data": {
      "text/plain": [
       "100"
      ]
     },
     "execution_count": 608,
     "metadata": {},
     "output_type": "execute_result"
    }
   ],
   "source": [
    "Genre = []\n",
    "for i in range(len(length)):\n",
    "    try:\n",
    "        k = driver.find_element_by_xpath(\"//div[@class='lister-item mode-detail'][{}]//div[@class='lister-item-content']//p[1]//span[@class='genre']\".format(i+1))\n",
    "        Genre.append(k.text)\n",
    "    except NoSuchElementException as e:\n",
    "        print( \" at \" , i+1 , \" : \" , e)\n",
    "        Genre.append(\"-\")\n",
    "len(Genre)"
   ]
  },
  {
   "cell_type": "code",
   "execution_count": 609,
   "metadata": {},
   "outputs": [
    {
     "data": {
      "text/plain": [
       "100"
      ]
     },
     "execution_count": 609,
     "metadata": {},
     "output_type": "execute_result"
    }
   ],
   "source": [
    "run_time = []\n",
    "for i in range(len(length)):\n",
    "    try:\n",
    "        k = driver.find_element_by_xpath(\"//div[@class='lister-item mode-detail'][{}]//div[@class='lister-item-content']//p[1]//span[@class='runtime']\".format(i+1))\n",
    "        run_time.append(k.text)\n",
    "    except NoSuchElementException as e:\n",
    "        print( \" at \" , i+1 , \" : \" , e)\n",
    "        run_time.append(\"-\")\n",
    "len(run_time)"
   ]
  },
  {
   "cell_type": "code",
   "execution_count": 610,
   "metadata": {},
   "outputs": [
    {
     "data": {
      "text/plain": [
       "100"
      ]
     },
     "execution_count": 610,
     "metadata": {},
     "output_type": "execute_result"
    }
   ],
   "source": [
    "ratings = []\n",
    "for i in range(len(length)):\n",
    "    try:\n",
    "        k = driver.find_element_by_xpath(\"//div[@class='lister-item mode-detail'][{}]//div[@class='lister-item-content']//div[@class='ipl-rating-widget']//div[1]//span[2]\".format(i+1))\n",
    "        ratings.append(k.text)\n",
    "    except NoSuchElementException as e:\n",
    "        print( \" at \" , i+1 , \" : \" , e)\n",
    "        ratings.append(\"-\")\n",
    "len(ratings)"
   ]
  },
  {
   "cell_type": "code",
   "execution_count": 611,
   "metadata": {},
   "outputs": [
    {
     "data": {
      "text/plain": [
       "100"
      ]
     },
     "execution_count": 611,
     "metadata": {},
     "output_type": "execute_result"
    }
   ],
   "source": [
    "votings = []\n",
    "for i in range(len(length)):\n",
    "    try:\n",
    "        k = driver.find_element_by_xpath(\"//div[@class='lister-item mode-detail'][{}]//div[@class='lister-item-content']//p[4]//span[2]\".format(i+1))\n",
    "        votings.append(k.text)\n",
    "    except NoSuchElementException as e:\n",
    "        print( \" at \" , i+1 , \" : \" , e)\n",
    "        votings.append(\"-\")\n",
    "len(votings)"
   ]
  },
  {
   "cell_type": "code",
   "execution_count": 612,
   "metadata": {},
   "outputs": [
    {
     "name": "stdout",
     "output_type": "stream",
     "text": [
      "(100, 6)\n"
     ]
    },
    {
     "data": {
      "text/html": [
       "<div>\n",
       "<style scoped>\n",
       "    .dataframe tbody tr th:only-of-type {\n",
       "        vertical-align: middle;\n",
       "    }\n",
       "\n",
       "    .dataframe tbody tr th {\n",
       "        vertical-align: top;\n",
       "    }\n",
       "\n",
       "    .dataframe thead th {\n",
       "        text-align: right;\n",
       "    }\n",
       "</style>\n",
       "<table border=\"1\" class=\"dataframe\">\n",
       "  <thead>\n",
       "    <tr style=\"text-align: right;\">\n",
       "      <th></th>\n",
       "      <th>Name</th>\n",
       "      <th>Year_span</th>\n",
       "      <th>Genre</th>\n",
       "      <th>Run_time</th>\n",
       "      <th>Ratings</th>\n",
       "      <th>Votes</th>\n",
       "    </tr>\n",
       "  </thead>\n",
       "  <tbody>\n",
       "    <tr>\n",
       "      <th>58</th>\n",
       "      <td>Quantico</td>\n",
       "      <td>(2015–2018)</td>\n",
       "      <td>Crime, Drama, Mystery</td>\n",
       "      <td>42 min</td>\n",
       "      <td>6.7</td>\n",
       "      <td>57,858</td>\n",
       "    </tr>\n",
       "    <tr>\n",
       "      <th>23</th>\n",
       "      <td>Teen Wolf</td>\n",
       "      <td>(2011–2017)</td>\n",
       "      <td>Action, Drama, Fantasy</td>\n",
       "      <td>41 min</td>\n",
       "      <td>7.6</td>\n",
       "      <td>131,136</td>\n",
       "    </tr>\n",
       "    <tr>\n",
       "      <th>65</th>\n",
       "      <td>The Good Doctor</td>\n",
       "      <td>(2017– )</td>\n",
       "      <td>Drama</td>\n",
       "      <td>41 min</td>\n",
       "      <td>8.1</td>\n",
       "      <td>67,724</td>\n",
       "    </tr>\n",
       "    <tr>\n",
       "      <th>11</th>\n",
       "      <td>The Big Bang Theory</td>\n",
       "      <td>(2007–2019)</td>\n",
       "      <td>Comedy, Romance</td>\n",
       "      <td>22 min</td>\n",
       "      <td>8.1</td>\n",
       "      <td>737,538</td>\n",
       "    </tr>\n",
       "    <tr>\n",
       "      <th>67</th>\n",
       "      <td>Glee</td>\n",
       "      <td>(2009–2015)</td>\n",
       "      <td>Comedy, Drama, Music</td>\n",
       "      <td>44 min</td>\n",
       "      <td>6.7</td>\n",
       "      <td>138,858</td>\n",
       "    </tr>\n",
       "  </tbody>\n",
       "</table>\n",
       "</div>"
      ],
      "text/plain": [
       "                   Name    Year_span                   Genre Run_time Ratings  \\\n",
       "58             Quantico  (2015–2018)   Crime, Drama, Mystery   42 min     6.7   \n",
       "23            Teen Wolf  (2011–2017)  Action, Drama, Fantasy   41 min     7.6   \n",
       "65      The Good Doctor     (2017– )                   Drama   41 min     8.1   \n",
       "11  The Big Bang Theory  (2007–2019)         Comedy, Romance   22 min     8.1   \n",
       "67                 Glee  (2009–2015)    Comedy, Drama, Music   44 min     6.7   \n",
       "\n",
       "      Votes  \n",
       "58   57,858  \n",
       "23  131,136  \n",
       "65   67,724  \n",
       "11  737,538  \n",
       "67  138,858  "
      ]
     },
     "execution_count": 612,
     "metadata": {},
     "output_type": "execute_result"
    }
   ],
   "source": [
    "df = pd.DataFrame({\"Name\":Name, \"Year_span\":Year_span, \"Genre\":Genre, \"Run_time\":run_time, \"Ratings\":ratings, \"Votes\":votings})\n",
    "print(df.shape)\n",
    "df.sample(5)"
   ]
  },
  {
   "cell_type": "code",
   "execution_count": 613,
   "metadata": {},
   "outputs": [],
   "source": [
    "driver.close()"
   ]
  },
  {
   "cell_type": "markdown",
   "metadata": {},
   "source": [
    "# Q10\n",
    "Details of Datasets from UCI machine learning repositories.\n",
    "Url = https://archive.ics.uci.edu/\n",
    "\n",
    "You have to find the following details:\n",
    "\n",
    "A) Dataset name\n",
    "\n",
    "B) Data type\n",
    "\n",
    "C) Task\n",
    "\n",
    "D) Attribute type\n",
    "\n",
    "E) No of instances\n",
    "\n",
    "F) No of attribute\n",
    "\n",
    "G) Year\n",
    "\n",
    "Note: - from the home page you have to go to the Show All Dataset page through code"
   ]
  },
  {
   "cell_type": "code",
   "execution_count": 614,
   "metadata": {},
   "outputs": [],
   "source": [
    "url = \"https://archive.ics.uci.edu/\"\n",
    "driver = webdriver.Chrome(r'C:\\Users\\AKHIL\\Downloads\\chromedriver_win32\\chromedriver.exe')\n",
    "driver.get(url)"
   ]
  },
  {
   "cell_type": "code",
   "execution_count": 615,
   "metadata": {},
   "outputs": [],
   "source": [
    "destination = driver.find_element_by_xpath(\"//table//tbody//tr//td[2]//span[2]//a\")\n",
    "destination.click()"
   ]
  },
  {
   "cell_type": "code",
   "execution_count": 618,
   "metadata": {},
   "outputs": [
    {
     "data": {
      "text/plain": [
       "['Name',\n",
       " 'Data Types',\n",
       " 'Default Task',\n",
       " 'Attribute Types',\n",
       " '# Instances',\n",
       " '# Attributes',\n",
       " 'Year']"
      ]
     },
     "execution_count": 618,
     "metadata": {},
     "output_type": "execute_result"
    }
   ],
   "source": [
    "columns = []\n",
    "k = driver.find_elements_by_xpath(\"//body//table[2]//tbody//tr//td[2]//table[2]//tbody//tr//td//p//a//b\")\n",
    "for i in k:\n",
    "    columns.append(i.text)\n",
    "columns"
   ]
  },
  {
   "cell_type": "code",
   "execution_count": 625,
   "metadata": {},
   "outputs": [
    {
     "data": {
      "text/plain": [
       "1177"
      ]
     },
     "execution_count": 625,
     "metadata": {},
     "output_type": "execute_result"
    }
   ],
   "source": [
    "length = driver.find_elements_by_xpath(\"//body//table[2]//tbody//tr//td[2]//table[@border='1']//tbody//tr\")\n",
    "len(length)"
   ]
  },
  {
   "cell_type": "markdown",
   "metadata": {},
   "source": [
    "There is a table inside the first column of the main table. Hence, the elements are 1177//2 = 588"
   ]
  },
  {
   "cell_type": "code",
   "execution_count": 620,
   "metadata": {},
   "outputs": [],
   "source": [
    "driver.execute_script(\"window.scrollTo(0, document.body.scrollHeight);\")"
   ]
  },
  {
   "cell_type": "code",
   "execution_count": 630,
   "metadata": {},
   "outputs": [],
   "source": [
    "for i in range((len(length)//2)):\n",
    "    row = []\n",
    "    for j in range(len(columns)):\n",
    "        if j == 0:\n",
    "            try:\n",
    "                k = driver.find_element_by_xpath(\"//body//table[2]//tbody//tr//td[2]//table[2]//tbody//tr[{}]//td[{}]//table//tbody//tr//td[2]//p//b//a\".format(i+2,j+1))\n",
    "                row.append(k.text)\n",
    "            except NoSuchElementException as e:\n",
    "                print( i+1, \"row and \",j+1,\"column : \", e)\n",
    "                row.append('-')\n",
    "        else:\n",
    "            try:\n",
    "                k = driver.find_element_by_xpath(\"//body//table[2]//tbody//tr//td[2]//table[2]//tbody//tr[{}]//td[{}]//p\".format(i+2,j+1))\n",
    "                row.append(k.text)\n",
    "            except NoSuchElementException as e:\n",
    "                print( i+1, \"row and \",j+1,\"column : \", e)\n",
    "                row.append('-')\n",
    "    if i == 0:\n",
    "        df = pd.DataFrame([row],columns=columns)\n",
    "    else:\n",
    "        df = pd.concat([df,pd.DataFrame([row],columns=columns)],axis=0)"
   ]
  },
  {
   "cell_type": "code",
   "execution_count": 631,
   "metadata": {},
   "outputs": [
    {
     "data": {
      "text/plain": [
       "(588, 7)"
      ]
     },
     "execution_count": 631,
     "metadata": {},
     "output_type": "execute_result"
    }
   ],
   "source": [
    "df.shape"
   ]
  },
  {
   "cell_type": "code",
   "execution_count": 632,
   "metadata": {},
   "outputs": [
    {
     "data": {
      "text/html": [
       "<div>\n",
       "<style scoped>\n",
       "    .dataframe tbody tr th:only-of-type {\n",
       "        vertical-align: middle;\n",
       "    }\n",
       "\n",
       "    .dataframe tbody tr th {\n",
       "        vertical-align: top;\n",
       "    }\n",
       "\n",
       "    .dataframe thead th {\n",
       "        text-align: right;\n",
       "    }\n",
       "</style>\n",
       "<table border=\"1\" class=\"dataframe\">\n",
       "  <thead>\n",
       "    <tr style=\"text-align: right;\">\n",
       "      <th></th>\n",
       "      <th>Name</th>\n",
       "      <th>Data Types</th>\n",
       "      <th>Default Task</th>\n",
       "      <th>Attribute Types</th>\n",
       "      <th># Instances</th>\n",
       "      <th># Attributes</th>\n",
       "      <th>Year</th>\n",
       "    </tr>\n",
       "  </thead>\n",
       "  <tbody>\n",
       "    <tr>\n",
       "      <th>0</th>\n",
       "      <td>Abalone</td>\n",
       "      <td>Abalone</td>\n",
       "      <td>Classification</td>\n",
       "      <td>Categorical, Integer, Real</td>\n",
       "      <td>4177</td>\n",
       "      <td>8</td>\n",
       "      <td>1995</td>\n",
       "    </tr>\n",
       "    <tr>\n",
       "      <th>0</th>\n",
       "      <td>Adult</td>\n",
       "      <td>Adult</td>\n",
       "      <td>Classification</td>\n",
       "      <td>Categorical, Integer</td>\n",
       "      <td>48842</td>\n",
       "      <td>14</td>\n",
       "      <td>1996</td>\n",
       "    </tr>\n",
       "    <tr>\n",
       "      <th>0</th>\n",
       "      <td>Annealing</td>\n",
       "      <td>Annealing</td>\n",
       "      <td>Classification</td>\n",
       "      <td>Categorical, Integer, Real</td>\n",
       "      <td>798</td>\n",
       "      <td>38</td>\n",
       "      <td></td>\n",
       "    </tr>\n",
       "    <tr>\n",
       "      <th>0</th>\n",
       "      <td>Anonymous Microsoft Web Data</td>\n",
       "      <td>Anonymous Microsoft Web Data</td>\n",
       "      <td>Recommender-Systems</td>\n",
       "      <td>Categorical</td>\n",
       "      <td>37711</td>\n",
       "      <td>294</td>\n",
       "      <td>1998</td>\n",
       "    </tr>\n",
       "    <tr>\n",
       "      <th>0</th>\n",
       "      <td>Arrhythmia</td>\n",
       "      <td>Arrhythmia</td>\n",
       "      <td>Classification</td>\n",
       "      <td>Categorical, Integer, Real</td>\n",
       "      <td>452</td>\n",
       "      <td>279</td>\n",
       "      <td>1998</td>\n",
       "    </tr>\n",
       "  </tbody>\n",
       "</table>\n",
       "</div>"
      ],
      "text/plain": [
       "                           Name                    Data Types  \\\n",
       "0                       Abalone                       Abalone   \n",
       "0                         Adult                         Adult   \n",
       "0                     Annealing                     Annealing   \n",
       "0  Anonymous Microsoft Web Data  Anonymous Microsoft Web Data   \n",
       "0                    Arrhythmia                    Arrhythmia   \n",
       "\n",
       "           Default Task              Attribute Types # Instances # Attributes  \\\n",
       "0       Classification   Categorical, Integer, Real        4177            8    \n",
       "0       Classification         Categorical, Integer       48842           14    \n",
       "0       Classification   Categorical, Integer, Real         798           38    \n",
       "0  Recommender-Systems                  Categorical       37711          294    \n",
       "0       Classification   Categorical, Integer, Real         452          279    \n",
       "\n",
       "    Year  \n",
       "0  1995   \n",
       "0  1996   \n",
       "0         \n",
       "0  1998   \n",
       "0  1998   "
      ]
     },
     "execution_count": 632,
     "metadata": {},
     "output_type": "execute_result"
    }
   ],
   "source": [
    "df.head()"
   ]
  },
  {
   "cell_type": "code",
   "execution_count": 633,
   "metadata": {},
   "outputs": [
    {
     "data": {
      "text/html": [
       "<div>\n",
       "<style scoped>\n",
       "    .dataframe tbody tr th:only-of-type {\n",
       "        vertical-align: middle;\n",
       "    }\n",
       "\n",
       "    .dataframe tbody tr th {\n",
       "        vertical-align: top;\n",
       "    }\n",
       "\n",
       "    .dataframe thead th {\n",
       "        text-align: right;\n",
       "    }\n",
       "</style>\n",
       "<table border=\"1\" class=\"dataframe\">\n",
       "  <thead>\n",
       "    <tr style=\"text-align: right;\">\n",
       "      <th></th>\n",
       "      <th>Name</th>\n",
       "      <th>Data Types</th>\n",
       "      <th>Default Task</th>\n",
       "      <th>Attribute Types</th>\n",
       "      <th># Instances</th>\n",
       "      <th># Attributes</th>\n",
       "      <th>Year</th>\n",
       "    </tr>\n",
       "  </thead>\n",
       "  <tbody>\n",
       "    <tr>\n",
       "      <th>0</th>\n",
       "      <td>Abalone</td>\n",
       "      <td>Abalone</td>\n",
       "      <td>Classification</td>\n",
       "      <td>Categorical, Integer, Real</td>\n",
       "      <td>4177</td>\n",
       "      <td>8</td>\n",
       "      <td>1995</td>\n",
       "    </tr>\n",
       "    <tr>\n",
       "      <th>1</th>\n",
       "      <td>Adult</td>\n",
       "      <td>Adult</td>\n",
       "      <td>Classification</td>\n",
       "      <td>Categorical, Integer</td>\n",
       "      <td>48842</td>\n",
       "      <td>14</td>\n",
       "      <td>1996</td>\n",
       "    </tr>\n",
       "    <tr>\n",
       "      <th>2</th>\n",
       "      <td>Annealing</td>\n",
       "      <td>Annealing</td>\n",
       "      <td>Classification</td>\n",
       "      <td>Categorical, Integer, Real</td>\n",
       "      <td>798</td>\n",
       "      <td>38</td>\n",
       "      <td></td>\n",
       "    </tr>\n",
       "    <tr>\n",
       "      <th>3</th>\n",
       "      <td>Anonymous Microsoft Web Data</td>\n",
       "      <td>Anonymous Microsoft Web Data</td>\n",
       "      <td>Recommender-Systems</td>\n",
       "      <td>Categorical</td>\n",
       "      <td>37711</td>\n",
       "      <td>294</td>\n",
       "      <td>1998</td>\n",
       "    </tr>\n",
       "    <tr>\n",
       "      <th>4</th>\n",
       "      <td>Arrhythmia</td>\n",
       "      <td>Arrhythmia</td>\n",
       "      <td>Classification</td>\n",
       "      <td>Categorical, Integer, Real</td>\n",
       "      <td>452</td>\n",
       "      <td>279</td>\n",
       "      <td>1998</td>\n",
       "    </tr>\n",
       "  </tbody>\n",
       "</table>\n",
       "</div>"
      ],
      "text/plain": [
       "                           Name                    Data Types  \\\n",
       "0                       Abalone                       Abalone   \n",
       "1                         Adult                         Adult   \n",
       "2                     Annealing                     Annealing   \n",
       "3  Anonymous Microsoft Web Data  Anonymous Microsoft Web Data   \n",
       "4                    Arrhythmia                    Arrhythmia   \n",
       "\n",
       "           Default Task              Attribute Types # Instances # Attributes  \\\n",
       "0       Classification   Categorical, Integer, Real        4177            8    \n",
       "1       Classification         Categorical, Integer       48842           14    \n",
       "2       Classification   Categorical, Integer, Real         798           38    \n",
       "3  Recommender-Systems                  Categorical       37711          294    \n",
       "4       Classification   Categorical, Integer, Real         452          279    \n",
       "\n",
       "    Year  \n",
       "0  1995   \n",
       "1  1996   \n",
       "2         \n",
       "3  1998   \n",
       "4  1998   "
      ]
     },
     "execution_count": 633,
     "metadata": {},
     "output_type": "execute_result"
    }
   ],
   "source": [
    "df = df.reset_index().drop(columns = ['index'])\n",
    "df.head()"
   ]
  },
  {
   "cell_type": "code",
   "execution_count": null,
   "metadata": {},
   "outputs": [],
   "source": []
  }
 ],
 "metadata": {
  "kernelspec": {
   "display_name": "Python 3",
   "language": "python",
   "name": "python3"
  },
  "language_info": {
   "codemirror_mode": {
    "name": "ipython",
    "version": 3
   },
   "file_extension": ".py",
   "mimetype": "text/x-python",
   "name": "python",
   "nbconvert_exporter": "python",
   "pygments_lexer": "ipython3",
   "version": "3.8.5"
  }
 },
 "nbformat": 4,
 "nbformat_minor": 4
}
